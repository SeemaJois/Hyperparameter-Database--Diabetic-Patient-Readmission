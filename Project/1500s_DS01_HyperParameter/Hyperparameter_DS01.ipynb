{
 "cells": [
  {
   "cell_type": "markdown",
   "metadata": {},
   "source": [
    "# Abstract\n",
    "\n",
    "Kaggle dataset: https://www.kaggle.com/brandao/diabetes\n",
    "\n",
    "\n",
    "We picked a publicly available dataset from UCI repository containing de-identified diabetes patient encounter data for 130 US hospitals (1999–2008) containing 101,766 observations over 10 years. The dataset has over 50 features including patient characteristics, conditions, tests and 23 medications. Only diabetic encounters are included (i.e. at least one of three primary diagnosis was diabetes).\n",
    "\n",
    "Applied methods are:\n",
    "* Cleaning tasks such as dropping bad data, dealing with missing values.\n",
    "* Modification of existing features e.g. standardization, log transforms etc.\n",
    "* Creation or derivation of new features, usually from existing ones.\n",
    "* Graphs such as plots, heatmap have been used.\n",
    "\n"
   ]
  },
  {
   "cell_type": "markdown",
   "metadata": {},
   "source": [
    "## Overview of Dataset"
   ]
  },
  {
   "cell_type": "markdown",
   "metadata": {},
   "source": [
    "### Starting H2O server¶"
   ]
  },
  {
   "cell_type": "code",
   "execution_count": 1,
   "metadata": {},
   "outputs": [],
   "source": [
    "# import h2o package and specific estimator \n",
    "\n",
    "import h2o\n",
    "from h2o.automl import H2OAutoML\n",
    "import random, os, sys\n",
    "from datetime import datetime\n",
    "import pandas as pd\n",
    "import logging\n",
    "import csv\n",
    "import optparse\n",
    "import time\n",
    "import json\n",
    "from distutils.util import strtobool\n",
    "import psutil\n",
    "import numpy as np\n",
    "import seaborn\n",
    "import itertools\n",
    "import seaborn as sns\n",
    "import matplotlib.pyplot as plt\n",
    "from h2o.estimators.glm import H2OGeneralizedLinearEstimator\n",
    "from h2o.estimators.gbm import H2OGradientBoostingEstimator\n",
    "from h2o.estimators.random_forest import H2ORandomForestEstimator\n",
    "from sklearn.model_selection import train_test_split, cross_val_score, cross_val_predict"
   ]
  },
  {
   "cell_type": "markdown",
   "metadata": {},
   "source": [
    "### Required Data Parameters\n",
    "\n",
    "* y: This argument is the name (or index) of the response column.\n",
    "* training_frame: Specifies the training set.\n",
    "\n",
    "### Required Stopping Parameters\n",
    "\n",
    "* max_runtime_secs: This argument controls how long the AutoML run will execute for. This defaults to 3600 seconds (1 hour).\n",
    "* max_models: Specify the maximum number of models to build in an AutoML run, excluding the Stacked Ensemble models. Defaults to NULL/None.\n"
   ]
  },
  {
   "cell_type": "code",
   "execution_count": 2,
   "metadata": {},
   "outputs": [
    {
     "name": "stdout",
     "output_type": "stream",
     "text": [
      "2\n"
     ]
    }
   ],
   "source": [
    "pct_memory=0.5\n",
    "virtual_memory=psutil.virtual_memory()\n",
    "min_mem_size=int(round(int(pct_memory*virtual_memory.available)/1073741824,0))\n",
    "print(min_mem_size)"
   ]
  },
  {
   "cell_type": "code",
   "execution_count": 3,
   "metadata": {},
   "outputs": [
    {
     "name": "stdout",
     "output_type": "stream",
     "text": [
      "Checking whether there is an H2O instance running at http://localhost:8711..... not found.\n",
      "Attempting to start a local H2O server...\n",
      "; OpenJDK 64-Bit Server VM (build 25.152-b12, mixed mode)56-b12)\n",
      "  Starting server from C:\\Anaconda3\\lib\\site-packages\\h2o\\backend\\bin\\h2o.jar\n",
      "  Ice root: C:\\Users\\joiss\\AppData\\Local\\Temp\\tmp017za911\n",
      "  JVM stdout: C:\\Users\\joiss\\AppData\\Local\\Temp\\tmp017za911\\h2o_joiss_started_from_python.out\n",
      "  JVM stderr: C:\\Users\\joiss\\AppData\\Local\\Temp\\tmp017za911\\h2o_joiss_started_from_python.err\n",
      "  Server is running at http://127.0.0.1:8711\n",
      "Connecting to H2O server at http://127.0.0.1:8711... successful.\n"
     ]
    },
    {
     "data": {
      "text/html": [
       "<div style=\"overflow:auto\"><table style=\"width:50%\"><tr><td>H2O cluster uptime:</td>\n",
       "<td>01 secs</td></tr>\n",
       "<tr><td>H2O cluster timezone:</td>\n",
       "<td>America/New_York</td></tr>\n",
       "<tr><td>H2O data parsing timezone:</td>\n",
       "<td>UTC</td></tr>\n",
       "<tr><td>H2O cluster version:</td>\n",
       "<td>3.22.1.3</td></tr>\n",
       "<tr><td>H2O cluster version age:</td>\n",
       "<td>3 months </td></tr>\n",
       "<tr><td>H2O cluster name:</td>\n",
       "<td>H2O_from_python_joiss_6jtwqr</td></tr>\n",
       "<tr><td>H2O cluster total nodes:</td>\n",
       "<td>1</td></tr>\n",
       "<tr><td>H2O cluster free memory:</td>\n",
       "<td>3.521 Gb</td></tr>\n",
       "<tr><td>H2O cluster total cores:</td>\n",
       "<td>8</td></tr>\n",
       "<tr><td>H2O cluster allowed cores:</td>\n",
       "<td>8</td></tr>\n",
       "<tr><td>H2O cluster status:</td>\n",
       "<td>accepting new members, healthy</td></tr>\n",
       "<tr><td>H2O connection url:</td>\n",
       "<td>http://127.0.0.1:8711</td></tr>\n",
       "<tr><td>H2O connection proxy:</td>\n",
       "<td>None</td></tr>\n",
       "<tr><td>H2O internal security:</td>\n",
       "<td>False</td></tr>\n",
       "<tr><td>H2O API Extensions:</td>\n",
       "<td>Algos, AutoML, Core V3, Core V4</td></tr>\n",
       "<tr><td>Python version:</td>\n",
       "<td>3.7.1 final</td></tr></table></div>"
      ],
      "text/plain": [
       "--------------------------  -------------------------------\n",
       "H2O cluster uptime:         01 secs\n",
       "H2O cluster timezone:       America/New_York\n",
       "H2O data parsing timezone:  UTC\n",
       "H2O cluster version:        3.22.1.3\n",
       "H2O cluster version age:    3 months\n",
       "H2O cluster name:           H2O_from_python_joiss_6jtwqr\n",
       "H2O cluster total nodes:    1\n",
       "H2O cluster free memory:    3.521 Gb\n",
       "H2O cluster total cores:    8\n",
       "H2O cluster allowed cores:  8\n",
       "H2O cluster status:         accepting new members, healthy\n",
       "H2O connection url:         http://127.0.0.1:8711\n",
       "H2O connection proxy:\n",
       "H2O internal security:      False\n",
       "H2O API Extensions:         Algos, AutoML, Core V3, Core V4\n",
       "Python version:             3.7.1 final\n",
       "--------------------------  -------------------------------"
      ]
     },
     "metadata": {},
     "output_type": "display_data"
    }
   ],
   "source": [
    "# 65535 Highest port no\n",
    "port_no=random.randint(5555,55555)\n",
    "\n",
    " # start h2o\n",
    "h2o.init(strict_version_check=False,min_mem_size_GB=min_mem_size,port=port_no) # start h2o\n"
   ]
  },
  {
   "cell_type": "markdown",
   "metadata": {},
   "source": [
    "## Data overview"
   ]
  },
  {
   "cell_type": "code",
   "execution_count": 4,
   "metadata": {},
   "outputs": [
    {
     "name": "stdout",
     "output_type": "stream",
     "text": [
      "Parse progress: |█████████████████████████████████████████████████████████| 100%\n"
     ]
    }
   ],
   "source": [
    "# Import data and manage data types\n",
    "train_path = \"Dataset/diabetes_train.csv\"\n",
    "df = h2o.import_file(train_path)"
   ]
  },
  {
   "cell_type": "code",
   "execution_count": 5,
   "metadata": {},
   "outputs": [
    {
     "data": {
      "text/html": [
       "<table>\n",
       "<thead>\n",
       "<tr><th style=\"text-align: right;\">              id</th><th style=\"text-align: right;\">  patient_nbr</th><th>race           </th><th>gender  </th><th>age    </th><th>weight  </th><th style=\"text-align: right;\">  admission_type_id</th><th style=\"text-align: right;\">  discharge_disposition_id</th><th style=\"text-align: right;\">  admission_source_id</th><th style=\"text-align: right;\">  time_in_hospital</th><th>payer_code  </th><th>medical_specialty       </th><th style=\"text-align: right;\">  num_lab_procedures</th><th style=\"text-align: right;\">  num_procedures</th><th style=\"text-align: right;\">  num_medications</th><th style=\"text-align: right;\">  number_outpatient</th><th style=\"text-align: right;\">  number_emergency</th><th style=\"text-align: right;\">  number_inpatient</th><th style=\"text-align: right;\">  diag_1</th><th style=\"text-align: right;\">  diag_2</th><th style=\"text-align: right;\">  diag_3</th><th style=\"text-align: right;\">  number_diagnoses</th><th>max_glu_serum  </th><th>A1Cresult  </th><th>metformin  </th><th>repaglinide  </th><th>nateglinide  </th><th>chlorpropamide  </th><th>glimepiride  </th><th>acetohexamide  </th><th>glipizide  </th><th>glyburide  </th><th>tolbutamide  </th><th>pioglitazone  </th><th>rosiglitazone  </th><th>acarbose  </th><th>miglitol  </th><th>troglitazone  </th><th>tolazamide  </th><th>examide  </th><th>citoglipton  </th><th>insulin  </th><th>glyburide-metformin  </th><th>glipizide-metformin  </th><th>glimepiride-pioglitazone  </th><th>metformin-rosiglitazone  </th><th>metformin-pioglitazone  </th><th>change  </th><th>diabetesMed  </th><th>readmitted  </th></tr>\n",
       "</thead>\n",
       "<tbody>\n",
       "<tr><td style=\"text-align: right;\">     2.27839e+06</td><td style=\"text-align: right;\">  8.22216e+06</td><td>Caucasian      </td><td>Female  </td><td>[0-10) </td><td>?       </td><td style=\"text-align: right;\">                  6</td><td style=\"text-align: right;\">                        25</td><td style=\"text-align: right;\">                    1</td><td style=\"text-align: right;\">                 1</td><td>?           </td><td>Pediatrics-Endocrinology</td><td style=\"text-align: right;\">                  41</td><td style=\"text-align: right;\">               0</td><td style=\"text-align: right;\">                1</td><td style=\"text-align: right;\">                  0</td><td style=\"text-align: right;\">                 0</td><td style=\"text-align: right;\">                 0</td><td style=\"text-align: right;\">  250.83</td><td style=\"text-align: right;\">  nan   </td><td style=\"text-align: right;\">     nan</td><td style=\"text-align: right;\">                 1</td><td>None           </td><td>None       </td><td>No         </td><td>No           </td><td>No           </td><td>No              </td><td>No           </td><td>No             </td><td>No         </td><td>No         </td><td>No           </td><td>No            </td><td>No             </td><td>No        </td><td>No        </td><td>No            </td><td>No          </td><td>No       </td><td>No           </td><td>No       </td><td>No                   </td><td>No                   </td><td>No                        </td><td>No                       </td><td>No                      </td><td>No      </td><td>No           </td><td>NO          </td></tr>\n",
       "<tr><td style=\"text-align: right;\"> 64410          </td><td style=\"text-align: right;\">  8.60479e+07</td><td>AfricanAmerican</td><td>Female  </td><td>[20-30)</td><td>?       </td><td style=\"text-align: right;\">                  1</td><td style=\"text-align: right;\">                         1</td><td style=\"text-align: right;\">                    7</td><td style=\"text-align: right;\">                 2</td><td>?           </td><td>?                       </td><td style=\"text-align: right;\">                  11</td><td style=\"text-align: right;\">               5</td><td style=\"text-align: right;\">               13</td><td style=\"text-align: right;\">                  2</td><td style=\"text-align: right;\">                 0</td><td style=\"text-align: right;\">                 1</td><td style=\"text-align: right;\">  648   </td><td style=\"text-align: right;\">  250   </td><td style=\"text-align: right;\">     nan</td><td style=\"text-align: right;\">                 6</td><td>None           </td><td>None       </td><td>No         </td><td>No           </td><td>No           </td><td>No              </td><td>No           </td><td>No             </td><td>Steady     </td><td>No         </td><td>No           </td><td>No            </td><td>No             </td><td>No        </td><td>No        </td><td>No            </td><td>No          </td><td>No       </td><td>No           </td><td>No       </td><td>No                   </td><td>No                   </td><td>No                        </td><td>No                       </td><td>No                      </td><td>No      </td><td>Yes          </td><td>NO          </td></tr>\n",
       "<tr><td style=\"text-align: right;\">500364          </td><td style=\"text-align: right;\">  8.24424e+07</td><td>Caucasian      </td><td>Male    </td><td>[30-40)</td><td>?       </td><td style=\"text-align: right;\">                  1</td><td style=\"text-align: right;\">                         1</td><td style=\"text-align: right;\">                    7</td><td style=\"text-align: right;\">                 2</td><td>?           </td><td>?                       </td><td style=\"text-align: right;\">                  44</td><td style=\"text-align: right;\">               1</td><td style=\"text-align: right;\">               16</td><td style=\"text-align: right;\">                  0</td><td style=\"text-align: right;\">                 0</td><td style=\"text-align: right;\">                 0</td><td style=\"text-align: right;\">    8   </td><td style=\"text-align: right;\">  250.43</td><td style=\"text-align: right;\">     403</td><td style=\"text-align: right;\">                 7</td><td>None           </td><td>None       </td><td>No         </td><td>No           </td><td>No           </td><td>No              </td><td>No           </td><td>No             </td><td>No         </td><td>No         </td><td>No           </td><td>No            </td><td>No             </td><td>No        </td><td>No        </td><td>No            </td><td>No          </td><td>No       </td><td>No           </td><td>Up       </td><td>No                   </td><td>No                   </td><td>No                        </td><td>No                       </td><td>No                      </td><td>Ch      </td><td>Yes          </td><td>NO          </td></tr>\n",
       "<tr><td style=\"text-align: right;\"> 16680          </td><td style=\"text-align: right;\">  4.25193e+07</td><td>Caucasian      </td><td>Male    </td><td>[40-50)</td><td>?       </td><td style=\"text-align: right;\">                  1</td><td style=\"text-align: right;\">                         1</td><td style=\"text-align: right;\">                    7</td><td style=\"text-align: right;\">                 1</td><td>?           </td><td>?                       </td><td style=\"text-align: right;\">                  51</td><td style=\"text-align: right;\">               0</td><td style=\"text-align: right;\">                8</td><td style=\"text-align: right;\">                  0</td><td style=\"text-align: right;\">                 0</td><td style=\"text-align: right;\">                 0</td><td style=\"text-align: right;\">  197   </td><td style=\"text-align: right;\">  157   </td><td style=\"text-align: right;\">     250</td><td style=\"text-align: right;\">                 5</td><td>None           </td><td>None       </td><td>No         </td><td>No           </td><td>No           </td><td>No              </td><td>No           </td><td>No             </td><td>Steady     </td><td>No         </td><td>No           </td><td>No            </td><td>No             </td><td>No        </td><td>No        </td><td>No            </td><td>No          </td><td>No       </td><td>No           </td><td>Steady   </td><td>No                   </td><td>No                   </td><td>No                        </td><td>No                       </td><td>No                      </td><td>Ch      </td><td>Yes          </td><td>NO          </td></tr>\n",
       "<tr><td style=\"text-align: right;\"> 55842          </td><td style=\"text-align: right;\">  8.42598e+07</td><td>Caucasian      </td><td>Male    </td><td>[60-70)</td><td>?       </td><td style=\"text-align: right;\">                  3</td><td style=\"text-align: right;\">                         1</td><td style=\"text-align: right;\">                    2</td><td style=\"text-align: right;\">                 4</td><td>?           </td><td>?                       </td><td style=\"text-align: right;\">                  70</td><td style=\"text-align: right;\">               1</td><td style=\"text-align: right;\">               21</td><td style=\"text-align: right;\">                  0</td><td style=\"text-align: right;\">                 0</td><td style=\"text-align: right;\">                 0</td><td style=\"text-align: right;\">  414   </td><td style=\"text-align: right;\">  411   </td><td style=\"text-align: right;\">     nan</td><td style=\"text-align: right;\">                 7</td><td>None           </td><td>None       </td><td>Steady     </td><td>No           </td><td>No           </td><td>No              </td><td>Steady       </td><td>No             </td><td>No         </td><td>No         </td><td>No           </td><td>No            </td><td>No             </td><td>No        </td><td>No        </td><td>No            </td><td>No          </td><td>No       </td><td>No           </td><td>Steady   </td><td>No                   </td><td>No                   </td><td>No                        </td><td>No                       </td><td>No                      </td><td>Ch      </td><td>Yes          </td><td>NO          </td></tr>\n",
       "</tbody>\n",
       "</table>"
      ]
     },
     "metadata": {},
     "output_type": "display_data"
    },
    {
     "data": {
      "text/plain": []
     },
     "execution_count": 5,
     "metadata": {},
     "output_type": "execute_result"
    }
   ],
   "source": [
    "df.head(5)"
   ]
  },
  {
   "cell_type": "code",
   "execution_count": 6,
   "metadata": {},
   "outputs": [
    {
     "data": {
      "text/html": [
       "<table>\n",
       "<thead>\n",
       "<tr><th style=\"text-align: right;\">         id</th><th style=\"text-align: right;\">  patient_nbr</th><th>race           </th><th>gender  </th><th>age    </th><th>weight  </th><th style=\"text-align: right;\">  admission_type_id</th><th style=\"text-align: right;\">  discharge_disposition_id</th><th style=\"text-align: right;\">  admission_source_id</th><th style=\"text-align: right;\">  time_in_hospital</th><th>payer_code  </th><th>medical_specialty  </th><th style=\"text-align: right;\">  num_lab_procedures</th><th style=\"text-align: right;\">  num_procedures</th><th style=\"text-align: right;\">  num_medications</th><th style=\"text-align: right;\">  number_outpatient</th><th style=\"text-align: right;\">  number_emergency</th><th style=\"text-align: right;\">  number_inpatient</th><th style=\"text-align: right;\">  diag_1</th><th style=\"text-align: right;\">  diag_2</th><th style=\"text-align: right;\">  diag_3</th><th style=\"text-align: right;\">  number_diagnoses</th><th>max_glu_serum  </th><th>A1Cresult  </th><th>metformin  </th><th>repaglinide  </th><th>nateglinide  </th><th>chlorpropamide  </th><th>glimepiride  </th><th>acetohexamide  </th><th>glipizide  </th><th>glyburide  </th><th>tolbutamide  </th><th>pioglitazone  </th><th>rosiglitazone  </th><th>acarbose  </th><th>miglitol  </th><th>troglitazone  </th><th>tolazamide  </th><th>examide  </th><th>citoglipton  </th><th>insulin  </th><th>glyburide-metformin  </th><th>glipizide-metformin  </th><th>glimepiride-pioglitazone  </th><th>metformin-rosiglitazone  </th><th>metformin-pioglitazone  </th><th>change  </th><th>diabetesMed  </th><th>readmitted  </th></tr>\n",
       "</thead>\n",
       "<tbody>\n",
       "<tr><td style=\"text-align: right;\">2.40242e+08</td><td style=\"text-align: right;\">  4.57489e+07</td><td>Caucasian      </td><td>Male    </td><td>[60-70)</td><td>?       </td><td style=\"text-align: right;\">                  3</td><td style=\"text-align: right;\">                         1</td><td style=\"text-align: right;\">                    1</td><td style=\"text-align: right;\">                 6</td><td>?           </td><td>?                  </td><td style=\"text-align: right;\">                  62</td><td style=\"text-align: right;\">               6</td><td style=\"text-align: right;\">               50</td><td style=\"text-align: right;\">                  0</td><td style=\"text-align: right;\">                 0</td><td style=\"text-align: right;\">                 0</td><td style=\"text-align: right;\">  414   </td><td style=\"text-align: right;\">     411</td><td style=\"text-align: right;\">     427</td><td style=\"text-align: right;\">                 8</td><td>None           </td><td>None       </td><td>No         </td><td>No           </td><td>No           </td><td>No              </td><td>No           </td><td>No             </td><td>No         </td><td>Steady     </td><td>No           </td><td>Steady        </td><td>No             </td><td>No        </td><td>No        </td><td>No            </td><td>No          </td><td>No       </td><td>No           </td><td>Down     </td><td>No                   </td><td>No                   </td><td>No                        </td><td>No                       </td><td>No                      </td><td>Ch      </td><td>Yes          </td><td>NO          </td></tr>\n",
       "<tr><td style=\"text-align: right;\">2.40251e+08</td><td style=\"text-align: right;\">  6.05036e+07</td><td>AfricanAmerican</td><td>Male    </td><td>[20-30)</td><td>?       </td><td style=\"text-align: right;\">                  1</td><td style=\"text-align: right;\">                         1</td><td style=\"text-align: right;\">                    7</td><td style=\"text-align: right;\">                 3</td><td>OG          </td><td>?                  </td><td style=\"text-align: right;\">                  60</td><td style=\"text-align: right;\">               0</td><td style=\"text-align: right;\">                9</td><td style=\"text-align: right;\">                  0</td><td style=\"text-align: right;\">                 0</td><td style=\"text-align: right;\">                 1</td><td style=\"text-align: right;\">  250.12</td><td style=\"text-align: right;\">     276</td><td style=\"text-align: right;\">     276</td><td style=\"text-align: right;\">                 7</td><td>None           </td><td>Norm       </td><td>No         </td><td>No           </td><td>No           </td><td>No              </td><td>No           </td><td>No             </td><td>No         </td><td>No         </td><td>No           </td><td>No            </td><td>No             </td><td>No        </td><td>No        </td><td>No            </td><td>No          </td><td>No       </td><td>No           </td><td>Up       </td><td>No                   </td><td>No                   </td><td>No                        </td><td>No                       </td><td>No                      </td><td>Ch      </td><td>Yes          </td><td><30         </td></tr>\n",
       "<tr><td style=\"text-align: right;\">2.40257e+08</td><td style=\"text-align: right;\">  2.18105e+06</td><td>Caucasian      </td><td>Female  </td><td>[70-80)</td><td>?       </td><td style=\"text-align: right;\">                  3</td><td style=\"text-align: right;\">                         6</td><td style=\"text-align: right;\">                    1</td><td style=\"text-align: right;\">                 3</td><td>?           </td><td>?                  </td><td style=\"text-align: right;\">                  26</td><td style=\"text-align: right;\">               2</td><td style=\"text-align: right;\">               32</td><td style=\"text-align: right;\">                  0</td><td style=\"text-align: right;\">                 0</td><td style=\"text-align: right;\">                 0</td><td style=\"text-align: right;\">  715   </td><td style=\"text-align: right;\">     285</td><td style=\"text-align: right;\">     278</td><td style=\"text-align: right;\">                 9</td><td>None           </td><td>None       </td><td>No         </td><td>No           </td><td>No           </td><td>No              </td><td>No           </td><td>No             </td><td>No         </td><td>No         </td><td>No           </td><td>Steady        </td><td>No             </td><td>No        </td><td>No        </td><td>No            </td><td>No          </td><td>No       </td><td>No           </td><td>Steady   </td><td>No                   </td><td>No                   </td><td>No                        </td><td>No                       </td><td>No                      </td><td>Ch      </td><td>Yes          </td><td>NO          </td></tr>\n",
       "<tr><td style=\"text-align: right;\">2.40257e+08</td><td style=\"text-align: right;\">  4.61461e+07</td><td>Caucasian      </td><td>Male    </td><td>[60-70)</td><td>?       </td><td style=\"text-align: right;\">                  3</td><td style=\"text-align: right;\">                         1</td><td style=\"text-align: right;\">                    1</td><td style=\"text-align: right;\">                 1</td><td>MC          </td><td>?                  </td><td style=\"text-align: right;\">                  34</td><td style=\"text-align: right;\">               1</td><td style=\"text-align: right;\">               21</td><td style=\"text-align: right;\">                  0</td><td style=\"text-align: right;\">                 0</td><td style=\"text-align: right;\">                 0</td><td style=\"text-align: right;\">  414   </td><td style=\"text-align: right;\">     428</td><td style=\"text-align: right;\">     276</td><td style=\"text-align: right;\">                 9</td><td>None           </td><td>None       </td><td>No         </td><td>No           </td><td>No           </td><td>No              </td><td>No           </td><td>No             </td><td>Steady     </td><td>No         </td><td>No           </td><td>No            </td><td>No             </td><td>No        </td><td>No        </td><td>No            </td><td>No          </td><td>No       </td><td>No           </td><td>Steady   </td><td>No                   </td><td>No                   </td><td>No                        </td><td>No                       </td><td>No                      </td><td>Ch      </td><td>Yes          </td><td>NO          </td></tr>\n",
       "<tr><td style=\"text-align: right;\">2.40277e+08</td><td style=\"text-align: right;\">  3.42898e+07</td><td>Caucasian      </td><td>Female  </td><td>[60-70)</td><td>?       </td><td style=\"text-align: right;\">                  1</td><td style=\"text-align: right;\">                         1</td><td style=\"text-align: right;\">                    7</td><td style=\"text-align: right;\">                 1</td><td>BC          </td><td>?                  </td><td style=\"text-align: right;\">                  50</td><td style=\"text-align: right;\">               6</td><td style=\"text-align: right;\">               25</td><td style=\"text-align: right;\">                  0</td><td style=\"text-align: right;\">                 0</td><td style=\"text-align: right;\">                 0</td><td style=\"text-align: right;\">  414   </td><td style=\"text-align: right;\">     428</td><td style=\"text-align: right;\">     411</td><td style=\"text-align: right;\">                 9</td><td>None           </td><td>None       </td><td>No         </td><td>No           </td><td>No           </td><td>No              </td><td>No           </td><td>No             </td><td>No         </td><td>No         </td><td>No           </td><td>No            </td><td>Steady         </td><td>No        </td><td>No        </td><td>No            </td><td>No          </td><td>No       </td><td>No           </td><td>Steady   </td><td>No                   </td><td>No                   </td><td>No                        </td><td>No                       </td><td>No                      </td><td>Ch      </td><td>Yes          </td><td>NO          </td></tr>\n",
       "</tbody>\n",
       "</table>"
      ]
     },
     "metadata": {},
     "output_type": "display_data"
    },
    {
     "data": {
      "text/plain": []
     },
     "execution_count": 6,
     "metadata": {},
     "output_type": "execute_result"
    }
   ],
   "source": [
    "df.tail(5)"
   ]
  },
  {
   "cell_type": "code",
   "execution_count": 7,
   "metadata": {
    "scrolled": true
   },
   "outputs": [
    {
     "name": "stdout",
     "output_type": "stream",
     "text": [
      "Rows:50001\n",
      "Cols:50\n",
      "\n",
      "\n"
     ]
    },
    {
     "data": {
      "text/html": [
       "<table>\n",
       "<thead>\n",
       "<tr><th>       </th><th>id               </th><th>patient_nbr       </th><th>race           </th><th>gender  </th><th>age     </th><th>weight  </th><th>admission_type_id  </th><th>discharge_disposition_id  </th><th>admission_source_id  </th><th>time_in_hospital  </th><th>payer_code  </th><th>medical_specialty       </th><th>num_lab_procedures  </th><th>num_procedures    </th><th>num_medications   </th><th>number_outpatient  </th><th>number_emergency   </th><th>number_inpatient  </th><th>diag_1            </th><th>diag_2            </th><th>diag_3            </th><th>number_diagnoses  </th><th>max_glu_serum  </th><th>A1Cresult  </th><th>metformin  </th><th>repaglinide  </th><th>nateglinide  </th><th>chlorpropamide  </th><th>glimepiride  </th><th>acetohexamide  </th><th>glipizide  </th><th>glyburide  </th><th>tolbutamide  </th><th>pioglitazone  </th><th>rosiglitazone  </th><th>acarbose  </th><th>miglitol  </th><th>troglitazone  </th><th>tolazamide  </th><th>examide  </th><th>citoglipton  </th><th>insulin  </th><th>glyburide-metformin  </th><th>glipizide-metformin  </th><th>glimepiride-pioglitazone  </th><th>metformin-rosiglitazone  </th><th>metformin-pioglitazone  </th><th>change  </th><th>diabetesMed  </th><th>readmitted  </th></tr>\n",
       "</thead>\n",
       "<tbody>\n",
       "<tr><td>type   </td><td>int              </td><td>int               </td><td>enum           </td><td>enum    </td><td>enum    </td><td>enum    </td><td>int                </td><td>int                       </td><td>int                  </td><td>int               </td><td>enum        </td><td>enum                    </td><td>int                 </td><td>int               </td><td>int               </td><td>int                </td><td>int                </td><td>int               </td><td>real              </td><td>real              </td><td>real              </td><td>int               </td><td>enum           </td><td>enum       </td><td>enum       </td><td>enum         </td><td>enum         </td><td>enum            </td><td>enum         </td><td>enum           </td><td>enum       </td><td>enum       </td><td>enum         </td><td>enum          </td><td>enum           </td><td>enum      </td><td>enum      </td><td>enum          </td><td>enum        </td><td>enum     </td><td>enum         </td><td>enum     </td><td>enum                 </td><td>enum                 </td><td>enum                      </td><td>enum                     </td><td>enum                    </td><td>enum    </td><td>enum         </td><td>enum        </td></tr>\n",
       "<tr><td>mins   </td><td>12522.0          </td><td>135.0             </td><td>               </td><td>        </td><td>        </td><td>        </td><td>1.0                </td><td>1.0                       </td><td>1.0                  </td><td>1.0               </td><td>            </td><td>                        </td><td>1.0                 </td><td>0.0               </td><td>1.0               </td><td>0.0                </td><td>0.0                </td><td>0.0               </td><td>3.0               </td><td>8.0               </td><td>5.0               </td><td>1.0               </td><td>               </td><td>           </td><td>           </td><td>             </td><td>             </td><td>                </td><td>             </td><td>               </td><td>           </td><td>           </td><td>             </td><td>              </td><td>               </td><td>          </td><td>          </td><td>              </td><td>            </td><td>         </td><td>             </td><td>         </td><td>                     </td><td>                     </td><td>                          </td><td>                         </td><td>                        </td><td>        </td><td>             </td><td>            </td></tr>\n",
       "<tr><td>mean   </td><td>118350344.8944621</td><td>43491484.558948815</td><td>               </td><td>        </td><td>        </td><td>        </td><td>2.102177956440871  </td><td>4.167336653266933         </td><td>5.74982500349993     </td><td>4.4368312633747315</td><td>            </td><td>                        </td><td>42.90460190796182   </td><td>1.385032299354013 </td><td>15.681846363072736</td><td>0.25887482250355004</td><td>0.13165736685266294</td><td>0.523189536209276 </td><td>493.62482470614606</td><td>432.29717529593415</td><td>412.4333165829146 </td><td>7.069218615627688 </td><td>               </td><td>           </td><td>           </td><td>             </td><td>             </td><td>                </td><td>             </td><td>               </td><td>           </td><td>           </td><td>             </td><td>              </td><td>               </td><td>          </td><td>          </td><td>              </td><td>            </td><td>         </td><td>             </td><td>         </td><td>                     </td><td>                     </td><td>                          </td><td>                         </td><td>                        </td><td>        </td><td>             </td><td>            </td></tr>\n",
       "<tr><td>maxs   </td><td>240277404.0      </td><td>115218477.0       </td><td>               </td><td>        </td><td>        </td><td>        </td><td>8.0                </td><td>28.0                      </td><td>22.0                 </td><td>14.0              </td><td>            </td><td>                        </td><td>132.0               </td><td>6.0               </td><td>81.0              </td><td>36.0               </td><td>28.0               </td><td>21.0              </td><td>999.0             </td><td>999.0             </td><td>999.0             </td><td>9.0               </td><td>               </td><td>           </td><td>           </td><td>             </td><td>             </td><td>                </td><td>             </td><td>               </td><td>           </td><td>           </td><td>             </td><td>              </td><td>               </td><td>          </td><td>          </td><td>              </td><td>            </td><td>         </td><td>             </td><td>         </td><td>                     </td><td>                     </td><td>                          </td><td>                         </td><td>                        </td><td>        </td><td>             </td><td>            </td></tr>\n",
       "<tr><td>sigma  </td><td>60444491.42445576</td><td>35065949.89381691 </td><td>               </td><td>        </td><td>        </td><td>        </td><td>1.4867613986147448 </td><td>5.808736341446589         </td><td>4.316877484869778    </td><td>3.0317477848441454</td><td>            </td><td>                        </td><td>19.066150608395485  </td><td>1.6987840249592443</td><td>8.459927673383218 </td><td>0.9949384332461385 </td><td>0.636463660455315  </td><td>1.156783140720553 </td><td>208.26118899894746</td><td>180.2259649013558 </td><td>177.02506045996856</td><td>2.02268848007454  </td><td>               </td><td>           </td><td>           </td><td>             </td><td>             </td><td>                </td><td>             </td><td>               </td><td>           </td><td>           </td><td>             </td><td>              </td><td>               </td><td>          </td><td>          </td><td>              </td><td>            </td><td>         </td><td>             </td><td>         </td><td>                     </td><td>                     </td><td>                          </td><td>                         </td><td>                        </td><td>        </td><td>             </td><td>            </td></tr>\n",
       "<tr><td>zeros  </td><td>0                </td><td>0                 </td><td>               </td><td>        </td><td>        </td><td>        </td><td>0                  </td><td>0                         </td><td>0                    </td><td>0                 </td><td>            </td><td>                        </td><td>0                   </td><td>21844             </td><td>0                 </td><td>43811              </td><td>45948              </td><td>35748             </td><td>0                 </td><td>0                 </td><td>0                 </td><td>0                 </td><td>               </td><td>           </td><td>           </td><td>             </td><td>             </td><td>                </td><td>             </td><td>               </td><td>           </td><td>           </td><td>             </td><td>              </td><td>               </td><td>          </td><td>          </td><td>              </td><td>            </td><td>         </td><td>             </td><td>         </td><td>                     </td><td>                     </td><td>                          </td><td>                         </td><td>                        </td><td>        </td><td>             </td><td>            </td></tr>\n",
       "<tr><td>missing</td><td>0                </td><td>0                 </td><td>0              </td><td>0       </td><td>0       </td><td>0       </td><td>0                  </td><td>0                         </td><td>0                    </td><td>0                 </td><td>0           </td><td>0                       </td><td>0                   </td><td>0                 </td><td>0                 </td><td>0                  </td><td>0                  </td><td>0                 </td><td>912               </td><td>1426              </td><td>3435              </td><td>0                 </td><td>0              </td><td>0          </td><td>0          </td><td>0            </td><td>0            </td><td>0               </td><td>0            </td><td>0              </td><td>0          </td><td>0          </td><td>0            </td><td>0             </td><td>0              </td><td>0         </td><td>0         </td><td>0             </td><td>0           </td><td>0        </td><td>0            </td><td>0        </td><td>0                    </td><td>0                    </td><td>0                         </td><td>0                        </td><td>0                       </td><td>0       </td><td>0            </td><td>0           </td></tr>\n",
       "<tr><td>0      </td><td>2278392.0        </td><td>8222157.0         </td><td>Caucasian      </td><td>Female  </td><td>[0-10)  </td><td>?       </td><td>6.0                </td><td>25.0                      </td><td>1.0                  </td><td>1.0               </td><td>?           </td><td>Pediatrics-Endocrinology</td><td>41.0                </td><td>0.0               </td><td>1.0               </td><td>0.0                </td><td>0.0                </td><td>0.0               </td><td>250.83            </td><td>nan               </td><td>nan               </td><td>1.0               </td><td>None           </td><td>None       </td><td>No         </td><td>No           </td><td>No           </td><td>No              </td><td>No           </td><td>No             </td><td>No         </td><td>No         </td><td>No           </td><td>No            </td><td>No             </td><td>No        </td><td>No        </td><td>No            </td><td>No          </td><td>No       </td><td>No           </td><td>No       </td><td>No                   </td><td>No                   </td><td>No                        </td><td>No                       </td><td>No                      </td><td>No      </td><td>No           </td><td>NO          </td></tr>\n",
       "<tr><td>1      </td><td>64410.0          </td><td>86047875.0        </td><td>AfricanAmerican</td><td>Female  </td><td>[20-30) </td><td>?       </td><td>1.0                </td><td>1.0                       </td><td>7.0                  </td><td>2.0               </td><td>?           </td><td>?                       </td><td>11.0                </td><td>5.0               </td><td>13.0              </td><td>2.0                </td><td>0.0                </td><td>1.0               </td><td>648.0             </td><td>250.0             </td><td>nan               </td><td>6.0               </td><td>None           </td><td>None       </td><td>No         </td><td>No           </td><td>No           </td><td>No              </td><td>No           </td><td>No             </td><td>Steady     </td><td>No         </td><td>No           </td><td>No            </td><td>No             </td><td>No        </td><td>No        </td><td>No            </td><td>No          </td><td>No       </td><td>No           </td><td>No       </td><td>No                   </td><td>No                   </td><td>No                        </td><td>No                       </td><td>No                      </td><td>No      </td><td>Yes          </td><td>NO          </td></tr>\n",
       "<tr><td>2      </td><td>500364.0         </td><td>82442376.0        </td><td>Caucasian      </td><td>Male    </td><td>[30-40) </td><td>?       </td><td>1.0                </td><td>1.0                       </td><td>7.0                  </td><td>2.0               </td><td>?           </td><td>?                       </td><td>44.0                </td><td>1.0               </td><td>16.0              </td><td>0.0                </td><td>0.0                </td><td>0.0               </td><td>8.0               </td><td>250.43            </td><td>403.0             </td><td>7.0               </td><td>None           </td><td>None       </td><td>No         </td><td>No           </td><td>No           </td><td>No              </td><td>No           </td><td>No             </td><td>No         </td><td>No         </td><td>No           </td><td>No            </td><td>No             </td><td>No        </td><td>No        </td><td>No            </td><td>No          </td><td>No       </td><td>No           </td><td>Up       </td><td>No                   </td><td>No                   </td><td>No                        </td><td>No                       </td><td>No                      </td><td>Ch      </td><td>Yes          </td><td>NO          </td></tr>\n",
       "<tr><td>3      </td><td>16680.0          </td><td>42519267.0        </td><td>Caucasian      </td><td>Male    </td><td>[40-50) </td><td>?       </td><td>1.0                </td><td>1.0                       </td><td>7.0                  </td><td>1.0               </td><td>?           </td><td>?                       </td><td>51.0                </td><td>0.0               </td><td>8.0               </td><td>0.0                </td><td>0.0                </td><td>0.0               </td><td>197.0             </td><td>157.0             </td><td>250.0             </td><td>5.0               </td><td>None           </td><td>None       </td><td>No         </td><td>No           </td><td>No           </td><td>No              </td><td>No           </td><td>No             </td><td>Steady     </td><td>No         </td><td>No           </td><td>No            </td><td>No             </td><td>No        </td><td>No        </td><td>No            </td><td>No          </td><td>No       </td><td>No           </td><td>Steady   </td><td>No                   </td><td>No                   </td><td>No                        </td><td>No                       </td><td>No                      </td><td>Ch      </td><td>Yes          </td><td>NO          </td></tr>\n",
       "<tr><td>4      </td><td>55842.0          </td><td>84259809.0        </td><td>Caucasian      </td><td>Male    </td><td>[60-70) </td><td>?       </td><td>3.0                </td><td>1.0                       </td><td>2.0                  </td><td>4.0               </td><td>?           </td><td>?                       </td><td>70.0                </td><td>1.0               </td><td>21.0              </td><td>0.0                </td><td>0.0                </td><td>0.0               </td><td>414.0             </td><td>411.0             </td><td>nan               </td><td>7.0               </td><td>None           </td><td>None       </td><td>Steady     </td><td>No           </td><td>No           </td><td>No              </td><td>Steady       </td><td>No             </td><td>No         </td><td>No         </td><td>No           </td><td>No            </td><td>No             </td><td>No        </td><td>No        </td><td>No            </td><td>No          </td><td>No       </td><td>No           </td><td>Steady   </td><td>No                   </td><td>No                   </td><td>No                        </td><td>No                       </td><td>No                      </td><td>Ch      </td><td>Yes          </td><td>NO          </td></tr>\n",
       "<tr><td>5      </td><td>12522.0          </td><td>48330783.0        </td><td>Caucasian      </td><td>Female  </td><td>[80-90) </td><td>?       </td><td>2.0                </td><td>1.0                       </td><td>4.0                  </td><td>13.0              </td><td>?           </td><td>?                       </td><td>68.0                </td><td>2.0               </td><td>28.0              </td><td>0.0                </td><td>0.0                </td><td>0.0               </td><td>398.0             </td><td>427.0             </td><td>38.0              </td><td>8.0               </td><td>None           </td><td>None       </td><td>No         </td><td>No           </td><td>No           </td><td>No              </td><td>No           </td><td>No             </td><td>Steady     </td><td>No         </td><td>No           </td><td>No            </td><td>No             </td><td>No        </td><td>No        </td><td>No            </td><td>No          </td><td>No       </td><td>No           </td><td>Steady   </td><td>No                   </td><td>No                   </td><td>No                        </td><td>No                       </td><td>No                      </td><td>Ch      </td><td>Yes          </td><td>NO          </td></tr>\n",
       "<tr><td>6      </td><td>15738.0          </td><td>63555939.0        </td><td>Caucasian      </td><td>Female  </td><td>[90-100)</td><td>?       </td><td>3.0                </td><td>3.0                       </td><td>4.0                  </td><td>12.0              </td><td>?           </td><td>InternalMedicine        </td><td>33.0                </td><td>3.0               </td><td>18.0              </td><td>0.0                </td><td>0.0                </td><td>0.0               </td><td>434.0             </td><td>198.0             </td><td>486.0             </td><td>8.0               </td><td>None           </td><td>None       </td><td>No         </td><td>No           </td><td>No           </td><td>No              </td><td>No           </td><td>No             </td><td>No         </td><td>No         </td><td>No           </td><td>No            </td><td>Steady         </td><td>No        </td><td>No        </td><td>No            </td><td>No          </td><td>No       </td><td>No           </td><td>Steady   </td><td>No                   </td><td>No                   </td><td>No                        </td><td>No                       </td><td>No                      </td><td>Ch      </td><td>Yes          </td><td>NO          </td></tr>\n",
       "<tr><td>7      </td><td>36900.0          </td><td>77391171.0        </td><td>AfricanAmerican</td><td>Male    </td><td>[60-70) </td><td>?       </td><td>2.0                </td><td>1.0                       </td><td>4.0                  </td><td>7.0               </td><td>?           </td><td>?                       </td><td>62.0                </td><td>0.0               </td><td>11.0              </td><td>0.0                </td><td>0.0                </td><td>0.0               </td><td>157.0             </td><td>288.0             </td><td>197.0             </td><td>7.0               </td><td>None           </td><td>None       </td><td>No         </td><td>No           </td><td>No           </td><td>No              </td><td>No           </td><td>No             </td><td>No         </td><td>Up         </td><td>No           </td><td>No            </td><td>No             </td><td>No        </td><td>No        </td><td>No            </td><td>No          </td><td>No       </td><td>No           </td><td>Steady   </td><td>No                   </td><td>No                   </td><td>No                        </td><td>No                       </td><td>No                      </td><td>Ch      </td><td>Yes          </td><td><30         </td></tr>\n",
       "<tr><td>8      </td><td>40926.0          </td><td>85504905.0        </td><td>Caucasian      </td><td>Female  </td><td>[40-50) </td><td>?       </td><td>1.0                </td><td>3.0                       </td><td>7.0                  </td><td>7.0               </td><td>?           </td><td>Family/GeneralPractice  </td><td>60.0                </td><td>0.0               </td><td>15.0              </td><td>0.0                </td><td>1.0                </td><td>0.0               </td><td>428.0             </td><td>250.43            </td><td>250.6             </td><td>8.0               </td><td>None           </td><td>None       </td><td>Steady     </td><td>Up           </td><td>No           </td><td>No              </td><td>No           </td><td>No             </td><td>No         </td><td>No         </td><td>No           </td><td>No            </td><td>No             </td><td>No        </td><td>No        </td><td>No            </td><td>No          </td><td>No       </td><td>No           </td><td>Down     </td><td>No                   </td><td>No                   </td><td>No                        </td><td>No                       </td><td>No                      </td><td>Ch      </td><td>Yes          </td><td><30         </td></tr>\n",
       "<tr><td>9      </td><td>42570.0          </td><td>77586282.0        </td><td>Caucasian      </td><td>Male    </td><td>[80-90) </td><td>?       </td><td>1.0                </td><td>6.0                       </td><td>7.0                  </td><td>10.0              </td><td>?           </td><td>Family/GeneralPractice  </td><td>55.0                </td><td>1.0               </td><td>31.0              </td><td>0.0                </td><td>0.0                </td><td>0.0               </td><td>428.0             </td><td>411.0             </td><td>427.0             </td><td>8.0               </td><td>None           </td><td>None       </td><td>No         </td><td>No           </td><td>No           </td><td>No              </td><td>No           </td><td>No             </td><td>No         </td><td>No         </td><td>No           </td><td>No            </td><td>No             </td><td>No        </td><td>No        </td><td>No            </td><td>No          </td><td>No       </td><td>No           </td><td>Steady   </td><td>No                   </td><td>No                   </td><td>No                        </td><td>No                       </td><td>No                      </td><td>No      </td><td>Yes          </td><td>NO          </td></tr>\n",
       "</tbody>\n",
       "</table>"
      ]
     },
     "metadata": {},
     "output_type": "display_data"
    }
   ],
   "source": [
    "df.describe()"
   ]
  },
  {
   "cell_type": "code",
   "execution_count": 8,
   "metadata": {},
   "outputs": [
    {
     "name": "stdout",
     "output_type": "stream",
     "text": [
      "y:  readmitted\n",
      "X:  ['id', 'patient_nbr', 'race', 'gender', 'age', 'weight', 'admission_type_id', 'discharge_disposition_id', 'admission_source_id', 'time_in_hospital', 'payer_code', 'medical_specialty', 'num_lab_procedures', 'num_procedures', 'num_medications', 'number_outpatient', 'number_emergency', 'number_inpatient', 'diag_1', 'diag_2', 'diag_3', 'number_diagnoses', 'max_glu_serum', 'A1Cresult', 'metformin', 'repaglinide', 'nateglinide', 'chlorpropamide', 'glimepiride', 'acetohexamide', 'glipizide', 'glyburide', 'tolbutamide', 'pioglitazone', 'rosiglitazone', 'acarbose', 'miglitol', 'troglitazone', 'tolazamide', 'examide', 'citoglipton', 'insulin', 'glyburide-metformin', 'glipizide-metformin', 'glimepiride-pioglitazone', 'metformin-rosiglitazone', 'metformin-pioglitazone', 'change', 'diabetesMed']\n"
     ]
    }
   ],
   "source": [
    "# Assign target and inputs\n",
    "y = \"readmitted\"\n",
    "X = [name for name in df.columns if name != y]\n",
    "print(\"y: \",y)\n",
    "print(\"X: \", X)"
   ]
  },
  {
   "cell_type": "code",
   "execution_count": 9,
   "metadata": {},
   "outputs": [
    {
     "name": "stdout",
     "output_type": "stream",
     "text": [
      "Integer columns: ['id', 'patient_nbr', 'admission_type_id', 'discharge_disposition_id', 'admission_source_id', 'time_in_hospital', 'num_lab_procedures', 'num_procedures', 'num_medications', 'number_outpatient', 'number_emergency', 'number_inpatient', 'number_diagnoses'] \n",
      "\n",
      "Enum columns: ['race', 'gender', 'age', 'weight', 'payer_code', 'medical_specialty', 'max_glu_serum', 'A1Cresult', 'metformin', 'repaglinide', 'nateglinide', 'chlorpropamide', 'glimepiride', 'acetohexamide', 'glipizide', 'glyburide', 'tolbutamide', 'pioglitazone', 'rosiglitazone', 'acarbose', 'miglitol', 'troglitazone', 'tolazamide', 'examide', 'citoglipton', 'insulin', 'glyburide-metformin', 'glipizide-metformin', 'glimepiride-pioglitazone', 'metformin-rosiglitazone', 'metformin-pioglitazone', 'change', 'diabetesMed'] \n",
      "\n",
      "Real numbers:  ['diag_1', 'diag_2', 'diag_3'] \n",
      "\n"
     ]
    }
   ],
   "source": [
    "# determine column types\n",
    "ints, reals, enums = [], [], []\n",
    "for key, val in df.types.items():\n",
    "    if key in X:\n",
    "        if val == 'enum':\n",
    "            enums.append(key)\n",
    "        elif val == 'int':\n",
    "            ints.append(key)            \n",
    "        else: \n",
    "            reals.append(key)\n",
    "\n",
    "print(\"Integer columns:\",ints,\"\\n\")\n",
    "print(\"Enum columns:\", enums, \"\\n\")\n",
    "print(\"Real numbers: \",reals, \"\\n\")"
   ]
  },
  {
   "cell_type": "markdown",
   "metadata": {},
   "source": [
    "# Feature Engineering\n"
   ]
  },
  {
   "cell_type": "code",
   "execution_count": 10,
   "metadata": {},
   "outputs": [
    {
     "name": "stdout",
     "output_type": "stream",
     "text": [
      "Number of samples: (50001, 50)\n"
     ]
    }
   ],
   "source": [
    "print('Number of samples:', df.shape)"
   ]
  },
  {
   "cell_type": "markdown",
   "metadata": {},
   "source": [
    "* Since, admission_type_id', 'discharge_disposition_id', 'admission_source_id' are multi-class columns and are more of Ids ie, enum than integres, we are converting them into \"enums\". \n",
    "\n",
    "* Also, diag_1, diag_2, diag_3 are enum and not suited to be real numbers \n",
    "\n",
    "* Removing ? from race, weight."
   ]
  },
  {
   "cell_type": "code",
   "execution_count": 11,
   "metadata": {},
   "outputs": [
    {
     "data": {
      "text/plain": [
       "['?', 'AfricanAmerican', 'Asian', 'Caucasian', 'Hispanic', 'Other']"
      ]
     },
     "execution_count": 11,
     "metadata": {},
     "output_type": "execute_result"
    }
   ],
   "source": [
    "df['race'].nrow\n",
    "df[\"race\"].categories()"
   ]
  },
  {
   "cell_type": "code",
   "execution_count": 12,
   "metadata": {},
   "outputs": [
    {
     "data": {
      "text/plain": [
       "['Unknown', 'AfricanAmerican', 'Asian', 'Caucasian', 'Hispanic', 'Other']"
      ]
     },
     "execution_count": 12,
     "metadata": {},
     "output_type": "execute_result"
    }
   ],
   "source": [
    "df[\"race\"]=df[\"race\"].set_levels(['Unknown', 'AfricanAmerican', 'Asian', 'Caucasian', 'Hispanic', 'Other'])\n",
    "df[\"race\"].categories()"
   ]
  },
  {
   "cell_type": "code",
   "execution_count": 13,
   "metadata": {},
   "outputs": [
    {
     "data": {
      "text/plain": [
       "['?',\n",
       " '[0-25)',\n",
       " '[100-125)',\n",
       " '[125-150)',\n",
       " '[150-175)',\n",
       " '[175-200)',\n",
       " '[25-50)',\n",
       " '[50-75)',\n",
       " '[75-100)']"
      ]
     },
     "execution_count": 13,
     "metadata": {},
     "output_type": "execute_result"
    }
   ],
   "source": [
    "df[\"weight\"].categories()"
   ]
  },
  {
   "cell_type": "code",
   "execution_count": 14,
   "metadata": {},
   "outputs": [],
   "source": [
    "df[\"weight\"]=df[\"weight\"].set_levels(['0', '[0-25)','[100-125)','[125-150)','[150-175)','[175-200)', '[25-50)','[50-75)','[75-100)'])"
   ]
  },
  {
   "cell_type": "code",
   "execution_count": 15,
   "metadata": {},
   "outputs": [],
   "source": [
    "#Convert to enums\n",
    "\n",
    "for j in [\"admission_type_id\", \"discharge_disposition_id\", \"admission_source_id\",\n",
    "          \"diag_1\", \"diag_2\", \"diag_3\"]:\n",
    "    df[j] = (df[j].ascharacter()).asfactor()\n",
    "df = h2o.assign(df, \"diabetes_train\")"
   ]
  },
  {
   "cell_type": "code",
   "execution_count": 16,
   "metadata": {},
   "outputs": [
    {
     "name": "stdout",
     "output_type": "stream",
     "text": [
      "Integer columns: ['id', 'patient_nbr', 'time_in_hospital', 'num_lab_procedures', 'num_procedures', 'num_medications', 'number_outpatient', 'number_emergency', 'number_inpatient', 'number_diagnoses'] \n",
      "\n",
      "Enum columns: ['race', 'gender', 'age', 'weight', 'admission_type_id', 'discharge_disposition_id', 'admission_source_id', 'payer_code', 'medical_specialty', 'diag_1', 'diag_2', 'diag_3', 'max_glu_serum', 'A1Cresult', 'metformin', 'repaglinide', 'nateglinide', 'chlorpropamide', 'glimepiride', 'acetohexamide', 'glipizide', 'glyburide', 'tolbutamide', 'pioglitazone', 'rosiglitazone', 'acarbose', 'miglitol', 'troglitazone', 'tolazamide', 'examide', 'citoglipton', 'insulin', 'glyburide-metformin', 'glipizide-metformin', 'glimepiride-pioglitazone', 'metformin-rosiglitazone', 'metformin-pioglitazone', 'change', 'diabetesMed'] \n",
      "\n",
      "Real numbers:  [] \n",
      "\n"
     ]
    }
   ],
   "source": [
    "# determine column types\n",
    "ints, reals, enums = [], [], []\n",
    "for key, val in df.types.items():\n",
    "    if key in X:\n",
    "        if val == 'enum':\n",
    "            enums.append(key)\n",
    "        elif val == 'int':\n",
    "            ints.append(key)            \n",
    "        else: \n",
    "            reals.append(key)\n",
    "\n",
    "print(\"Integer columns:\",ints,\"\\n\")\n",
    "print(\"Enum columns:\", enums, \"\\n\")\n",
    "print(\"Real numbers: \",reals, \"\\n\")"
   ]
  },
  {
   "cell_type": "code",
   "execution_count": 17,
   "metadata": {},
   "outputs": [
    {
     "data": {
      "text/plain": [
       "(50001, 50)"
      ]
     },
     "execution_count": 17,
     "metadata": {},
     "output_type": "execute_result"
    }
   ],
   "source": [
    "df.shape"
   ]
  },
  {
   "cell_type": "markdown",
   "metadata": {},
   "source": [
    "Below is the result after replacing '?' in 'race' and 'weight'. Columns such as payer_code and medical_speciality is more of an enum than int. Thus, '?' is not removed for them."
   ]
  },
  {
   "cell_type": "code",
   "execution_count": 18,
   "metadata": {},
   "outputs": [
    {
     "data": {
      "text/html": [
       "<table>\n",
       "<thead>\n",
       "<tr><th style=\"text-align: right;\">              id</th><th style=\"text-align: right;\">  patient_nbr</th><th>race           </th><th>gender  </th><th>age     </th><th style=\"text-align: right;\">  weight</th><th style=\"text-align: right;\">  admission_type_id</th><th style=\"text-align: right;\">  discharge_disposition_id</th><th style=\"text-align: right;\">  admission_source_id</th><th style=\"text-align: right;\">  time_in_hospital</th><th>payer_code  </th><th>medical_specialty       </th><th style=\"text-align: right;\">  num_lab_procedures</th><th style=\"text-align: right;\">  num_procedures</th><th style=\"text-align: right;\">  num_medications</th><th style=\"text-align: right;\">  number_outpatient</th><th style=\"text-align: right;\">  number_emergency</th><th style=\"text-align: right;\">  number_inpatient</th><th style=\"text-align: right;\">  diag_1</th><th>diag_2  </th><th>diag_3  </th><th style=\"text-align: right;\">  number_diagnoses</th><th>max_glu_serum  </th><th>A1Cresult  </th><th>metformin  </th><th>repaglinide  </th><th>nateglinide  </th><th>chlorpropamide  </th><th>glimepiride  </th><th>acetohexamide  </th><th>glipizide  </th><th>glyburide  </th><th>tolbutamide  </th><th>pioglitazone  </th><th>rosiglitazone  </th><th>acarbose  </th><th>miglitol  </th><th>troglitazone  </th><th>tolazamide  </th><th>examide  </th><th>citoglipton  </th><th>insulin  </th><th>glyburide-metformin  </th><th>glipizide-metformin  </th><th>glimepiride-pioglitazone  </th><th>metformin-rosiglitazone  </th><th>metformin-pioglitazone  </th><th>change  </th><th>diabetesMed  </th><th>readmitted  </th></tr>\n",
       "</thead>\n",
       "<tbody>\n",
       "<tr><td style=\"text-align: right;\">     2.27839e+06</td><td style=\"text-align: right;\">  8.22216e+06</td><td>Caucasian      </td><td>Female  </td><td>[0-10)  </td><td style=\"text-align: right;\">       0</td><td style=\"text-align: right;\">                  6</td><td style=\"text-align: right;\">                        25</td><td style=\"text-align: right;\">                    1</td><td style=\"text-align: right;\">                 1</td><td>?           </td><td>Pediatrics-Endocrinology</td><td style=\"text-align: right;\">                  41</td><td style=\"text-align: right;\">               0</td><td style=\"text-align: right;\">                1</td><td style=\"text-align: right;\">                  0</td><td style=\"text-align: right;\">                 0</td><td style=\"text-align: right;\">                 0</td><td style=\"text-align: right;\">  250.83</td><td>        </td><td>        </td><td style=\"text-align: right;\">                 1</td><td>None           </td><td>None       </td><td>No         </td><td>No           </td><td>No           </td><td>No              </td><td>No           </td><td>No             </td><td>No         </td><td>No         </td><td>No           </td><td>No            </td><td>No             </td><td>No        </td><td>No        </td><td>No            </td><td>No          </td><td>No       </td><td>No           </td><td>No       </td><td>No                   </td><td>No                   </td><td>No                        </td><td>No                       </td><td>No                      </td><td>No      </td><td>No           </td><td>NO          </td></tr>\n",
       "<tr><td style=\"text-align: right;\"> 64410          </td><td style=\"text-align: right;\">  8.60479e+07</td><td>AfricanAmerican</td><td>Female  </td><td>[20-30) </td><td style=\"text-align: right;\">       0</td><td style=\"text-align: right;\">                  1</td><td style=\"text-align: right;\">                         1</td><td style=\"text-align: right;\">                    7</td><td style=\"text-align: right;\">                 2</td><td>?           </td><td>?                       </td><td style=\"text-align: right;\">                  11</td><td style=\"text-align: right;\">               5</td><td style=\"text-align: right;\">               13</td><td style=\"text-align: right;\">                  2</td><td style=\"text-align: right;\">                 0</td><td style=\"text-align: right;\">                 1</td><td style=\"text-align: right;\">  648   </td><td>250     </td><td>        </td><td style=\"text-align: right;\">                 6</td><td>None           </td><td>None       </td><td>No         </td><td>No           </td><td>No           </td><td>No              </td><td>No           </td><td>No             </td><td>Steady     </td><td>No         </td><td>No           </td><td>No            </td><td>No             </td><td>No        </td><td>No        </td><td>No            </td><td>No          </td><td>No       </td><td>No           </td><td>No       </td><td>No                   </td><td>No                   </td><td>No                        </td><td>No                       </td><td>No                      </td><td>No      </td><td>Yes          </td><td>NO          </td></tr>\n",
       "<tr><td style=\"text-align: right;\">500364          </td><td style=\"text-align: right;\">  8.24424e+07</td><td>Caucasian      </td><td>Male    </td><td>[30-40) </td><td style=\"text-align: right;\">       0</td><td style=\"text-align: right;\">                  1</td><td style=\"text-align: right;\">                         1</td><td style=\"text-align: right;\">                    7</td><td style=\"text-align: right;\">                 2</td><td>?           </td><td>?                       </td><td style=\"text-align: right;\">                  44</td><td style=\"text-align: right;\">               1</td><td style=\"text-align: right;\">               16</td><td style=\"text-align: right;\">                  0</td><td style=\"text-align: right;\">                 0</td><td style=\"text-align: right;\">                 0</td><td style=\"text-align: right;\">    8   </td><td>250.43  </td><td>403     </td><td style=\"text-align: right;\">                 7</td><td>None           </td><td>None       </td><td>No         </td><td>No           </td><td>No           </td><td>No              </td><td>No           </td><td>No             </td><td>No         </td><td>No         </td><td>No           </td><td>No            </td><td>No             </td><td>No        </td><td>No        </td><td>No            </td><td>No          </td><td>No       </td><td>No           </td><td>Up       </td><td>No                   </td><td>No                   </td><td>No                        </td><td>No                       </td><td>No                      </td><td>Ch      </td><td>Yes          </td><td>NO          </td></tr>\n",
       "<tr><td style=\"text-align: right;\"> 16680          </td><td style=\"text-align: right;\">  4.25193e+07</td><td>Caucasian      </td><td>Male    </td><td>[40-50) </td><td style=\"text-align: right;\">       0</td><td style=\"text-align: right;\">                  1</td><td style=\"text-align: right;\">                         1</td><td style=\"text-align: right;\">                    7</td><td style=\"text-align: right;\">                 1</td><td>?           </td><td>?                       </td><td style=\"text-align: right;\">                  51</td><td style=\"text-align: right;\">               0</td><td style=\"text-align: right;\">                8</td><td style=\"text-align: right;\">                  0</td><td style=\"text-align: right;\">                 0</td><td style=\"text-align: right;\">                 0</td><td style=\"text-align: right;\">  197   </td><td>157     </td><td>250     </td><td style=\"text-align: right;\">                 5</td><td>None           </td><td>None       </td><td>No         </td><td>No           </td><td>No           </td><td>No              </td><td>No           </td><td>No             </td><td>Steady     </td><td>No         </td><td>No           </td><td>No            </td><td>No             </td><td>No        </td><td>No        </td><td>No            </td><td>No          </td><td>No       </td><td>No           </td><td>Steady   </td><td>No                   </td><td>No                   </td><td>No                        </td><td>No                       </td><td>No                      </td><td>Ch      </td><td>Yes          </td><td>NO          </td></tr>\n",
       "<tr><td style=\"text-align: right;\"> 55842          </td><td style=\"text-align: right;\">  8.42598e+07</td><td>Caucasian      </td><td>Male    </td><td>[60-70) </td><td style=\"text-align: right;\">       0</td><td style=\"text-align: right;\">                  3</td><td style=\"text-align: right;\">                         1</td><td style=\"text-align: right;\">                    2</td><td style=\"text-align: right;\">                 4</td><td>?           </td><td>?                       </td><td style=\"text-align: right;\">                  70</td><td style=\"text-align: right;\">               1</td><td style=\"text-align: right;\">               21</td><td style=\"text-align: right;\">                  0</td><td style=\"text-align: right;\">                 0</td><td style=\"text-align: right;\">                 0</td><td style=\"text-align: right;\">  414   </td><td>411     </td><td>        </td><td style=\"text-align: right;\">                 7</td><td>None           </td><td>None       </td><td>Steady     </td><td>No           </td><td>No           </td><td>No              </td><td>Steady       </td><td>No             </td><td>No         </td><td>No         </td><td>No           </td><td>No            </td><td>No             </td><td>No        </td><td>No        </td><td>No            </td><td>No          </td><td>No       </td><td>No           </td><td>Steady   </td><td>No                   </td><td>No                   </td><td>No                        </td><td>No                       </td><td>No                      </td><td>Ch      </td><td>Yes          </td><td>NO          </td></tr>\n",
       "<tr><td style=\"text-align: right;\"> 12522          </td><td style=\"text-align: right;\">  4.83308e+07</td><td>Caucasian      </td><td>Female  </td><td>[80-90) </td><td style=\"text-align: right;\">       0</td><td style=\"text-align: right;\">                  2</td><td style=\"text-align: right;\">                         1</td><td style=\"text-align: right;\">                    4</td><td style=\"text-align: right;\">                13</td><td>?           </td><td>?                       </td><td style=\"text-align: right;\">                  68</td><td style=\"text-align: right;\">               2</td><td style=\"text-align: right;\">               28</td><td style=\"text-align: right;\">                  0</td><td style=\"text-align: right;\">                 0</td><td style=\"text-align: right;\">                 0</td><td style=\"text-align: right;\">  398   </td><td>427     </td><td>38      </td><td style=\"text-align: right;\">                 8</td><td>None           </td><td>None       </td><td>No         </td><td>No           </td><td>No           </td><td>No              </td><td>No           </td><td>No             </td><td>Steady     </td><td>No         </td><td>No           </td><td>No            </td><td>No             </td><td>No        </td><td>No        </td><td>No            </td><td>No          </td><td>No       </td><td>No           </td><td>Steady   </td><td>No                   </td><td>No                   </td><td>No                        </td><td>No                       </td><td>No                      </td><td>Ch      </td><td>Yes          </td><td>NO          </td></tr>\n",
       "<tr><td style=\"text-align: right;\"> 15738          </td><td style=\"text-align: right;\">  6.35559e+07</td><td>Caucasian      </td><td>Female  </td><td>[90-100)</td><td style=\"text-align: right;\">       0</td><td style=\"text-align: right;\">                  3</td><td style=\"text-align: right;\">                         3</td><td style=\"text-align: right;\">                    4</td><td style=\"text-align: right;\">                12</td><td>?           </td><td>InternalMedicine        </td><td style=\"text-align: right;\">                  33</td><td style=\"text-align: right;\">               3</td><td style=\"text-align: right;\">               18</td><td style=\"text-align: right;\">                  0</td><td style=\"text-align: right;\">                 0</td><td style=\"text-align: right;\">                 0</td><td style=\"text-align: right;\">  434   </td><td>198     </td><td>486     </td><td style=\"text-align: right;\">                 8</td><td>None           </td><td>None       </td><td>No         </td><td>No           </td><td>No           </td><td>No              </td><td>No           </td><td>No             </td><td>No         </td><td>No         </td><td>No           </td><td>No            </td><td>Steady         </td><td>No        </td><td>No        </td><td>No            </td><td>No          </td><td>No       </td><td>No           </td><td>Steady   </td><td>No                   </td><td>No                   </td><td>No                        </td><td>No                       </td><td>No                      </td><td>Ch      </td><td>Yes          </td><td>NO          </td></tr>\n",
       "<tr><td style=\"text-align: right;\"> 36900          </td><td style=\"text-align: right;\">  7.73912e+07</td><td>AfricanAmerican</td><td>Male    </td><td>[60-70) </td><td style=\"text-align: right;\">       0</td><td style=\"text-align: right;\">                  2</td><td style=\"text-align: right;\">                         1</td><td style=\"text-align: right;\">                    4</td><td style=\"text-align: right;\">                 7</td><td>?           </td><td>?                       </td><td style=\"text-align: right;\">                  62</td><td style=\"text-align: right;\">               0</td><td style=\"text-align: right;\">               11</td><td style=\"text-align: right;\">                  0</td><td style=\"text-align: right;\">                 0</td><td style=\"text-align: right;\">                 0</td><td style=\"text-align: right;\">  157   </td><td>288     </td><td>197     </td><td style=\"text-align: right;\">                 7</td><td>None           </td><td>None       </td><td>No         </td><td>No           </td><td>No           </td><td>No              </td><td>No           </td><td>No             </td><td>No         </td><td>Up         </td><td>No           </td><td>No            </td><td>No             </td><td>No        </td><td>No        </td><td>No            </td><td>No          </td><td>No       </td><td>No           </td><td>Steady   </td><td>No                   </td><td>No                   </td><td>No                        </td><td>No                       </td><td>No                      </td><td>Ch      </td><td>Yes          </td><td><30         </td></tr>\n",
       "<tr><td style=\"text-align: right;\"> 40926          </td><td style=\"text-align: right;\">  8.55049e+07</td><td>Caucasian      </td><td>Female  </td><td>[40-50) </td><td style=\"text-align: right;\">       0</td><td style=\"text-align: right;\">                  1</td><td style=\"text-align: right;\">                         3</td><td style=\"text-align: right;\">                    7</td><td style=\"text-align: right;\">                 7</td><td>?           </td><td>Family/GeneralPractice  </td><td style=\"text-align: right;\">                  60</td><td style=\"text-align: right;\">               0</td><td style=\"text-align: right;\">               15</td><td style=\"text-align: right;\">                  0</td><td style=\"text-align: right;\">                 1</td><td style=\"text-align: right;\">                 0</td><td style=\"text-align: right;\">  428   </td><td>250.43  </td><td>250.6   </td><td style=\"text-align: right;\">                 8</td><td>None           </td><td>None       </td><td>Steady     </td><td>Up           </td><td>No           </td><td>No              </td><td>No           </td><td>No             </td><td>No         </td><td>No         </td><td>No           </td><td>No            </td><td>No             </td><td>No        </td><td>No        </td><td>No            </td><td>No          </td><td>No       </td><td>No           </td><td>Down     </td><td>No                   </td><td>No                   </td><td>No                        </td><td>No                       </td><td>No                      </td><td>Ch      </td><td>Yes          </td><td><30         </td></tr>\n",
       "<tr><td style=\"text-align: right;\"> 42570          </td><td style=\"text-align: right;\">  7.75863e+07</td><td>Caucasian      </td><td>Male    </td><td>[80-90) </td><td style=\"text-align: right;\">       0</td><td style=\"text-align: right;\">                  1</td><td style=\"text-align: right;\">                         6</td><td style=\"text-align: right;\">                    7</td><td style=\"text-align: right;\">                10</td><td>?           </td><td>Family/GeneralPractice  </td><td style=\"text-align: right;\">                  55</td><td style=\"text-align: right;\">               1</td><td style=\"text-align: right;\">               31</td><td style=\"text-align: right;\">                  0</td><td style=\"text-align: right;\">                 0</td><td style=\"text-align: right;\">                 0</td><td style=\"text-align: right;\">  428   </td><td>411     </td><td>427     </td><td style=\"text-align: right;\">                 8</td><td>None           </td><td>None       </td><td>No         </td><td>No           </td><td>No           </td><td>No              </td><td>No           </td><td>No             </td><td>No         </td><td>No         </td><td>No           </td><td>No            </td><td>No             </td><td>No        </td><td>No        </td><td>No            </td><td>No          </td><td>No       </td><td>No           </td><td>Steady   </td><td>No                   </td><td>No                   </td><td>No                        </td><td>No                       </td><td>No                      </td><td>No      </td><td>Yes          </td><td>NO          </td></tr>\n",
       "</tbody>\n",
       "</table>"
      ]
     },
     "metadata": {},
     "output_type": "display_data"
    },
    {
     "data": {
      "text/plain": []
     },
     "execution_count": 18,
     "metadata": {},
     "output_type": "execute_result"
    }
   ],
   "source": [
    "df.head()"
   ]
  },
  {
   "cell_type": "code",
   "execution_count": 19,
   "metadata": {},
   "outputs": [
    {
     "data": {
      "text/html": [
       "<table>\n",
       "<thead>\n",
       "<tr><th>readmitted  </th></tr>\n",
       "</thead>\n",
       "<tbody>\n",
       "<tr><td>NO          </td></tr>\n",
       "<tr><td>NO          </td></tr>\n",
       "<tr><td>NO          </td></tr>\n",
       "</tbody>\n",
       "</table>"
      ]
     },
     "metadata": {},
     "output_type": "display_data"
    },
    {
     "data": {
      "text/plain": []
     },
     "execution_count": 19,
     "metadata": {},
     "output_type": "execute_result"
    }
   ],
   "source": [
    "df[\"readmitted\"].head(3)"
   ]
  },
  {
   "cell_type": "code",
   "execution_count": 20,
   "metadata": {},
   "outputs": [
    {
     "data": {
      "text/plain": [
       "[2]"
      ]
     },
     "execution_count": 20,
     "metadata": {},
     "output_type": "execute_result"
    }
   ],
   "source": [
    "df[\"readmitted\"].nlevels()"
   ]
  },
  {
   "cell_type": "code",
   "execution_count": 21,
   "metadata": {},
   "outputs": [
    {
     "data": {
      "text/plain": [
       "['<30', 'NO']"
      ]
     },
     "execution_count": 21,
     "metadata": {},
     "output_type": "execute_result"
    }
   ],
   "source": [
    "df[\"readmitted\"].categories()"
   ]
  },
  {
   "cell_type": "markdown",
   "metadata": {},
   "source": [
    "#### One-hot encoding is done for readmitted column. As we can see above, readmitted status is of two types. <30 days and NO readmission at all. Thus, 0 if No, 1 is <30 days "
   ]
  },
  {
   "cell_type": "code",
   "execution_count": 22,
   "metadata": {},
   "outputs": [],
   "source": [
    "#one-hot encoding: 0 if No and >30, 1 is <30 days \n",
    "df[\"readmitted\"]=df[\"readmitted\"].set_levels([\"1\",\"0\"])"
   ]
  },
  {
   "cell_type": "code",
   "execution_count": 23,
   "metadata": {},
   "outputs": [],
   "source": [
    "#df[\"readmitted\"].categories()"
   ]
  },
  {
   "cell_type": "code",
   "execution_count": 24,
   "metadata": {},
   "outputs": [
    {
     "data": {
      "text/plain": [
       "['id',\n",
       " 'patient_nbr',\n",
       " 'race',\n",
       " 'gender',\n",
       " 'age',\n",
       " 'weight',\n",
       " 'admission_type_id',\n",
       " 'discharge_disposition_id',\n",
       " 'admission_source_id',\n",
       " 'time_in_hospital',\n",
       " 'payer_code',\n",
       " 'medical_specialty',\n",
       " 'num_lab_procedures',\n",
       " 'num_procedures',\n",
       " 'num_medications',\n",
       " 'number_outpatient',\n",
       " 'number_emergency',\n",
       " 'number_inpatient',\n",
       " 'diag_1',\n",
       " 'diag_2',\n",
       " 'diag_3',\n",
       " 'number_diagnoses',\n",
       " 'max_glu_serum',\n",
       " 'A1Cresult',\n",
       " 'metformin',\n",
       " 'repaglinide',\n",
       " 'nateglinide',\n",
       " 'chlorpropamide',\n",
       " 'glimepiride',\n",
       " 'acetohexamide',\n",
       " 'glipizide',\n",
       " 'glyburide',\n",
       " 'tolbutamide',\n",
       " 'pioglitazone',\n",
       " 'rosiglitazone',\n",
       " 'acarbose',\n",
       " 'miglitol',\n",
       " 'troglitazone',\n",
       " 'tolazamide',\n",
       " 'examide',\n",
       " 'citoglipton',\n",
       " 'insulin',\n",
       " 'glyburide-metformin',\n",
       " 'glipizide-metformin',\n",
       " 'glimepiride-pioglitazone',\n",
       " 'metformin-rosiglitazone',\n",
       " 'metformin-pioglitazone',\n",
       " 'change',\n",
       " 'diabetesMed',\n",
       " 'readmitted']"
      ]
     },
     "execution_count": 24,
     "metadata": {},
     "output_type": "execute_result"
    }
   ],
   "source": [
    "df.col_names"
   ]
  },
  {
   "cell_type": "code",
   "execution_count": 25,
   "metadata": {},
   "outputs": [
    {
     "name": "stdout",
     "output_type": "stream",
     "text": [
      "Df colnames:  ['race', 'gender', 'age', 'weight', 'admission_type_id', 'time_in_hospital', 'medical_specialty', 'num_lab_procedures', 'num_procedures', 'num_medications', 'number_outpatient', 'number_emergency', 'number_inpatient', 'diag_1', 'diag_2', 'diag_3', 'number_diagnoses', 'insulin']\n"
     ]
    }
   ],
   "source": [
    "# Set target and predictor variables\n",
    "y = \"readmitted\"\n",
    "x = df.col_names\n",
    "x.remove(y)\n",
    "x.remove(\"id\")\n",
    "x.remove(\"patient_nbr\")\n",
    "x.remove(\"discharge_disposition_id\")\n",
    "x.remove(\"admission_source_id\")\n",
    "x.remove(\"payer_code\")\n",
    "x.remove('max_glu_serum')\n",
    "x.remove('A1Cresult')\n",
    "x.remove('metformin')\n",
    "x.remove('repaglinide')\n",
    "x.remove('chlorpropamide')\n",
    "x.remove('glimepiride')\n",
    "x.remove('acetohexamide')\n",
    "x.remove('glipizide')\n",
    "x.remove('glyburide')\n",
    "x.remove('tolbutamide')\n",
    "x.remove('pioglitazone')\n",
    "x.remove('nateglinide')\n",
    "x.remove('rosiglitazone')\n",
    "x.remove('acarbose')\n",
    "x.remove('miglitol')\n",
    "x.remove('troglitazone')\n",
    "x.remove('tolazamide')\n",
    "x.remove('examide')\n",
    "x.remove('citoglipton')\n",
    "x.remove('glyburide-metformin')\n",
    "x.remove('glipizide-metformin')\n",
    "x.remove('glimepiride-pioglitazone')\n",
    "x.remove('metformin-rosiglitazone')\n",
    "x.remove('metformin-pioglitazone')\n",
    "x.remove('change')\n",
    "x.remove('diabetesMed')\n",
    "print(\"Df colnames: \", x)"
   ]
  },
  {
   "cell_type": "markdown",
   "metadata": {},
   "source": [
    "#### To check if data frame contains NA."
   ]
  },
  {
   "cell_type": "code",
   "execution_count": 26,
   "metadata": {},
   "outputs": [
    {
     "data": {
      "text/html": [
       "<table>\n",
       "<thead>\n",
       "<tr><th style=\"text-align: right;\">  isNA(id)</th><th style=\"text-align: right;\">  isNA(patient_nbr)</th><th style=\"text-align: right;\">  isNA(race)</th><th style=\"text-align: right;\">  isNA(gender)</th><th style=\"text-align: right;\">  isNA(age)</th><th style=\"text-align: right;\">  isNA(weight)</th><th style=\"text-align: right;\">  isNA(admission_type_id)</th><th style=\"text-align: right;\">  isNA(discharge_disposition_id)</th><th style=\"text-align: right;\">  isNA(admission_source_id)</th><th style=\"text-align: right;\">  isNA(time_in_hospital)</th><th style=\"text-align: right;\">  isNA(payer_code)</th><th style=\"text-align: right;\">  isNA(medical_specialty)</th><th style=\"text-align: right;\">  isNA(num_lab_procedures)</th><th style=\"text-align: right;\">  isNA(num_procedures)</th><th style=\"text-align: right;\">  isNA(num_medications)</th><th style=\"text-align: right;\">  isNA(number_outpatient)</th><th style=\"text-align: right;\">  isNA(number_emergency)</th><th style=\"text-align: right;\">  isNA(number_inpatient)</th><th style=\"text-align: right;\">  isNA(diag_1)</th><th style=\"text-align: right;\">  isNA(diag_2)</th><th style=\"text-align: right;\">  isNA(diag_3)</th><th style=\"text-align: right;\">  isNA(number_diagnoses)</th><th style=\"text-align: right;\">  isNA(max_glu_serum)</th><th style=\"text-align: right;\">  isNA(A1Cresult)</th><th style=\"text-align: right;\">  isNA(metformin)</th><th style=\"text-align: right;\">  isNA(repaglinide)</th><th style=\"text-align: right;\">  isNA(nateglinide)</th><th style=\"text-align: right;\">  isNA(chlorpropamide)</th><th style=\"text-align: right;\">  isNA(glimepiride)</th><th style=\"text-align: right;\">  isNA(acetohexamide)</th><th style=\"text-align: right;\">  isNA(glipizide)</th><th style=\"text-align: right;\">  isNA(glyburide)</th><th style=\"text-align: right;\">  isNA(tolbutamide)</th><th style=\"text-align: right;\">  isNA(pioglitazone)</th><th style=\"text-align: right;\">  isNA(rosiglitazone)</th><th style=\"text-align: right;\">  isNA(acarbose)</th><th style=\"text-align: right;\">  isNA(miglitol)</th><th style=\"text-align: right;\">  isNA(troglitazone)</th><th style=\"text-align: right;\">  isNA(tolazamide)</th><th style=\"text-align: right;\">  isNA(examide)</th><th style=\"text-align: right;\">  isNA(citoglipton)</th><th style=\"text-align: right;\">  isNA(insulin)</th><th style=\"text-align: right;\">  isNA(glyburide-metformin)</th><th style=\"text-align: right;\">  isNA(glipizide-metformin)</th><th style=\"text-align: right;\">  isNA(glimepiride-pioglitazone)</th><th style=\"text-align: right;\">  isNA(metformin-rosiglitazone)</th><th style=\"text-align: right;\">  isNA(metformin-pioglitazone)</th><th style=\"text-align: right;\">  isNA(change)</th><th style=\"text-align: right;\">  isNA(diabetesMed)</th><th style=\"text-align: right;\">  isNA(readmitted)</th></tr>\n",
       "</thead>\n",
       "<tbody>\n",
       "<tr><td style=\"text-align: right;\">         0</td><td style=\"text-align: right;\">                  0</td><td style=\"text-align: right;\">           0</td><td style=\"text-align: right;\">             0</td><td style=\"text-align: right;\">          0</td><td style=\"text-align: right;\">             0</td><td style=\"text-align: right;\">                        0</td><td style=\"text-align: right;\">                               0</td><td style=\"text-align: right;\">                          0</td><td style=\"text-align: right;\">                       0</td><td style=\"text-align: right;\">                 0</td><td style=\"text-align: right;\">                        0</td><td style=\"text-align: right;\">                         0</td><td style=\"text-align: right;\">                     0</td><td style=\"text-align: right;\">                      0</td><td style=\"text-align: right;\">                        0</td><td style=\"text-align: right;\">                       0</td><td style=\"text-align: right;\">                       0</td><td style=\"text-align: right;\">             0</td><td style=\"text-align: right;\">             1</td><td style=\"text-align: right;\">             1</td><td style=\"text-align: right;\">                       0</td><td style=\"text-align: right;\">                    0</td><td style=\"text-align: right;\">                0</td><td style=\"text-align: right;\">                0</td><td style=\"text-align: right;\">                  0</td><td style=\"text-align: right;\">                  0</td><td style=\"text-align: right;\">                     0</td><td style=\"text-align: right;\">                  0</td><td style=\"text-align: right;\">                    0</td><td style=\"text-align: right;\">                0</td><td style=\"text-align: right;\">                0</td><td style=\"text-align: right;\">                  0</td><td style=\"text-align: right;\">                   0</td><td style=\"text-align: right;\">                    0</td><td style=\"text-align: right;\">               0</td><td style=\"text-align: right;\">               0</td><td style=\"text-align: right;\">                   0</td><td style=\"text-align: right;\">                 0</td><td style=\"text-align: right;\">              0</td><td style=\"text-align: right;\">                  0</td><td style=\"text-align: right;\">              0</td><td style=\"text-align: right;\">                          0</td><td style=\"text-align: right;\">                          0</td><td style=\"text-align: right;\">                               0</td><td style=\"text-align: right;\">                              0</td><td style=\"text-align: right;\">                             0</td><td style=\"text-align: right;\">             0</td><td style=\"text-align: right;\">                  0</td><td style=\"text-align: right;\">                 0</td></tr>\n",
       "<tr><td style=\"text-align: right;\">         0</td><td style=\"text-align: right;\">                  0</td><td style=\"text-align: right;\">           0</td><td style=\"text-align: right;\">             0</td><td style=\"text-align: right;\">          0</td><td style=\"text-align: right;\">             0</td><td style=\"text-align: right;\">                        0</td><td style=\"text-align: right;\">                               0</td><td style=\"text-align: right;\">                          0</td><td style=\"text-align: right;\">                       0</td><td style=\"text-align: right;\">                 0</td><td style=\"text-align: right;\">                        0</td><td style=\"text-align: right;\">                         0</td><td style=\"text-align: right;\">                     0</td><td style=\"text-align: right;\">                      0</td><td style=\"text-align: right;\">                        0</td><td style=\"text-align: right;\">                       0</td><td style=\"text-align: right;\">                       0</td><td style=\"text-align: right;\">             0</td><td style=\"text-align: right;\">             0</td><td style=\"text-align: right;\">             1</td><td style=\"text-align: right;\">                       0</td><td style=\"text-align: right;\">                    0</td><td style=\"text-align: right;\">                0</td><td style=\"text-align: right;\">                0</td><td style=\"text-align: right;\">                  0</td><td style=\"text-align: right;\">                  0</td><td style=\"text-align: right;\">                     0</td><td style=\"text-align: right;\">                  0</td><td style=\"text-align: right;\">                    0</td><td style=\"text-align: right;\">                0</td><td style=\"text-align: right;\">                0</td><td style=\"text-align: right;\">                  0</td><td style=\"text-align: right;\">                   0</td><td style=\"text-align: right;\">                    0</td><td style=\"text-align: right;\">               0</td><td style=\"text-align: right;\">               0</td><td style=\"text-align: right;\">                   0</td><td style=\"text-align: right;\">                 0</td><td style=\"text-align: right;\">              0</td><td style=\"text-align: right;\">                  0</td><td style=\"text-align: right;\">              0</td><td style=\"text-align: right;\">                          0</td><td style=\"text-align: right;\">                          0</td><td style=\"text-align: right;\">                               0</td><td style=\"text-align: right;\">                              0</td><td style=\"text-align: right;\">                             0</td><td style=\"text-align: right;\">             0</td><td style=\"text-align: right;\">                  0</td><td style=\"text-align: right;\">                 0</td></tr>\n",
       "<tr><td style=\"text-align: right;\">         0</td><td style=\"text-align: right;\">                  0</td><td style=\"text-align: right;\">           0</td><td style=\"text-align: right;\">             0</td><td style=\"text-align: right;\">          0</td><td style=\"text-align: right;\">             0</td><td style=\"text-align: right;\">                        0</td><td style=\"text-align: right;\">                               0</td><td style=\"text-align: right;\">                          0</td><td style=\"text-align: right;\">                       0</td><td style=\"text-align: right;\">                 0</td><td style=\"text-align: right;\">                        0</td><td style=\"text-align: right;\">                         0</td><td style=\"text-align: right;\">                     0</td><td style=\"text-align: right;\">                      0</td><td style=\"text-align: right;\">                        0</td><td style=\"text-align: right;\">                       0</td><td style=\"text-align: right;\">                       0</td><td style=\"text-align: right;\">             0</td><td style=\"text-align: right;\">             0</td><td style=\"text-align: right;\">             0</td><td style=\"text-align: right;\">                       0</td><td style=\"text-align: right;\">                    0</td><td style=\"text-align: right;\">                0</td><td style=\"text-align: right;\">                0</td><td style=\"text-align: right;\">                  0</td><td style=\"text-align: right;\">                  0</td><td style=\"text-align: right;\">                     0</td><td style=\"text-align: right;\">                  0</td><td style=\"text-align: right;\">                    0</td><td style=\"text-align: right;\">                0</td><td style=\"text-align: right;\">                0</td><td style=\"text-align: right;\">                  0</td><td style=\"text-align: right;\">                   0</td><td style=\"text-align: right;\">                    0</td><td style=\"text-align: right;\">               0</td><td style=\"text-align: right;\">               0</td><td style=\"text-align: right;\">                   0</td><td style=\"text-align: right;\">                 0</td><td style=\"text-align: right;\">              0</td><td style=\"text-align: right;\">                  0</td><td style=\"text-align: right;\">              0</td><td style=\"text-align: right;\">                          0</td><td style=\"text-align: right;\">                          0</td><td style=\"text-align: right;\">                               0</td><td style=\"text-align: right;\">                              0</td><td style=\"text-align: right;\">                             0</td><td style=\"text-align: right;\">             0</td><td style=\"text-align: right;\">                  0</td><td style=\"text-align: right;\">                 0</td></tr>\n",
       "<tr><td style=\"text-align: right;\">         0</td><td style=\"text-align: right;\">                  0</td><td style=\"text-align: right;\">           0</td><td style=\"text-align: right;\">             0</td><td style=\"text-align: right;\">          0</td><td style=\"text-align: right;\">             0</td><td style=\"text-align: right;\">                        0</td><td style=\"text-align: right;\">                               0</td><td style=\"text-align: right;\">                          0</td><td style=\"text-align: right;\">                       0</td><td style=\"text-align: right;\">                 0</td><td style=\"text-align: right;\">                        0</td><td style=\"text-align: right;\">                         0</td><td style=\"text-align: right;\">                     0</td><td style=\"text-align: right;\">                      0</td><td style=\"text-align: right;\">                        0</td><td style=\"text-align: right;\">                       0</td><td style=\"text-align: right;\">                       0</td><td style=\"text-align: right;\">             0</td><td style=\"text-align: right;\">             0</td><td style=\"text-align: right;\">             0</td><td style=\"text-align: right;\">                       0</td><td style=\"text-align: right;\">                    0</td><td style=\"text-align: right;\">                0</td><td style=\"text-align: right;\">                0</td><td style=\"text-align: right;\">                  0</td><td style=\"text-align: right;\">                  0</td><td style=\"text-align: right;\">                     0</td><td style=\"text-align: right;\">                  0</td><td style=\"text-align: right;\">                    0</td><td style=\"text-align: right;\">                0</td><td style=\"text-align: right;\">                0</td><td style=\"text-align: right;\">                  0</td><td style=\"text-align: right;\">                   0</td><td style=\"text-align: right;\">                    0</td><td style=\"text-align: right;\">               0</td><td style=\"text-align: right;\">               0</td><td style=\"text-align: right;\">                   0</td><td style=\"text-align: right;\">                 0</td><td style=\"text-align: right;\">              0</td><td style=\"text-align: right;\">                  0</td><td style=\"text-align: right;\">              0</td><td style=\"text-align: right;\">                          0</td><td style=\"text-align: right;\">                          0</td><td style=\"text-align: right;\">                               0</td><td style=\"text-align: right;\">                              0</td><td style=\"text-align: right;\">                             0</td><td style=\"text-align: right;\">             0</td><td style=\"text-align: right;\">                  0</td><td style=\"text-align: right;\">                 0</td></tr>\n",
       "<tr><td style=\"text-align: right;\">         0</td><td style=\"text-align: right;\">                  0</td><td style=\"text-align: right;\">           0</td><td style=\"text-align: right;\">             0</td><td style=\"text-align: right;\">          0</td><td style=\"text-align: right;\">             0</td><td style=\"text-align: right;\">                        0</td><td style=\"text-align: right;\">                               0</td><td style=\"text-align: right;\">                          0</td><td style=\"text-align: right;\">                       0</td><td style=\"text-align: right;\">                 0</td><td style=\"text-align: right;\">                        0</td><td style=\"text-align: right;\">                         0</td><td style=\"text-align: right;\">                     0</td><td style=\"text-align: right;\">                      0</td><td style=\"text-align: right;\">                        0</td><td style=\"text-align: right;\">                       0</td><td style=\"text-align: right;\">                       0</td><td style=\"text-align: right;\">             0</td><td style=\"text-align: right;\">             0</td><td style=\"text-align: right;\">             1</td><td style=\"text-align: right;\">                       0</td><td style=\"text-align: right;\">                    0</td><td style=\"text-align: right;\">                0</td><td style=\"text-align: right;\">                0</td><td style=\"text-align: right;\">                  0</td><td style=\"text-align: right;\">                  0</td><td style=\"text-align: right;\">                     0</td><td style=\"text-align: right;\">                  0</td><td style=\"text-align: right;\">                    0</td><td style=\"text-align: right;\">                0</td><td style=\"text-align: right;\">                0</td><td style=\"text-align: right;\">                  0</td><td style=\"text-align: right;\">                   0</td><td style=\"text-align: right;\">                    0</td><td style=\"text-align: right;\">               0</td><td style=\"text-align: right;\">               0</td><td style=\"text-align: right;\">                   0</td><td style=\"text-align: right;\">                 0</td><td style=\"text-align: right;\">              0</td><td style=\"text-align: right;\">                  0</td><td style=\"text-align: right;\">              0</td><td style=\"text-align: right;\">                          0</td><td style=\"text-align: right;\">                          0</td><td style=\"text-align: right;\">                               0</td><td style=\"text-align: right;\">                              0</td><td style=\"text-align: right;\">                             0</td><td style=\"text-align: right;\">             0</td><td style=\"text-align: right;\">                  0</td><td style=\"text-align: right;\">                 0</td></tr>\n",
       "<tr><td style=\"text-align: right;\">         0</td><td style=\"text-align: right;\">                  0</td><td style=\"text-align: right;\">           0</td><td style=\"text-align: right;\">             0</td><td style=\"text-align: right;\">          0</td><td style=\"text-align: right;\">             0</td><td style=\"text-align: right;\">                        0</td><td style=\"text-align: right;\">                               0</td><td style=\"text-align: right;\">                          0</td><td style=\"text-align: right;\">                       0</td><td style=\"text-align: right;\">                 0</td><td style=\"text-align: right;\">                        0</td><td style=\"text-align: right;\">                         0</td><td style=\"text-align: right;\">                     0</td><td style=\"text-align: right;\">                      0</td><td style=\"text-align: right;\">                        0</td><td style=\"text-align: right;\">                       0</td><td style=\"text-align: right;\">                       0</td><td style=\"text-align: right;\">             0</td><td style=\"text-align: right;\">             0</td><td style=\"text-align: right;\">             0</td><td style=\"text-align: right;\">                       0</td><td style=\"text-align: right;\">                    0</td><td style=\"text-align: right;\">                0</td><td style=\"text-align: right;\">                0</td><td style=\"text-align: right;\">                  0</td><td style=\"text-align: right;\">                  0</td><td style=\"text-align: right;\">                     0</td><td style=\"text-align: right;\">                  0</td><td style=\"text-align: right;\">                    0</td><td style=\"text-align: right;\">                0</td><td style=\"text-align: right;\">                0</td><td style=\"text-align: right;\">                  0</td><td style=\"text-align: right;\">                   0</td><td style=\"text-align: right;\">                    0</td><td style=\"text-align: right;\">               0</td><td style=\"text-align: right;\">               0</td><td style=\"text-align: right;\">                   0</td><td style=\"text-align: right;\">                 0</td><td style=\"text-align: right;\">              0</td><td style=\"text-align: right;\">                  0</td><td style=\"text-align: right;\">              0</td><td style=\"text-align: right;\">                          0</td><td style=\"text-align: right;\">                          0</td><td style=\"text-align: right;\">                               0</td><td style=\"text-align: right;\">                              0</td><td style=\"text-align: right;\">                             0</td><td style=\"text-align: right;\">             0</td><td style=\"text-align: right;\">                  0</td><td style=\"text-align: right;\">                 0</td></tr>\n",
       "<tr><td style=\"text-align: right;\">         0</td><td style=\"text-align: right;\">                  0</td><td style=\"text-align: right;\">           0</td><td style=\"text-align: right;\">             0</td><td style=\"text-align: right;\">          0</td><td style=\"text-align: right;\">             0</td><td style=\"text-align: right;\">                        0</td><td style=\"text-align: right;\">                               0</td><td style=\"text-align: right;\">                          0</td><td style=\"text-align: right;\">                       0</td><td style=\"text-align: right;\">                 0</td><td style=\"text-align: right;\">                        0</td><td style=\"text-align: right;\">                         0</td><td style=\"text-align: right;\">                     0</td><td style=\"text-align: right;\">                      0</td><td style=\"text-align: right;\">                        0</td><td style=\"text-align: right;\">                       0</td><td style=\"text-align: right;\">                       0</td><td style=\"text-align: right;\">             0</td><td style=\"text-align: right;\">             0</td><td style=\"text-align: right;\">             0</td><td style=\"text-align: right;\">                       0</td><td style=\"text-align: right;\">                    0</td><td style=\"text-align: right;\">                0</td><td style=\"text-align: right;\">                0</td><td style=\"text-align: right;\">                  0</td><td style=\"text-align: right;\">                  0</td><td style=\"text-align: right;\">                     0</td><td style=\"text-align: right;\">                  0</td><td style=\"text-align: right;\">                    0</td><td style=\"text-align: right;\">                0</td><td style=\"text-align: right;\">                0</td><td style=\"text-align: right;\">                  0</td><td style=\"text-align: right;\">                   0</td><td style=\"text-align: right;\">                    0</td><td style=\"text-align: right;\">               0</td><td style=\"text-align: right;\">               0</td><td style=\"text-align: right;\">                   0</td><td style=\"text-align: right;\">                 0</td><td style=\"text-align: right;\">              0</td><td style=\"text-align: right;\">                  0</td><td style=\"text-align: right;\">              0</td><td style=\"text-align: right;\">                          0</td><td style=\"text-align: right;\">                          0</td><td style=\"text-align: right;\">                               0</td><td style=\"text-align: right;\">                              0</td><td style=\"text-align: right;\">                             0</td><td style=\"text-align: right;\">             0</td><td style=\"text-align: right;\">                  0</td><td style=\"text-align: right;\">                 0</td></tr>\n",
       "<tr><td style=\"text-align: right;\">         0</td><td style=\"text-align: right;\">                  0</td><td style=\"text-align: right;\">           0</td><td style=\"text-align: right;\">             0</td><td style=\"text-align: right;\">          0</td><td style=\"text-align: right;\">             0</td><td style=\"text-align: right;\">                        0</td><td style=\"text-align: right;\">                               0</td><td style=\"text-align: right;\">                          0</td><td style=\"text-align: right;\">                       0</td><td style=\"text-align: right;\">                 0</td><td style=\"text-align: right;\">                        0</td><td style=\"text-align: right;\">                         0</td><td style=\"text-align: right;\">                     0</td><td style=\"text-align: right;\">                      0</td><td style=\"text-align: right;\">                        0</td><td style=\"text-align: right;\">                       0</td><td style=\"text-align: right;\">                       0</td><td style=\"text-align: right;\">             0</td><td style=\"text-align: right;\">             0</td><td style=\"text-align: right;\">             0</td><td style=\"text-align: right;\">                       0</td><td style=\"text-align: right;\">                    0</td><td style=\"text-align: right;\">                0</td><td style=\"text-align: right;\">                0</td><td style=\"text-align: right;\">                  0</td><td style=\"text-align: right;\">                  0</td><td style=\"text-align: right;\">                     0</td><td style=\"text-align: right;\">                  0</td><td style=\"text-align: right;\">                    0</td><td style=\"text-align: right;\">                0</td><td style=\"text-align: right;\">                0</td><td style=\"text-align: right;\">                  0</td><td style=\"text-align: right;\">                   0</td><td style=\"text-align: right;\">                    0</td><td style=\"text-align: right;\">               0</td><td style=\"text-align: right;\">               0</td><td style=\"text-align: right;\">                   0</td><td style=\"text-align: right;\">                 0</td><td style=\"text-align: right;\">              0</td><td style=\"text-align: right;\">                  0</td><td style=\"text-align: right;\">              0</td><td style=\"text-align: right;\">                          0</td><td style=\"text-align: right;\">                          0</td><td style=\"text-align: right;\">                               0</td><td style=\"text-align: right;\">                              0</td><td style=\"text-align: right;\">                             0</td><td style=\"text-align: right;\">             0</td><td style=\"text-align: right;\">                  0</td><td style=\"text-align: right;\">                 0</td></tr>\n",
       "<tr><td style=\"text-align: right;\">         0</td><td style=\"text-align: right;\">                  0</td><td style=\"text-align: right;\">           0</td><td style=\"text-align: right;\">             0</td><td style=\"text-align: right;\">          0</td><td style=\"text-align: right;\">             0</td><td style=\"text-align: right;\">                        0</td><td style=\"text-align: right;\">                               0</td><td style=\"text-align: right;\">                          0</td><td style=\"text-align: right;\">                       0</td><td style=\"text-align: right;\">                 0</td><td style=\"text-align: right;\">                        0</td><td style=\"text-align: right;\">                         0</td><td style=\"text-align: right;\">                     0</td><td style=\"text-align: right;\">                      0</td><td style=\"text-align: right;\">                        0</td><td style=\"text-align: right;\">                       0</td><td style=\"text-align: right;\">                       0</td><td style=\"text-align: right;\">             0</td><td style=\"text-align: right;\">             0</td><td style=\"text-align: right;\">             0</td><td style=\"text-align: right;\">                       0</td><td style=\"text-align: right;\">                    0</td><td style=\"text-align: right;\">                0</td><td style=\"text-align: right;\">                0</td><td style=\"text-align: right;\">                  0</td><td style=\"text-align: right;\">                  0</td><td style=\"text-align: right;\">                     0</td><td style=\"text-align: right;\">                  0</td><td style=\"text-align: right;\">                    0</td><td style=\"text-align: right;\">                0</td><td style=\"text-align: right;\">                0</td><td style=\"text-align: right;\">                  0</td><td style=\"text-align: right;\">                   0</td><td style=\"text-align: right;\">                    0</td><td style=\"text-align: right;\">               0</td><td style=\"text-align: right;\">               0</td><td style=\"text-align: right;\">                   0</td><td style=\"text-align: right;\">                 0</td><td style=\"text-align: right;\">              0</td><td style=\"text-align: right;\">                  0</td><td style=\"text-align: right;\">              0</td><td style=\"text-align: right;\">                          0</td><td style=\"text-align: right;\">                          0</td><td style=\"text-align: right;\">                               0</td><td style=\"text-align: right;\">                              0</td><td style=\"text-align: right;\">                             0</td><td style=\"text-align: right;\">             0</td><td style=\"text-align: right;\">                  0</td><td style=\"text-align: right;\">                 0</td></tr>\n",
       "<tr><td style=\"text-align: right;\">         0</td><td style=\"text-align: right;\">                  0</td><td style=\"text-align: right;\">           0</td><td style=\"text-align: right;\">             0</td><td style=\"text-align: right;\">          0</td><td style=\"text-align: right;\">             0</td><td style=\"text-align: right;\">                        0</td><td style=\"text-align: right;\">                               0</td><td style=\"text-align: right;\">                          0</td><td style=\"text-align: right;\">                       0</td><td style=\"text-align: right;\">                 0</td><td style=\"text-align: right;\">                        0</td><td style=\"text-align: right;\">                         0</td><td style=\"text-align: right;\">                     0</td><td style=\"text-align: right;\">                      0</td><td style=\"text-align: right;\">                        0</td><td style=\"text-align: right;\">                       0</td><td style=\"text-align: right;\">                       0</td><td style=\"text-align: right;\">             0</td><td style=\"text-align: right;\">             0</td><td style=\"text-align: right;\">             0</td><td style=\"text-align: right;\">                       0</td><td style=\"text-align: right;\">                    0</td><td style=\"text-align: right;\">                0</td><td style=\"text-align: right;\">                0</td><td style=\"text-align: right;\">                  0</td><td style=\"text-align: right;\">                  0</td><td style=\"text-align: right;\">                     0</td><td style=\"text-align: right;\">                  0</td><td style=\"text-align: right;\">                    0</td><td style=\"text-align: right;\">                0</td><td style=\"text-align: right;\">                0</td><td style=\"text-align: right;\">                  0</td><td style=\"text-align: right;\">                   0</td><td style=\"text-align: right;\">                    0</td><td style=\"text-align: right;\">               0</td><td style=\"text-align: right;\">               0</td><td style=\"text-align: right;\">                   0</td><td style=\"text-align: right;\">                 0</td><td style=\"text-align: right;\">              0</td><td style=\"text-align: right;\">                  0</td><td style=\"text-align: right;\">              0</td><td style=\"text-align: right;\">                          0</td><td style=\"text-align: right;\">                          0</td><td style=\"text-align: right;\">                               0</td><td style=\"text-align: right;\">                              0</td><td style=\"text-align: right;\">                             0</td><td style=\"text-align: right;\">             0</td><td style=\"text-align: right;\">                  0</td><td style=\"text-align: right;\">                 0</td></tr>\n",
       "</tbody>\n",
       "</table>"
      ]
     },
     "metadata": {},
     "output_type": "display_data"
    },
    {
     "data": {
      "text/plain": []
     },
     "execution_count": 26,
     "metadata": {},
     "output_type": "execute_result"
    }
   ],
   "source": [
    "df.isna()"
   ]
  },
  {
   "cell_type": "markdown",
   "metadata": {},
   "source": [
    "### Set predictors and response"
   ]
  },
  {
   "cell_type": "code",
   "execution_count": 27,
   "metadata": {},
   "outputs": [
    {
     "data": {
      "text/plain": [
       "h2o.frame.H2OFrame"
      ]
     },
     "execution_count": 27,
     "metadata": {},
     "output_type": "execute_result"
    }
   ],
   "source": [
    "predictors=df[x]\n",
    "type(predictors)"
   ]
  },
  {
   "cell_type": "code",
   "execution_count": 28,
   "metadata": {},
   "outputs": [
    {
     "data": {
      "text/plain": [
       "(50001, 18)"
      ]
     },
     "execution_count": 28,
     "metadata": {},
     "output_type": "execute_result"
    }
   ],
   "source": [
    "predictors.shape"
   ]
  },
  {
   "cell_type": "code",
   "execution_count": 29,
   "metadata": {},
   "outputs": [],
   "source": [
    "response=y"
   ]
  },
  {
   "cell_type": "markdown",
   "metadata": {},
   "source": [
    "### Finding Co-realtion among columns"
   ]
  },
  {
   "cell_type": "code",
   "execution_count": 30,
   "metadata": {},
   "outputs": [],
   "source": [
    "df_cor_cols=df[ints]"
   ]
  },
  {
   "cell_type": "code",
   "execution_count": 31,
   "metadata": {},
   "outputs": [
    {
     "data": {
      "text/plain": [
       "['id',\n",
       " 'patient_nbr',\n",
       " 'time_in_hospital',\n",
       " 'num_lab_procedures',\n",
       " 'num_procedures',\n",
       " 'num_medications',\n",
       " 'number_outpatient',\n",
       " 'number_emergency',\n",
       " 'number_inpatient',\n",
       " 'number_diagnoses']"
      ]
     },
     "execution_count": 31,
     "metadata": {},
     "output_type": "execute_result"
    }
   ],
   "source": [
    "df_cor_cols.columns"
   ]
  },
  {
   "cell_type": "code",
   "execution_count": 32,
   "metadata": {},
   "outputs": [],
   "source": [
    "df_cor_cols=df_cor_cols.drop(\"id\")\n",
    "df_cor_cols=df_cor_cols.drop(\"patient_nbr\")"
   ]
  },
  {
   "cell_type": "code",
   "execution_count": 33,
   "metadata": {},
   "outputs": [
    {
     "data": {
      "text/plain": [
       "['time_in_hospital',\n",
       " 'num_lab_procedures',\n",
       " 'num_procedures',\n",
       " 'num_medications',\n",
       " 'number_outpatient',\n",
       " 'number_emergency',\n",
       " 'number_inpatient',\n",
       " 'number_diagnoses']"
      ]
     },
     "execution_count": 33,
     "metadata": {},
     "output_type": "execute_result"
    }
   ],
   "source": [
    "df_cor_cols.columns"
   ]
  },
  {
   "cell_type": "code",
   "execution_count": 34,
   "metadata": {},
   "outputs": [
    {
     "data": {
      "image/png": "[encoded data removed]",
      "text/plain": [
       "<Figure size 720x720 with 2 Axes>"
      ]
     },
     "metadata": {
      "needs_background": "light"
     },
     "output_type": "display_data"
    }
   ],
   "source": [
    "plt.figure(figsize=(10,10))\n",
    "corr = df_cor_cols.cor().as_data_frame()\n",
    "corr.index = df_cor_cols.columns\n",
    "sns.heatmap(corr, annot = True, cmap='RdYlGn', vmin=-1, vmax=1)\n",
    "plt.title(\"Correlation Heatmap\", fontsize=16)\n",
    "plt.show()"
   ]
  },
  {
   "cell_type": "markdown",
   "metadata": {},
   "source": [
    "#### Observations made from the heat plot above:\n",
    "    * time_in_hospital has a positive correlation on num_medications, rather than number_emergency as one would suspect.\n",
    "    * num_procedures has a positive correlation and significant effect on num_medications.\n",
    "    * number_inpatient and number_emergency has a positive correlation. "
   ]
  },
  {
   "cell_type": "markdown",
   "metadata": {},
   "source": [
    "## Meta data"
   ]
  },
  {
   "cell_type": "code",
   "execution_count": 35,
   "metadata": {},
   "outputs": [],
   "source": [
    "data_path=None\n",
    "all_variables=None\n",
    "test_path=None\n",
    "# target='search_term'\n",
    "target=y\n",
    "nthreads=1 \n",
    "min_mem_size=6 \n",
    "run_time=1500\n",
    "classification=True\n",
    "scale=False\n",
    "max_models=9    \n",
    "model_path=None\n",
    "balance_y=False \n",
    "balance_threshold=0.2\n",
    "name=None \n",
    "server_path=None  \n",
    "analysis=0"
   ]
  },
  {
   "cell_type": "code",
   "execution_count": 36,
   "metadata": {},
   "outputs": [],
   "source": [
    "def set_meta_data(analysis,run_id,server,data,test,model_path,target,run_time,classification,scale,model,balance,balance_threshold,name,path,nthreads,min_mem_size):\n",
    "    m_data={}\n",
    "    m_data['start_time'] = time.time()\n",
    "    m_data['target']=target\n",
    "    m_data['server_path']=server\n",
    "    m_data['data_path']=data \n",
    "    m_data['test_path']=test\n",
    "    m_data['max_models']=model\n",
    "    m_data['run_time']=run_time\n",
    "    m_data['run_id'] =run_id\n",
    "    m_data['scale']=scale\n",
    "    m_data['classification']=classification\n",
    "    m_data['scale']=False\n",
    "    m_data['model_path']=model_path\n",
    "    m_data['balance']=balance\n",
    "    m_data['balance_threshold']=balance_threshold\n",
    "    m_data['project'] =name\n",
    "    m_data['end_time'] = time.time()\n",
    "    m_data['execution_time'] = 0.0\n",
    "    m_data['run_path'] =path\n",
    "    m_data['nthreads'] = nthreads\n",
    "    m_data['min_mem_size'] = min_mem_size\n",
    "    m_data['analysis'] = analysis\n",
    "    return m_data\n"
   ]
  },
  {
   "cell_type": "code",
   "execution_count": 37,
   "metadata": {},
   "outputs": [],
   "source": [
    "def dict_to_json(dct,n):\n",
    "    j = json.dumps(dct, indent=4)\n",
    "    f = open(n, 'w')\n",
    "    print(j, file=f)\n",
    "    f.close()"
   ]
  },
  {
   "cell_type": "code",
   "execution_count": 38,
   "metadata": {},
   "outputs": [],
   "source": [
    "# Functions\n",
    "\n",
    "def alphabet(n):\n",
    "  alpha='0123456789abcdefghijklmnopqrstuvwxyzABCDEFGHIJKLMNOPQRSTUVWXYZ'    \n",
    "  str=''\n",
    "  r=len(alpha)-1   \n",
    "  while len(str)<n:\n",
    "    i=random.randint(0,r)\n",
    "    str+=alpha[i]   \n",
    "  return str"
   ]
  },
  {
   "cell_type": "code",
   "execution_count": 84,
   "metadata": {},
   "outputs": [],
   "source": [
    "run_id=alphabet(9)\n",
    "if server_path==None:\n",
    "  server_path=os.path.abspath(os.curdir)\n",
    "os.chdir(server_path) \n",
    "run_dir = os.path.join(server_path,run_id)\n",
    "os.mkdir(run_dir)\n",
    "os.chdir(run_dir)  "
   ]
  },
  {
   "cell_type": "code",
   "execution_count": 40,
   "metadata": {},
   "outputs": [
    {
     "name": "stdout",
     "output_type": "stream",
     "text": [
      "{'start_time': 1556286029.1753824, 'target': 'readmitted', 'server_path': 'C:\\\\Users\\\\joiss\\\\Desktop\\\\NEU-MSIS\\\\2_Sem2\\\\INFO6105_Data_Science_Engineering_Methods\\\\0_HyperParameter\\\\1500_DS01_HyperParameter', 'data_path': None, 'test_path': None, 'max_models': 9, 'run_time': 1500, 'run_id': 'TSBec6AlF', 'scale': False, 'classification': True, 'model_path': None, 'balance': False, 'balance_threshold': 0.2, 'project': None, 'end_time': 1556286029.1753824, 'execution_time': 0.0, 'run_path': 'C:\\\\Users\\\\joiss\\\\Desktop\\\\NEU-MSIS\\\\2_Sem2\\\\INFO6105_Data_Science_Engineering_Methods\\\\0_HyperParameter\\\\1500_DS01_HyperParameter\\\\TSBec6AlF', 'nthreads': 1, 'min_mem_size': 6, 'analysis': 0}\n"
     ]
    }
   ],
   "source": [
    "# meta data\n",
    "meta_data = set_meta_data(analysis, run_id,server_path,data_path,test_path,model_path,target,run_time,classification,scale,max_models,balance_y,balance_threshold,name,run_dir,nthreads,min_mem_size)\n",
    "print(meta_data)"
   ]
  },
  {
   "cell_type": "code",
   "execution_count": 41,
   "metadata": {},
   "outputs": [
    {
     "name": "stdout",
     "output_type": "stream",
     "text": [
      "meta_data_startTime_beforeModelEval:  Fri Apr 26 09:40:29 2019\n"
     ]
    }
   ],
   "source": [
    "meta_data_startTime_beforeModelEval= time.asctime(time.localtime(meta_data[\"start_time\"])) \n",
    "print(\"meta_data_startTime_beforeModelEval: \",meta_data_startTime_beforeModelEval)"
   ]
  },
  {
   "cell_type": "code",
   "execution_count": 42,
   "metadata": {},
   "outputs": [
    {
     "name": "stdout",
     "output_type": "stream",
     "text": [
      "meta_data_endTime_beforeModelEval=  Fri Apr 26 09:40:29 2019\n"
     ]
    }
   ],
   "source": [
    "meta_data_endTime_beforeModelEval= time.asctime( time.localtime(meta_data[\"end_time\"]) )\n",
    "print( \"meta_data_endTime_beforeModelEval= \", meta_data_endTime_beforeModelEval)"
   ]
  },
  {
   "cell_type": "code",
   "execution_count": 43,
   "metadata": {},
   "outputs": [],
   "source": [
    "# Add independent variables\n",
    "\n",
    "meta_data['X']=predictors.columns "
   ]
  },
  {
   "cell_type": "code",
   "execution_count": 44,
   "metadata": {},
   "outputs": [],
   "source": [
    "meta_data['variables']=df.columns"
   ]
  },
  {
   "cell_type": "code",
   "execution_count": 45,
   "metadata": {},
   "outputs": [],
   "source": [
    "type(predictors)\n",
    "independentVars_df=predictors.as_data_frame()"
   ]
  },
  {
   "cell_type": "code",
   "execution_count": 46,
   "metadata": {},
   "outputs": [],
   "source": [
    "# save the changed dataset\n",
    "dataset_stats=run_id+'_independentVariables.csv'\n",
    "independentVars_df.to_csv(dataset_stats, index=False)"
   ]
  },
  {
   "cell_type": "markdown",
   "metadata": {},
   "source": [
    "## Train model using h2o"
   ]
  },
  {
   "cell_type": "code",
   "execution_count": 48,
   "metadata": {},
   "outputs": [],
   "source": [
    "# Use Auto ML to train models\n",
    "from h2o.automl import H2OAutoML\n",
    "aml = H2OAutoML(max_runtime_secs = run_time,project_name = name,exclude_algos=[\"DeepLearning\",\"StackedEnsemble\"])"
   ]
  },
  {
   "cell_type": "code",
   "execution_count": 49,
   "metadata": {},
   "outputs": [],
   "source": [
    "model_start_time = time.time()"
   ]
  },
  {
   "cell_type": "code",
   "execution_count": 50,
   "metadata": {},
   "outputs": [
    {
     "name": "stdout",
     "output_type": "stream",
     "text": [
      "AutoML progress: |████████████████████████████████████████████████████████| 100%\n"
     ]
    }
   ],
   "source": [
    "aml.train(x = predictors.columns, y = y, training_frame = df)"
   ]
  },
  {
   "cell_type": "code",
   "execution_count": 51,
   "metadata": {},
   "outputs": [],
   "source": [
    "meta_data['model_execution_time'] = time.time() - model_start_time"
   ]
  },
  {
   "cell_type": "markdown",
   "metadata": {},
   "source": [
    "## Print Leaderboard"
   ]
  },
  {
   "cell_type": "code",
   "execution_count": 52,
   "metadata": {},
   "outputs": [
    {
     "data": {
      "text/html": [
       "<table>\n",
       "<thead>\n",
       "<tr><th>model_id                                  </th><th style=\"text-align: right;\">     auc</th><th style=\"text-align: right;\">  logloss</th><th style=\"text-align: right;\">  mean_per_class_error</th><th style=\"text-align: right;\">    rmse</th><th style=\"text-align: right;\">     mse</th></tr>\n",
       "</thead>\n",
       "<tbody>\n",
       "<tr><td>GLM_grid_1_AutoML_20190426_094030_model_1 </td><td style=\"text-align: right;\">0.703705</td><td style=\"text-align: right;\"> 0.425909</td><td style=\"text-align: right;\">              0.466813</td><td style=\"text-align: right;\">0.363647</td><td style=\"text-align: right;\">0.132239</td></tr>\n",
       "<tr><td>GBM_grid_1_AutoML_20190426_094030_model_2 </td><td style=\"text-align: right;\">0.702385</td><td style=\"text-align: right;\"> 0.435839</td><td style=\"text-align: right;\">              0.470784</td><td style=\"text-align: right;\">0.368415</td><td style=\"text-align: right;\">0.135729</td></tr>\n",
       "<tr><td>GBM_grid_1_AutoML_20190426_094030_model_35</td><td style=\"text-align: right;\">0.69755 </td><td style=\"text-align: right;\"> 0.44775 </td><td style=\"text-align: right;\">              0.466529</td><td style=\"text-align: right;\">0.373999</td><td style=\"text-align: right;\">0.139875</td></tr>\n",
       "<tr><td>GBM_grid_1_AutoML_20190426_094030_model_36</td><td style=\"text-align: right;\">0.695079</td><td style=\"text-align: right;\"> 0.439797</td><td style=\"text-align: right;\">              0.467363</td><td style=\"text-align: right;\">0.370171</td><td style=\"text-align: right;\">0.137026</td></tr>\n",
       "<tr><td>GBM_grid_1_AutoML_20190426_094030_model_12</td><td style=\"text-align: right;\">0.695042</td><td style=\"text-align: right;\"> 0.443372</td><td style=\"text-align: right;\">              0.467618</td><td style=\"text-align: right;\">0.371787</td><td style=\"text-align: right;\">0.138226</td></tr>\n",
       "<tr><td>GBM_grid_1_AutoML_20190426_094030_model_23</td><td style=\"text-align: right;\">0.693969</td><td style=\"text-align: right;\"> 0.444006</td><td style=\"text-align: right;\">              0.470349</td><td style=\"text-align: right;\">0.372114</td><td style=\"text-align: right;\">0.138469</td></tr>\n",
       "<tr><td>GBM_grid_1_AutoML_20190426_094030_model_3 </td><td style=\"text-align: right;\">0.69346 </td><td style=\"text-align: right;\"> 0.440833</td><td style=\"text-align: right;\">              0.474461</td><td style=\"text-align: right;\">0.370603</td><td style=\"text-align: right;\">0.137347</td></tr>\n",
       "<tr><td>GBM_grid_1_AutoML_20190426_094030_model_15</td><td style=\"text-align: right;\">0.690962</td><td style=\"text-align: right;\"> 0.439854</td><td style=\"text-align: right;\">              0.472897</td><td style=\"text-align: right;\">0.370152</td><td style=\"text-align: right;\">0.137013</td></tr>\n",
       "<tr><td>GBM_grid_1_AutoML_20190426_094030_model_7 </td><td style=\"text-align: right;\">0.689906</td><td style=\"text-align: right;\"> 0.43513 </td><td style=\"text-align: right;\">              0.469288</td><td style=\"text-align: right;\">0.36806 </td><td style=\"text-align: right;\">0.135468</td></tr>\n",
       "<tr><td>GBM_grid_1_AutoML_20190426_094030_model_43</td><td style=\"text-align: right;\">0.689141</td><td style=\"text-align: right;\"> 0.431051</td><td style=\"text-align: right;\">              0.471447</td><td style=\"text-align: right;\">0.365936</td><td style=\"text-align: right;\">0.133909</td></tr>\n",
       "</tbody>\n",
       "</table>"
      ]
     },
     "metadata": {},
     "output_type": "display_data"
    },
    {
     "data": {
      "text/plain": []
     },
     "execution_count": 52,
     "metadata": {},
     "output_type": "execute_result"
    }
   ],
   "source": [
    "aml.leaderboard"
   ]
  },
  {
   "cell_type": "code",
   "execution_count": 53,
   "metadata": {},
   "outputs": [
    {
     "name": "stdout",
     "output_type": "stream",
     "text": [
      "Model Details\n",
      "=============\n",
      "H2OGeneralizedLinearEstimator :  Generalized Linear Modeling\n",
      "Model Key:  GLM_grid_1_AutoML_20190426_094030_model_1\n",
      "\n",
      "\n",
      "ModelMetricsBinomialGLM: glm\n",
      "** Reported on train data. **\n",
      "\n",
      "MSE: 0.1303855713609179\n",
      "RMSE: 0.3610894229424588\n",
      "LogLoss: 0.4197844663567225\n",
      "Null degrees of freedom: 50000\n",
      "Residual degrees of freedom: 48064\n",
      "Null deviance: 46755.46076076399\n",
      "Residual deviance: 41979.28620460497\n",
      "AIC: 45853.28620460497\n",
      "AUC: 0.7220592938536408\n",
      "pr_auc: 0.9142439646635243\n",
      "Gini: 0.4441185877072815\n",
      "Confusion Matrix (Act/Pred) for max f1 @ threshold = 0.4268807709608796: \n"
     ]
    },
    {
     "data": {
      "text/html": [
       "<div style=\"overflow:auto\"><table style=\"width:50%\"><tr><td><b></b></td>\n",
       "<td><b>1</b></td>\n",
       "<td><b>0</b></td>\n",
       "<td><b>Error</b></td>\n",
       "<td><b>Rate</b></td></tr>\n",
       "<tr><td>1</td>\n",
       "<td>650.0</td>\n",
       "<td>8224.0</td>\n",
       "<td>0.9268</td>\n",
       "<td> (8224.0/8874.0)</td></tr>\n",
       "<tr><td>0</td>\n",
       "<td>300.0</td>\n",
       "<td>40827.0</td>\n",
       "<td>0.0073</td>\n",
       "<td> (300.0/41127.0)</td></tr>\n",
       "<tr><td>Total</td>\n",
       "<td>950.0</td>\n",
       "<td>49051.0</td>\n",
       "<td>0.1705</td>\n",
       "<td> (8524.0/50001.0)</td></tr></table></div>"
      ],
      "text/plain": [
       "       1    0      Error    Rate\n",
       "-----  ---  -----  -------  ----------------\n",
       "1      650  8224   0.9268   (8224.0/8874.0)\n",
       "0      300  40827  0.0073   (300.0/41127.0)\n",
       "Total  950  49051  0.1705   (8524.0/50001.0)"
      ]
     },
     "metadata": {},
     "output_type": "display_data"
    },
    {
     "name": "stdout",
     "output_type": "stream",
     "text": [
      "Maximum Metrics: Maximum metrics at their respective thresholds\n",
      "\n"
     ]
    },
    {
     "data": {
      "text/html": [
       "<div style=\"overflow:auto\"><table style=\"width:50%\"><tr><td><b>metric</b></td>\n",
       "<td><b>threshold</b></td>\n",
       "<td><b>value</b></td>\n",
       "<td><b>idx</b></td></tr>\n",
       "<tr><td>max f1</td>\n",
       "<td>0.4268808</td>\n",
       "<td>0.9054758</td>\n",
       "<td>324.0</td></tr>\n",
       "<tr><td>max f2</td>\n",
       "<td>0.0982652</td>\n",
       "<td>0.9587683</td>\n",
       "<td>385.0</td></tr>\n",
       "<tr><td>max f0point5</td>\n",
       "<td>0.7241591</td>\n",
       "<td>0.8703313</td>\n",
       "<td>212.0</td></tr>\n",
       "<tr><td>max accuracy</td>\n",
       "<td>0.5191672</td>\n",
       "<td>0.8299834</td>\n",
       "<td>298.0</td></tr>\n",
       "<tr><td>max precision</td>\n",
       "<td>0.9698794</td>\n",
       "<td>1.0</td>\n",
       "<td>0.0</td></tr>\n",
       "<tr><td>max recall</td>\n",
       "<td>0.0030623</td>\n",
       "<td>1.0</td>\n",
       "<td>399.0</td></tr>\n",
       "<tr><td>max specificity</td>\n",
       "<td>0.9698794</td>\n",
       "<td>1.0</td>\n",
       "<td>0.0</td></tr>\n",
       "<tr><td>max absolute_mcc</td>\n",
       "<td>0.7874803</td>\n",
       "<td>0.2650538</td>\n",
       "<td>167.0</td></tr>\n",
       "<tr><td>max min_per_class_accuracy</td>\n",
       "<td>0.8343972</td>\n",
       "<td>0.6603561</td>\n",
       "<td>126.0</td></tr>\n",
       "<tr><td>max mean_per_class_accuracy</td>\n",
       "<td>0.8287440</td>\n",
       "<td>0.6634372</td>\n",
       "<td>131.0</td></tr></table></div>"
      ],
      "text/plain": [
       "metric                       threshold    value     idx\n",
       "---------------------------  -----------  --------  -----\n",
       "max f1                       0.426881     0.905476  324\n",
       "max f2                       0.0982652    0.958768  385\n",
       "max f0point5                 0.724159     0.870331  212\n",
       "max accuracy                 0.519167     0.829983  298\n",
       "max precision                0.969879     1         0\n",
       "max recall                   0.00306234   1         399\n",
       "max specificity              0.969879     1         0\n",
       "max absolute_mcc             0.78748      0.265054  167\n",
       "max min_per_class_accuracy   0.834397     0.660356  126\n",
       "max mean_per_class_accuracy  0.828744     0.663437  131"
      ]
     },
     "metadata": {},
     "output_type": "display_data"
    },
    {
     "name": "stdout",
     "output_type": "stream",
     "text": [
      "Gains/Lift Table: Avg response rate: 82.25 %, avg score: 82.25 %\n",
      "\n"
     ]
    },
    {
     "data": {
      "text/html": [
       "<div style=\"overflow:auto\"><table style=\"width:50%\"><tr><td><b></b></td>\n",
       "<td><b>group</b></td>\n",
       "<td><b>cumulative_data_fraction</b></td>\n",
       "<td><b>lower_threshold</b></td>\n",
       "<td><b>lift</b></td>\n",
       "<td><b>cumulative_lift</b></td>\n",
       "<td><b>response_rate</b></td>\n",
       "<td><b>score</b></td>\n",
       "<td><b>cumulative_response_rate</b></td>\n",
       "<td><b>cumulative_score</b></td>\n",
       "<td><b>capture_rate</b></td>\n",
       "<td><b>cumulative_capture_rate</b></td>\n",
       "<td><b>gain</b></td>\n",
       "<td><b>cumulative_gain</b></td></tr>\n",
       "<tr><td></td>\n",
       "<td>1</td>\n",
       "<td>0.0100198</td>\n",
       "<td>0.9501571</td>\n",
       "<td>1.1987838</td>\n",
       "<td>1.1987838</td>\n",
       "<td>0.9860279</td>\n",
       "<td>0.9560484</td>\n",
       "<td>0.9860279</td>\n",
       "<td>0.9560484</td>\n",
       "<td>0.0120116</td>\n",
       "<td>0.0120116</td>\n",
       "<td>19.8783846</td>\n",
       "<td>19.8783846</td></tr>\n",
       "<tr><td></td>\n",
       "<td>2</td>\n",
       "<td>0.0200196</td>\n",
       "<td>0.9436943</td>\n",
       "<td>1.1744345</td>\n",
       "<td>1.1866213</td>\n",
       "<td>0.966</td>\n",
       "<td>0.9465289</td>\n",
       "<td>0.9760240</td>\n",
       "<td>0.9512934</td>\n",
       "<td>0.0117441</td>\n",
       "<td>0.0237557</td>\n",
       "<td>17.4434459</td>\n",
       "<td>18.6621315</td></tr>\n",
       "<tr><td></td>\n",
       "<td>3</td>\n",
       "<td>0.0300194</td>\n",
       "<td>0.9395218</td>\n",
       "<td>1.1720029</td>\n",
       "<td>1.1817518</td>\n",
       "<td>0.964</td>\n",
       "<td>0.9415425</td>\n",
       "<td>0.9720187</td>\n",
       "<td>0.9480453</td>\n",
       "<td>0.0117198</td>\n",
       "<td>0.0354755</td>\n",
       "<td>17.2002918</td>\n",
       "<td>18.1751762</td></tr>\n",
       "<tr><td></td>\n",
       "<td>4</td>\n",
       "<td>0.0400192</td>\n",
       "<td>0.9357561</td>\n",
       "<td>1.1768660</td>\n",
       "<td>1.1805309</td>\n",
       "<td>0.968</td>\n",
       "<td>0.9375977</td>\n",
       "<td>0.9710145</td>\n",
       "<td>0.9454347</td>\n",
       "<td>0.0117684</td>\n",
       "<td>0.0472439</td>\n",
       "<td>17.6866000</td>\n",
       "<td>18.0530932</td></tr>\n",
       "<tr><td></td>\n",
       "<td>5</td>\n",
       "<td>0.0500190</td>\n",
       "<td>0.9325317</td>\n",
       "<td>1.1622768</td>\n",
       "<td>1.1768816</td>\n",
       "<td>0.956</td>\n",
       "<td>0.9341513</td>\n",
       "<td>0.9680128</td>\n",
       "<td>0.9431789</td>\n",
       "<td>0.0116225</td>\n",
       "<td>0.0588664</td>\n",
       "<td>16.2276752</td>\n",
       "<td>17.6881556</td></tr>\n",
       "<tr><td></td>\n",
       "<td>6</td>\n",
       "<td>0.1000180</td>\n",
       "<td>0.9206828</td>\n",
       "<td>1.1476875</td>\n",
       "<td>1.1622874</td>\n",
       "<td>0.944</td>\n",
       "<td>0.9262505</td>\n",
       "<td>0.9560088</td>\n",
       "<td>0.9347164</td>\n",
       "<td>0.0573832</td>\n",
       "<td>0.1162497</td>\n",
       "<td>14.7687505</td>\n",
       "<td>16.2287449</td></tr>\n",
       "<tr><td></td>\n",
       "<td>7</td>\n",
       "<td>0.1500170</td>\n",
       "<td>0.9112860</td>\n",
       "<td>1.1335846</td>\n",
       "<td>1.1527211</td>\n",
       "<td>0.9324</td>\n",
       "<td>0.9159427</td>\n",
       "<td>0.9481402</td>\n",
       "<td>0.9284593</td>\n",
       "<td>0.0566781</td>\n",
       "<td>0.1729278</td>\n",
       "<td>13.3584565</td>\n",
       "<td>15.2721097</td></tr>\n",
       "<tr><td></td>\n",
       "<td>8</td>\n",
       "<td>0.2000160</td>\n",
       "<td>0.9026883</td>\n",
       "<td>1.1350435</td>\n",
       "<td>1.1483021</td>\n",
       "<td>0.9336</td>\n",
       "<td>0.9069187</td>\n",
       "<td>0.9445055</td>\n",
       "<td>0.9230747</td>\n",
       "<td>0.0567510</td>\n",
       "<td>0.2296788</td>\n",
       "<td>13.5043490</td>\n",
       "<td>14.8302137</td></tr>\n",
       "<tr><td></td>\n",
       "<td>9</td>\n",
       "<td>0.3000140</td>\n",
       "<td>0.8872445</td>\n",
       "<td>1.1114575</td>\n",
       "<td>1.1360214</td>\n",
       "<td>0.9142</td>\n",
       "<td>0.8949840</td>\n",
       "<td>0.9344044</td>\n",
       "<td>0.9137117</td>\n",
       "<td>0.1111435</td>\n",
       "<td>0.3408223</td>\n",
       "<td>11.1457539</td>\n",
       "<td>13.6021423</td></tr>\n",
       "<tr><td></td>\n",
       "<td>10</td>\n",
       "<td>0.4000120</td>\n",
       "<td>0.8714480</td>\n",
       "<td>1.0839811</td>\n",
       "<td>1.1230120</td>\n",
       "<td>0.8916</td>\n",
       "<td>0.8794706</td>\n",
       "<td>0.9237038</td>\n",
       "<td>0.9051519</td>\n",
       "<td>0.1083959</td>\n",
       "<td>0.4492183</td>\n",
       "<td>8.3981122</td>\n",
       "<td>12.3011998</td></tr>\n",
       "<tr><td></td>\n",
       "<td>11</td>\n",
       "<td>0.5000100</td>\n",
       "<td>0.8547116</td>\n",
       "<td>1.0574773</td>\n",
       "<td>1.1099056</td>\n",
       "<td>0.8698</td>\n",
       "<td>0.8631661</td>\n",
       "<td>0.9129235</td>\n",
       "<td>0.8967551</td>\n",
       "<td>0.1057456</td>\n",
       "<td>0.5549639</td>\n",
       "<td>5.7477321</td>\n",
       "<td>10.9905587</td></tr>\n",
       "<tr><td></td>\n",
       "<td>12</td>\n",
       "<td>0.6000080</td>\n",
       "<td>0.8353465</td>\n",
       "<td>1.0253810</td>\n",
       "<td>1.0958186</td>\n",
       "<td>0.8434</td>\n",
       "<td>0.8452959</td>\n",
       "<td>0.9013366</td>\n",
       "<td>0.8881788</td>\n",
       "<td>0.1025360</td>\n",
       "<td>0.6574999</td>\n",
       "<td>2.5380976</td>\n",
       "<td>9.5818621</td></tr>\n",
       "<tr><td></td>\n",
       "<td>13</td>\n",
       "<td>0.7000060</td>\n",
       "<td>0.8101218</td>\n",
       "<td>0.9842879</td>\n",
       "<td>1.0798861</td>\n",
       "<td>0.8096</td>\n",
       "<td>0.8233686</td>\n",
       "<td>0.8882318</td>\n",
       "<td>0.8789205</td>\n",
       "<td>0.0984268</td>\n",
       "<td>0.7559268</td>\n",
       "<td>-1.5712072</td>\n",
       "<td>7.9886120</td></tr>\n",
       "<tr><td></td>\n",
       "<td>14</td>\n",
       "<td>0.8000040</td>\n",
       "<td>0.7719662</td>\n",
       "<td>0.9286056</td>\n",
       "<td>1.0609765</td>\n",
       "<td>0.7638</td>\n",
       "<td>0.7927215</td>\n",
       "<td>0.8726782</td>\n",
       "<td>0.8681459</td>\n",
       "<td>0.0928587</td>\n",
       "<td>0.8487855</td>\n",
       "<td>-7.1394369</td>\n",
       "<td>6.0976532</td></tr>\n",
       "<tr><td></td>\n",
       "<td>15</td>\n",
       "<td>0.9000020</td>\n",
       "<td>0.6964571</td>\n",
       "<td>0.8678171</td>\n",
       "<td>1.0395148</td>\n",
       "<td>0.7138</td>\n",
       "<td>0.7400760</td>\n",
       "<td>0.8550254</td>\n",
       "<td>0.8539162</td>\n",
       "<td>0.0867800</td>\n",
       "<td>0.9355654</td>\n",
       "<td>-13.2182902</td>\n",
       "<td>3.9514850</td></tr>\n",
       "<tr><td></td>\n",
       "<td>16</td>\n",
       "<td>1.0</td>\n",
       "<td>0.0007066</td>\n",
       "<td>0.6443585</td>\n",
       "<td>1.0</td>\n",
       "<td>0.53</td>\n",
       "<td>0.5399832</td>\n",
       "<td>0.8225235</td>\n",
       "<td>0.8225235</td>\n",
       "<td>0.0644346</td>\n",
       "<td>1.0</td>\n",
       "<td>-35.5641549</td>\n",
       "<td>0.0</td></tr></table></div>"
      ],
      "text/plain": [
       "    group    cumulative_data_fraction    lower_threshold    lift      cumulative_lift    response_rate    score     cumulative_response_rate    cumulative_score    capture_rate    cumulative_capture_rate    gain      cumulative_gain\n",
       "--  -------  --------------------------  -----------------  --------  -----------------  ---------------  --------  --------------------------  ------------------  --------------  -------------------------  --------  -----------------\n",
       "    1        0.0100198                   0.950157           1.19878   1.19878            0.986028         0.956048  0.986028                    0.956048            0.0120116       0.0120116                  19.8784   19.8784\n",
       "    2        0.0200196                   0.943694           1.17443   1.18662            0.966            0.946529  0.976024                    0.951293            0.0117441       0.0237557                  17.4434   18.6621\n",
       "    3        0.0300194                   0.939522           1.172     1.18175            0.964            0.941542  0.972019                    0.948045            0.0117198       0.0354755                  17.2003   18.1752\n",
       "    4        0.0400192                   0.935756           1.17687   1.18053            0.968            0.937598  0.971014                    0.945435            0.0117684       0.0472439                  17.6866   18.0531\n",
       "    5        0.050019                    0.932532           1.16228   1.17688            0.956            0.934151  0.968013                    0.943179            0.0116225       0.0588664                  16.2277   17.6882\n",
       "    6        0.100018                    0.920683           1.14769   1.16229            0.944            0.92625   0.956009                    0.934716            0.0573832       0.11625                    14.7688   16.2287\n",
       "    7        0.150017                    0.911286           1.13358   1.15272            0.9324           0.915943  0.94814                     0.928459            0.0566781       0.172928                   13.3585   15.2721\n",
       "    8        0.200016                    0.902688           1.13504   1.1483             0.9336           0.906919  0.944506                    0.923075            0.056751        0.229679                   13.5043   14.8302\n",
       "    9        0.300014                    0.887244           1.11146   1.13602            0.9142           0.894984  0.934404                    0.913712            0.111144        0.340822                   11.1458   13.6021\n",
       "    10       0.400012                    0.871448           1.08398   1.12301            0.8916           0.879471  0.923704                    0.905152            0.108396        0.449218                   8.39811   12.3012\n",
       "    11       0.50001                     0.854712           1.05748   1.10991            0.8698           0.863166  0.912923                    0.896755            0.105746        0.554964                   5.74773   10.9906\n",
       "    12       0.600008                    0.835347           1.02538   1.09582            0.8434           0.845296  0.901337                    0.888179            0.102536        0.6575                     2.5381    9.58186\n",
       "    13       0.700006                    0.810122           0.984288  1.07989            0.8096           0.823369  0.888232                    0.87892             0.0984268       0.755927                   -1.57121  7.98861\n",
       "    14       0.800004                    0.771966           0.928606  1.06098            0.7638           0.792722  0.872678                    0.868146            0.0928587       0.848785                   -7.13944  6.09765\n",
       "    15       0.900002                    0.696457           0.867817  1.03951            0.7138           0.740076  0.855025                    0.853916            0.08678         0.935565                   -13.2183  3.95148\n",
       "    16       1                           0.000706572        0.644358  1                  0.53             0.539983  0.822524                    0.822524            0.0644346       1                          -35.5642  0"
      ]
     },
     "metadata": {},
     "output_type": "display_data"
    },
    {
     "name": "stdout",
     "output_type": "stream",
     "text": [
      "\n",
      "\n",
      "ModelMetricsBinomialGLM: glm\n",
      "** Reported on cross-validation data. **\n",
      "\n",
      "MSE: 0.13223928094364273\n",
      "RMSE: 0.36364719295443865\n",
      "LogLoss: 0.42590871504489036\n",
      "Null degrees of freedom: 50000\n",
      "Residual degrees of freedom: 48140\n",
      "Null deviance: 46757.65408098023\n",
      "Residual deviance: 42591.723321919126\n",
      "AIC: 46313.723321919126\n",
      "AUC: 0.7037050422028931\n",
      "pr_auc: 0.9066396222626742\n",
      "Gini: 0.4074100844057862\n",
      "Confusion Matrix (Act/Pred) for max f1 @ threshold = 0.433153125379538: \n"
     ]
    },
    {
     "data": {
      "text/html": [
       "<div style=\"overflow:auto\"><table style=\"width:50%\"><tr><td><b></b></td>\n",
       "<td><b>1</b></td>\n",
       "<td><b>0</b></td>\n",
       "<td><b>Error</b></td>\n",
       "<td><b>Rate</b></td></tr>\n",
       "<tr><td>1</td>\n",
       "<td>660.0</td>\n",
       "<td>8214.0</td>\n",
       "<td>0.9256</td>\n",
       "<td> (8214.0/8874.0)</td></tr>\n",
       "<tr><td>0</td>\n",
       "<td>329.0</td>\n",
       "<td>40798.0</td>\n",
       "<td>0.008</td>\n",
       "<td> (329.0/41127.0)</td></tr>\n",
       "<tr><td>Total</td>\n",
       "<td>989.0</td>\n",
       "<td>49012.0</td>\n",
       "<td>0.1709</td>\n",
       "<td> (8543.0/50001.0)</td></tr></table></div>"
      ],
      "text/plain": [
       "       1    0      Error    Rate\n",
       "-----  ---  -----  -------  ----------------\n",
       "1      660  8214   0.9256   (8214.0/8874.0)\n",
       "0      329  40798  0.008    (329.0/41127.0)\n",
       "Total  989  49012  0.1709   (8543.0/50001.0)"
      ]
     },
     "metadata": {},
     "output_type": "display_data"
    },
    {
     "name": "stdout",
     "output_type": "stream",
     "text": [
      "Maximum Metrics: Maximum metrics at their respective thresholds\n",
      "\n"
     ]
    },
    {
     "data": {
      "text/html": [
       "<div style=\"overflow:auto\"><table style=\"width:50%\"><tr><td><b>metric</b></td>\n",
       "<td><b>threshold</b></td>\n",
       "<td><b>value</b></td>\n",
       "<td><b>idx</b></td></tr>\n",
       "<tr><td>max f1</td>\n",
       "<td>0.4331531</td>\n",
       "<td>0.9052242</td>\n",
       "<td>325.0</td></tr>\n",
       "<tr><td>max f2</td>\n",
       "<td>0.0873276</td>\n",
       "<td>0.9587370</td>\n",
       "<td>386.0</td></tr>\n",
       "<tr><td>max f0point5</td>\n",
       "<td>0.7019020</td>\n",
       "<td>0.8682434</td>\n",
       "<td>227.0</td></tr>\n",
       "<tr><td>max accuracy</td>\n",
       "<td>0.5005779</td>\n",
       "<td>0.8292634</td>\n",
       "<td>306.0</td></tr>\n",
       "<tr><td>max precision</td>\n",
       "<td>0.9702211</td>\n",
       "<td>1.0</td>\n",
       "<td>0.0</td></tr>\n",
       "<tr><td>max recall</td>\n",
       "<td>0.0027728</td>\n",
       "<td>1.0</td>\n",
       "<td>399.0</td></tr>\n",
       "<tr><td>max specificity</td>\n",
       "<td>0.9702211</td>\n",
       "<td>1.0</td>\n",
       "<td>0.0</td></tr>\n",
       "<tr><td>max absolute_mcc</td>\n",
       "<td>0.7512555</td>\n",
       "<td>0.2469049</td>\n",
       "<td>198.0</td></tr>\n",
       "<tr><td>max min_per_class_accuracy</td>\n",
       "<td>0.8371292</td>\n",
       "<td>0.6458288</td>\n",
       "<td>124.0</td></tr>\n",
       "<tr><td>max mean_per_class_accuracy</td>\n",
       "<td>0.8352961</td>\n",
       "<td>0.6482796</td>\n",
       "<td>126.0</td></tr></table></div>"
      ],
      "text/plain": [
       "metric                       threshold    value     idx\n",
       "---------------------------  -----------  --------  -----\n",
       "max f1                       0.433153     0.905224  325\n",
       "max f2                       0.0873276    0.958737  386\n",
       "max f0point5                 0.701902     0.868243  227\n",
       "max accuracy                 0.500578     0.829263  306\n",
       "max precision                0.970221     1         0\n",
       "max recall                   0.00277283   1         399\n",
       "max specificity              0.970221     1         0\n",
       "max absolute_mcc             0.751256     0.246905  198\n",
       "max min_per_class_accuracy   0.837129     0.645829  124\n",
       "max mean_per_class_accuracy  0.835296     0.64828   126"
      ]
     },
     "metadata": {},
     "output_type": "display_data"
    },
    {
     "name": "stdout",
     "output_type": "stream",
     "text": [
      "Gains/Lift Table: Avg response rate: 82.25 %, avg score: 82.25 %\n",
      "\n"
     ]
    },
    {
     "data": {
      "text/html": [
       "<div style=\"overflow:auto\"><table style=\"width:50%\"><tr><td><b></b></td>\n",
       "<td><b>group</b></td>\n",
       "<td><b>cumulative_data_fraction</b></td>\n",
       "<td><b>lower_threshold</b></td>\n",
       "<td><b>lift</b></td>\n",
       "<td><b>cumulative_lift</b></td>\n",
       "<td><b>response_rate</b></td>\n",
       "<td><b>score</b></td>\n",
       "<td><b>cumulative_response_rate</b></td>\n",
       "<td><b>cumulative_score</b></td>\n",
       "<td><b>capture_rate</b></td>\n",
       "<td><b>cumulative_capture_rate</b></td>\n",
       "<td><b>gain</b></td>\n",
       "<td><b>cumulative_gain</b></td></tr>\n",
       "<tr><td></td>\n",
       "<td>1</td>\n",
       "<td>0.0100198</td>\n",
       "<td>0.9488531</td>\n",
       "<td>1.1842237</td>\n",
       "<td>1.1842237</td>\n",
       "<td>0.9740519</td>\n",
       "<td>0.9549437</td>\n",
       "<td>0.9740519</td>\n",
       "<td>0.9549437</td>\n",
       "<td>0.0118657</td>\n",
       "<td>0.0118657</td>\n",
       "<td>18.4223718</td>\n",
       "<td>18.4223718</td></tr>\n",
       "<tr><td></td>\n",
       "<td>2</td>\n",
       "<td>0.0200196</td>\n",
       "<td>0.9426758</td>\n",
       "<td>1.1792975</td>\n",
       "<td>1.1817631</td>\n",
       "<td>0.97</td>\n",
       "<td>0.9455348</td>\n",
       "<td>0.9720280</td>\n",
       "<td>0.9502439</td>\n",
       "<td>0.0117927</td>\n",
       "<td>0.0236584</td>\n",
       "<td>17.9297542</td>\n",
       "<td>18.1763091</td></tr>\n",
       "<tr><td></td>\n",
       "<td>3</td>\n",
       "<td>0.0300194</td>\n",
       "<td>0.9386235</td>\n",
       "<td>1.1452560</td>\n",
       "<td>1.1696022</td>\n",
       "<td>0.942</td>\n",
       "<td>0.9405851</td>\n",
       "<td>0.9620253</td>\n",
       "<td>0.9470265</td>\n",
       "<td>0.0114523</td>\n",
       "<td>0.0351108</td>\n",
       "<td>14.5255963</td>\n",
       "<td>16.9602155</td></tr>\n",
       "<tr><td></td>\n",
       "<td>4</td>\n",
       "<td>0.0400192</td>\n",
       "<td>0.9352672</td>\n",
       "<td>1.1598452</td>\n",
       "<td>1.1671641</td>\n",
       "<td>0.954</td>\n",
       "<td>0.9369193</td>\n",
       "<td>0.9600200</td>\n",
       "<td>0.9445009</td>\n",
       "<td>0.0115982</td>\n",
       "<td>0.0467090</td>\n",
       "<td>15.9845211</td>\n",
       "<td>16.7164138</td></tr>\n",
       "<tr><td></td>\n",
       "<td>5</td>\n",
       "<td>0.0500190</td>\n",
       "<td>0.9319813</td>\n",
       "<td>1.1574137</td>\n",
       "<td>1.1652148</td>\n",
       "<td>0.952</td>\n",
       "<td>0.9335818</td>\n",
       "<td>0.9584166</td>\n",
       "<td>0.9423180</td>\n",
       "<td>0.0115739</td>\n",
       "<td>0.0582829</td>\n",
       "<td>15.7413670</td>\n",
       "<td>16.5214824</td></tr>\n",
       "<tr><td></td>\n",
       "<td>6</td>\n",
       "<td>0.1000180</td>\n",
       "<td>0.9200450</td>\n",
       "<td>1.1345572</td>\n",
       "<td>1.1498891</td>\n",
       "<td>0.9332</td>\n",
       "<td>0.9255969</td>\n",
       "<td>0.9458108</td>\n",
       "<td>0.9339591</td>\n",
       "<td>0.0567267</td>\n",
       "<td>0.1150096</td>\n",
       "<td>13.4557181</td>\n",
       "<td>14.9889068</td></tr>\n",
       "<tr><td></td>\n",
       "<td>7</td>\n",
       "<td>0.1500170</td>\n",
       "<td>0.9105237</td>\n",
       "<td>1.1262899</td>\n",
       "<td>1.1420237</td>\n",
       "<td>0.9264</td>\n",
       "<td>0.9151551</td>\n",
       "<td>0.9393414</td>\n",
       "<td>0.9276919</td>\n",
       "<td>0.0563134</td>\n",
       "<td>0.1713230</td>\n",
       "<td>12.6289941</td>\n",
       "<td>14.2023741</td></tr>\n",
       "<tr><td></td>\n",
       "<td>8</td>\n",
       "<td>0.2000160</td>\n",
       "<td>0.9022397</td>\n",
       "<td>1.1248310</td>\n",
       "<td>1.1377260</td>\n",
       "<td>0.9252</td>\n",
       "<td>0.9062752</td>\n",
       "<td>0.9358064</td>\n",
       "<td>0.9223383</td>\n",
       "<td>0.0562404</td>\n",
       "<td>0.2275634</td>\n",
       "<td>12.4831016</td>\n",
       "<td>13.7725990</td></tr>\n",
       "<tr><td></td>\n",
       "<td>9</td>\n",
       "<td>0.3000140</td>\n",
       "<td>0.8866502</td>\n",
       "<td>1.0971114</td>\n",
       "<td>1.1241887</td>\n",
       "<td>0.9024</td>\n",
       "<td>0.8943795</td>\n",
       "<td>0.9246717</td>\n",
       "<td>0.9130193</td>\n",
       "<td>0.1097090</td>\n",
       "<td>0.3372724</td>\n",
       "<td>9.7111445</td>\n",
       "<td>12.4188711</td></tr>\n",
       "<tr><td></td>\n",
       "<td>10</td>\n",
       "<td>0.4000120</td>\n",
       "<td>0.8712383</td>\n",
       "<td>1.0740118</td>\n",
       "<td>1.1116451</td>\n",
       "<td>0.8834</td>\n",
       "<td>0.8790767</td>\n",
       "<td>0.9143543</td>\n",
       "<td>0.9045341</td>\n",
       "<td>0.1073990</td>\n",
       "<td>0.4446714</td>\n",
       "<td>7.4011802</td>\n",
       "<td>11.1645111</td></tr>\n",
       "<tr><td></td>\n",
       "<td>11</td>\n",
       "<td>0.5000100</td>\n",
       "<td>0.8545402</td>\n",
       "<td>1.0428881</td>\n",
       "<td>1.0978943</td>\n",
       "<td>0.8578</td>\n",
       "<td>0.8629865</td>\n",
       "<td>0.9030439</td>\n",
       "<td>0.8962249</td>\n",
       "<td>0.1042867</td>\n",
       "<td>0.5489581</td>\n",
       "<td>4.2888074</td>\n",
       "<td>9.7894253</td></tr>\n",
       "<tr><td></td>\n",
       "<td>12</td>\n",
       "<td>0.6000080</td>\n",
       "<td>0.8353430</td>\n",
       "<td>1.0326756</td>\n",
       "<td>1.0870248</td>\n",
       "<td>0.8494</td>\n",
       "<td>0.8453438</td>\n",
       "<td>0.8941035</td>\n",
       "<td>0.8877450</td>\n",
       "<td>0.1032655</td>\n",
       "<td>0.6522236</td>\n",
       "<td>3.2675600</td>\n",
       "<td>8.7024840</td></tr>\n",
       "<tr><td></td>\n",
       "<td>13</td>\n",
       "<td>0.7000060</td>\n",
       "<td>0.8106833</td>\n",
       "<td>0.9867195</td>\n",
       "<td>1.0726959</td>\n",
       "<td>0.8116</td>\n",
       "<td>0.8237536</td>\n",
       "<td>0.8823176</td>\n",
       "<td>0.8786036</td>\n",
       "<td>0.0986700</td>\n",
       "<td>0.7508936</td>\n",
       "<td>-1.3280531</td>\n",
       "<td>7.2695911</td></tr>\n",
       "<tr><td></td>\n",
       "<td>14</td>\n",
       "<td>0.8000040</td>\n",
       "<td>0.7729525</td>\n",
       "<td>0.9414928</td>\n",
       "<td>1.0562959</td>\n",
       "<td>0.7744</td>\n",
       "<td>0.7933296</td>\n",
       "<td>0.8688283</td>\n",
       "<td>0.8679447</td>\n",
       "<td>0.0941474</td>\n",
       "<td>0.8450410</td>\n",
       "<td>-5.8507200</td>\n",
       "<td>5.6295932</td></tr>\n",
       "<tr><td></td>\n",
       "<td>15</td>\n",
       "<td>0.9000020</td>\n",
       "<td>0.6971040</td>\n",
       "<td>0.8841084</td>\n",
       "<td>1.0371644</td>\n",
       "<td>0.7272</td>\n",
       "<td>0.7409483</td>\n",
       "<td>0.8530922</td>\n",
       "<td>0.8538343</td>\n",
       "<td>0.0884091</td>\n",
       "<td>0.9334500</td>\n",
       "<td>-11.5891575</td>\n",
       "<td>3.7164412</td></tr>\n",
       "<tr><td></td>\n",
       "<td>16</td>\n",
       "<td>1.0</td>\n",
       "<td>0.0007407</td>\n",
       "<td>0.6655129</td>\n",
       "<td>1.0</td>\n",
       "<td>0.5474</td>\n",
       "<td>0.5406173</td>\n",
       "<td>0.8225235</td>\n",
       "<td>0.8225132</td>\n",
       "<td>0.0665500</td>\n",
       "<td>1.0</td>\n",
       "<td>-33.4487140</td>\n",
       "<td>0.0</td></tr></table></div>"
      ],
      "text/plain": [
       "    group    cumulative_data_fraction    lower_threshold    lift      cumulative_lift    response_rate    score     cumulative_response_rate    cumulative_score    capture_rate    cumulative_capture_rate    gain      cumulative_gain\n",
       "--  -------  --------------------------  -----------------  --------  -----------------  ---------------  --------  --------------------------  ------------------  --------------  -------------------------  --------  -----------------\n",
       "    1        0.0100198                   0.948853           1.18422   1.18422            0.974052         0.954944  0.974052                    0.954944            0.0118657       0.0118657                  18.4224   18.4224\n",
       "    2        0.0200196                   0.942676           1.1793    1.18176            0.97             0.945535  0.972028                    0.950244            0.0117927       0.0236584                  17.9298   18.1763\n",
       "    3        0.0300194                   0.938624           1.14526   1.1696             0.942            0.940585  0.962025                    0.947026            0.0114523       0.0351108                  14.5256   16.9602\n",
       "    4        0.0400192                   0.935267           1.15985   1.16716            0.954            0.936919  0.96002                     0.944501            0.0115982       0.046709                   15.9845   16.7164\n",
       "    5        0.050019                    0.931981           1.15741   1.16521            0.952            0.933582  0.958417                    0.942318            0.0115739       0.0582829                  15.7414   16.5215\n",
       "    6        0.100018                    0.920045           1.13456   1.14989            0.9332           0.925597  0.945811                    0.933959            0.0567267       0.11501                    13.4557   14.9889\n",
       "    7        0.150017                    0.910524           1.12629   1.14202            0.9264           0.915155  0.939341                    0.927692            0.0563134       0.171323                   12.629    14.2024\n",
       "    8        0.200016                    0.90224            1.12483   1.13773            0.9252           0.906275  0.935806                    0.922338            0.0562404       0.227563                   12.4831   13.7726\n",
       "    9        0.300014                    0.88665            1.09711   1.12419            0.9024           0.894379  0.924672                    0.913019            0.109709        0.337272                   9.71114   12.4189\n",
       "    10       0.400012                    0.871238           1.07401   1.11165            0.8834           0.879077  0.914354                    0.904534            0.107399        0.444671                   7.40118   11.1645\n",
       "    11       0.50001                     0.85454            1.04289   1.09789            0.8578           0.862987  0.903044                    0.896225            0.104287        0.548958                   4.28881   9.78943\n",
       "    12       0.600008                    0.835343           1.03268   1.08702            0.8494           0.845344  0.894104                    0.887745            0.103265        0.652224                   3.26756   8.70248\n",
       "    13       0.700006                    0.810683           0.986719  1.0727             0.8116           0.823754  0.882318                    0.878604            0.09867         0.750894                   -1.32805  7.26959\n",
       "    14       0.800004                    0.772953           0.941493  1.0563             0.7744           0.79333   0.868828                    0.867945            0.0941474       0.845041                   -5.85072  5.62959\n",
       "    15       0.900002                    0.697104           0.884108  1.03716            0.7272           0.740948  0.853092                    0.853834            0.0884091       0.93345                    -11.5892  3.71644\n",
       "    16       1                           0.000740706        0.665513  1                  0.5474           0.540617  0.822524                    0.822513            0.06655         1                          -33.4487  0"
      ]
     },
     "metadata": {},
     "output_type": "display_data"
    },
    {
     "name": "stdout",
     "output_type": "stream",
     "text": [
      "\n",
      "Cross-Validation Metrics Summary: \n"
     ]
    },
    {
     "data": {
      "text/html": [
       "<div style=\"overflow:auto\"><table style=\"width:50%\"><tr><td><b></b></td>\n",
       "<td><b>mean</b></td>\n",
       "<td><b>sd</b></td>\n",
       "<td><b>cv_1_valid</b></td>\n",
       "<td><b>cv_2_valid</b></td>\n",
       "<td><b>cv_3_valid</b></td>\n",
       "<td><b>cv_4_valid</b></td>\n",
       "<td><b>cv_5_valid</b></td></tr>\n",
       "<tr><td>accuracy</td>\n",
       "<td>0.8296234</td>\n",
       "<td>0.0024308</td>\n",
       "<td>0.8308169</td>\n",
       "<td>0.8234</td>\n",
       "<td>0.8338</td>\n",
       "<td>0.8308</td>\n",
       "<td>0.8293</td></tr>\n",
       "<tr><td>auc</td>\n",
       "<td>0.7036791</td>\n",
       "<td>0.0033407</td>\n",
       "<td>0.7100388</td>\n",
       "<td>0.7024939</td>\n",
       "<td>0.6957454</td>\n",
       "<td>0.7062833</td>\n",
       "<td>0.7038345</td></tr>\n",
       "<tr><td>err</td>\n",
       "<td>0.1703766</td>\n",
       "<td>0.0024308</td>\n",
       "<td>0.1691831</td>\n",
       "<td>0.1766</td>\n",
       "<td>0.1662</td>\n",
       "<td>0.1692</td>\n",
       "<td>0.1707</td></tr>\n",
       "<tr><td>err_count</td>\n",
       "<td>1703.8</td>\n",
       "<td>24.299795</td>\n",
       "<td>1692.0</td>\n",
       "<td>1766.0</td>\n",
       "<td>1662.0</td>\n",
       "<td>1692.0</td>\n",
       "<td>1707.0</td></tr>\n",
       "<tr><td>f0point5</td>\n",
       "<td>0.8604329</td>\n",
       "<td>0.0022767</td>\n",
       "<td>0.8605765</td>\n",
       "<td>0.8551024</td>\n",
       "<td>0.8651286</td>\n",
       "<td>0.8614615</td>\n",
       "<td>0.8598955</td></tr>\n",
       "<tr><td>---</td>\n",
       "<td>---</td>\n",
       "<td>---</td>\n",
       "<td>---</td>\n",
       "<td>---</td>\n",
       "<td>---</td>\n",
       "<td>---</td>\n",
       "<td>---</td></tr>\n",
       "<tr><td>r2</td>\n",
       "<td>0.0944069</td>\n",
       "<td>0.0054121</td>\n",
       "<td>0.1026268</td>\n",
       "<td>0.0852074</td>\n",
       "<td>0.0851212</td>\n",
       "<td>0.1004863</td>\n",
       "<td>0.0985928</td></tr>\n",
       "<tr><td>recall</td>\n",
       "<td>0.9920034</td>\n",
       "<td>0.0011943</td>\n",
       "<td>0.9946576</td>\n",
       "<td>0.9924205</td>\n",
       "<td>0.9893694</td>\n",
       "<td>0.991863</td>\n",
       "<td>0.9917063</td></tr>\n",
       "<tr><td>residual_deviance</td>\n",
       "<td>8515.191</td>\n",
       "<td>78.8443</td>\n",
       "<td>8413.995</td>\n",
       "<td>8712.95</td>\n",
       "<td>8435.062</td>\n",
       "<td>8451.032</td>\n",
       "<td>8562.917</td></tr>\n",
       "<tr><td>rmse</td>\n",
       "<td>0.3635612</td>\n",
       "<td>0.0021688</td>\n",
       "<td>0.3611384</td>\n",
       "<td>0.3690402</td>\n",
       "<td>0.3611279</td>\n",
       "<td>0.3616635</td>\n",
       "<td>0.3648361</td></tr>\n",
       "<tr><td>specificity</td>\n",
       "<td>0.0771527</td>\n",
       "<td>0.0073916</td>\n",
       "<td>0.0662890</td>\n",
       "<td>0.0637363</td>\n",
       "<td>0.0859466</td>\n",
       "<td>0.0798414</td>\n",
       "<td>0.0899500</td></tr></table></div>"
      ],
      "text/plain": [
       "                   mean         sd            cv_1_valid    cv_2_valid    cv_3_valid    cv_4_valid    cv_5_valid\n",
       "-----------------  -----------  ------------  ------------  ------------  ------------  ------------  ------------\n",
       "accuracy           0.8296234    0.0024308055  0.8308169     0.8234        0.8338        0.8308        0.8293\n",
       "auc                0.70367914   0.0033406792  0.7100388     0.7024939     0.69574535    0.70628333    0.7038345\n",
       "err                0.17037661   0.0024308055  0.16918308    0.1766        0.1662        0.1692        0.1707\n",
       "err_count          1703.8       24.299795     1692.0        1766.0        1662.0        1692.0        1707.0\n",
       "f0point5           0.8604329    0.0022766658  0.8605765     0.85510236    0.86512864    0.8614615     0.8598955\n",
       "---                ---          ---           ---           ---           ---           ---           ---\n",
       "r2                 0.09440689   0.005412051   0.1026268     0.08520735    0.085121214   0.100486256   0.098592825\n",
       "recall             0.9920034    0.001194347   0.9946576     0.99242055    0.9893694     0.991863      0.9917063\n",
       "residual_deviance  8515.191     78.8443       8413.995      8712.95       8435.062      8451.032      8562.917\n",
       "rmse               0.3635612    0.0021688018  0.36113837    0.3690402     0.3611279     0.3616635     0.3648361\n",
       "specificity        0.077152655  0.0073915827  0.066288956   0.06373627    0.085946575   0.07984145    0.089950025"
      ]
     },
     "metadata": {},
     "output_type": "display_data"
    },
    {
     "name": "stdout",
     "output_type": "stream",
     "text": [
      "\n",
      "See the whole table with table.as_data_frame()\n",
      "Scoring History: \n"
     ]
    },
    {
     "data": {
      "text/html": [
       "<div style=\"overflow:auto\"><table style=\"width:50%\"><tr><td><b></b></td>\n",
       "<td><b>timestamp</b></td>\n",
       "<td><b>duration</b></td>\n",
       "<td><b>iteration</b></td>\n",
       "<td><b>lambda</b></td>\n",
       "<td><b>predictors</b></td>\n",
       "<td><b>deviance_train</b></td>\n",
       "<td><b>deviance_test</b></td>\n",
       "<td><b>deviance_xval</b></td>\n",
       "<td><b>deviance_se</b></td></tr>\n",
       "<tr><td></td>\n",
       "<td>2019-04-26 09:42:58</td>\n",
       "<td> 0.000 sec</td>\n",
       "<td>2</td>\n",
       "<td>.1E2</td>\n",
       "<td>1937</td>\n",
       "<td>0.9319266</td>\n",
       "<td>nan</td>\n",
       "<td>0.9325896</td>\n",
       "<td>0.0051523</td></tr>\n",
       "<tr><td></td>\n",
       "<td>2019-04-26 09:42:58</td>\n",
       "<td> 0.317 sec</td>\n",
       "<td>4</td>\n",
       "<td>.64E1</td>\n",
       "<td>1937</td>\n",
       "<td>0.9300944</td>\n",
       "<td>nan</td>\n",
       "<td>0.9311025</td>\n",
       "<td>0.0051416</td></tr>\n",
       "<tr><td></td>\n",
       "<td>2019-04-26 09:42:59</td>\n",
       "<td> 0.615 sec</td>\n",
       "<td>6</td>\n",
       "<td>.4E1</td>\n",
       "<td>1937</td>\n",
       "<td>0.9272871</td>\n",
       "<td>nan</td>\n",
       "<td>0.9288041</td>\n",
       "<td>0.0051254</td></tr>\n",
       "<tr><td></td>\n",
       "<td>2019-04-26 09:42:59</td>\n",
       "<td> 0.836 sec</td>\n",
       "<td>8</td>\n",
       "<td>.25E1</td>\n",
       "<td>1937</td>\n",
       "<td>0.9231181</td>\n",
       "<td>nan</td>\n",
       "<td>0.9253342</td>\n",
       "<td>0.0051018</td></tr>\n",
       "<tr><td></td>\n",
       "<td>2019-04-26 09:42:59</td>\n",
       "<td> 1.050 sec</td>\n",
       "<td>10</td>\n",
       "<td>.15E1</td>\n",
       "<td>1937</td>\n",
       "<td>0.9172273</td>\n",
       "<td>nan</td>\n",
       "<td>0.9202984</td>\n",
       "<td>0.0050692</td></tr>\n",
       "<tr><td>---</td>\n",
       "<td>---</td>\n",
       "<td>---</td>\n",
       "<td>---</td>\n",
       "<td>---</td>\n",
       "<td>---</td>\n",
       "<td>---</td>\n",
       "<td>---</td>\n",
       "<td>---</td>\n",
       "<td>---</td></tr>\n",
       "<tr><td></td>\n",
       "<td>2019-04-26 09:43:03</td>\n",
       "<td> 4.876 sec</td>\n",
       "<td>40</td>\n",
       "<td>.12E-2</td>\n",
       "<td>1937</td>\n",
       "<td>0.8451337</td>\n",
       "<td>nan</td>\n",
       "<td>0.8530041</td>\n",
       "<td>0.0051340</td></tr>\n",
       "<tr><td></td>\n",
       "<td>2019-04-26 09:43:03</td>\n",
       "<td> 5.106 sec</td>\n",
       "<td>42</td>\n",
       "<td>.75E-3</td>\n",
       "<td>1937</td>\n",
       "<td>0.8423780</td>\n",
       "<td>nan</td>\n",
       "<td>0.8522073</td>\n",
       "<td>0.0053339</td></tr>\n",
       "<tr><td></td>\n",
       "<td>2019-04-26 09:43:03</td>\n",
       "<td> 5.350 sec</td>\n",
       "<td>44</td>\n",
       "<td>.46E-3</td>\n",
       "<td>1937</td>\n",
       "<td>0.8395689</td>\n",
       "<td>nan</td>\n",
       "<td>0.8518176</td>\n",
       "<td>0.0055642</td></tr>\n",
       "<tr><td></td>\n",
       "<td>2019-04-26 09:43:04</td>\n",
       "<td> 5.615 sec</td>\n",
       "<td>46</td>\n",
       "<td>.29E-3</td>\n",
       "<td>1937</td>\n",
       "<td>0.8366959</td>\n",
       "<td>nan</td>\n",
       "<td>0.8518748</td>\n",
       "<td>0.0058167</td></tr>\n",
       "<tr><td></td>\n",
       "<td>2019-04-26 09:43:04</td>\n",
       "<td> 5.897 sec</td>\n",
       "<td>48</td>\n",
       "<td>.18E-3</td>\n",
       "<td>1937</td>\n",
       "<td>0.8337551</td>\n",
       "<td>nan</td>\n",
       "<td>0.0</td>\n",
       "<td>0.0</td></tr></table></div>"
      ],
      "text/plain": [
       "     timestamp            duration    iteration    lambda    predictors    deviance_train      deviance_test    deviance_xval       deviance_se\n",
       "---  -------------------  ----------  -----------  --------  ------------  ------------------  ---------------  ------------------  ---------------------\n",
       "     2019-04-26 09:42:58  0.000 sec   2            .1E2      1937          0.931926597931179   nan              0.9325895876476477  0.005152332431258992\n",
       "     2019-04-26 09:42:58  0.317 sec   4            .64E1     1937          0.9300943688923634  nan              0.9311024756782519  0.005141568918111002\n",
       "     2019-04-26 09:42:59  0.615 sec   6            .4E1      1937          0.9272871354826768  nan              0.9288041485728428  0.005125437893819098\n",
       "     2019-04-26 09:42:59  0.836 sec   8            .25E1     1937          0.9231180839403704  nan              0.9253341626282623  0.0051017868418610085\n",
       "     2019-04-26 09:42:59  1.050 sec   10           .15E1     1937          0.9172272693763861  nan              0.9202983745890372  0.005069160103449368\n",
       "---  ---                  ---         ---          ---       ---           ---                 ---              ---                 ---\n",
       "     2019-04-26 09:43:03  4.876 sec   40           .12E-2    1937          0.8451336815696417  nan              0.8530040555655086  0.005133990524663639\n",
       "     2019-04-26 09:43:03  5.106 sec   42           .75E-3    1937          0.8423779889287564  nan              0.8522073365548348  0.005333868973954894\n",
       "     2019-04-26 09:43:03  5.350 sec   44           .46E-3    1937          0.8395689327134451  nan              0.8518176189055728  0.005564170052905007\n",
       "     2019-04-26 09:43:04  5.615 sec   46           .29E-3    1937          0.8366959430434124  nan              0.8518747670088022  0.005816657925016375\n",
       "     2019-04-26 09:43:04  5.897 sec   48           .18E-3    1937          0.8337551116457456  nan              0.0                 0.0"
      ]
     },
     "metadata": {},
     "output_type": "display_data"
    },
    {
     "name": "stdout",
     "output_type": "stream",
     "text": [
      "\n",
      "See the whole table with table.as_data_frame()\n"
     ]
    },
    {
     "data": {
      "text/plain": []
     },
     "execution_count": 53,
     "metadata": {},
     "output_type": "execute_result"
    }
   ],
   "source": [
    "aml.leader"
   ]
  },
  {
   "cell_type": "markdown",
   "metadata": {},
   "source": [
    "### Get leaderboard in data frame"
   ]
  },
  {
   "cell_type": "code",
   "execution_count": 54,
   "metadata": {},
   "outputs": [],
   "source": [
    "\n",
    "# get leaderboard in data frame\n",
    "aml_leaderboard_df=aml.leaderboard.as_data_frame()"
   ]
  },
  {
   "cell_type": "code",
   "execution_count": 55,
   "metadata": {},
   "outputs": [
    {
     "data": {
      "text/html": [
       "<div>\n",
       "<style scoped>\n",
       "    .dataframe tbody tr th:only-of-type {\n",
       "        vertical-align: middle;\n",
       "    }\n",
       "\n",
       "    .dataframe tbody tr th {\n",
       "        vertical-align: top;\n",
       "    }\n",
       "\n",
       "    .dataframe thead th {\n",
       "        text-align: right;\n",
       "    }\n",
       "</style>\n",
       "<table border=\"1\" class=\"dataframe\">\n",
       "  <thead>\n",
       "    <tr style=\"text-align: right;\">\n",
       "      <th></th>\n",
       "      <th>model_id</th>\n",
       "      <th>auc</th>\n",
       "      <th>logloss</th>\n",
       "      <th>mean_per_class_error</th>\n",
       "      <th>rmse</th>\n",
       "      <th>mse</th>\n",
       "    </tr>\n",
       "  </thead>\n",
       "  <tbody>\n",
       "    <tr>\n",
       "      <th>0</th>\n",
       "      <td>GLM_grid_1_AutoML_20190426_094030_model_1</td>\n",
       "      <td>0.703705</td>\n",
       "      <td>0.425909</td>\n",
       "      <td>0.466813</td>\n",
       "      <td>0.363647</td>\n",
       "      <td>0.132239</td>\n",
       "    </tr>\n",
       "    <tr>\n",
       "      <th>1</th>\n",
       "      <td>GBM_grid_1_AutoML_20190426_094030_model_2</td>\n",
       "      <td>0.702385</td>\n",
       "      <td>0.435839</td>\n",
       "      <td>0.470784</td>\n",
       "      <td>0.368415</td>\n",
       "      <td>0.135729</td>\n",
       "    </tr>\n",
       "    <tr>\n",
       "      <th>2</th>\n",
       "      <td>GBM_grid_1_AutoML_20190426_094030_model_35</td>\n",
       "      <td>0.697550</td>\n",
       "      <td>0.447750</td>\n",
       "      <td>0.466529</td>\n",
       "      <td>0.373999</td>\n",
       "      <td>0.139875</td>\n",
       "    </tr>\n",
       "    <tr>\n",
       "      <th>3</th>\n",
       "      <td>GBM_grid_1_AutoML_20190426_094030_model_36</td>\n",
       "      <td>0.695079</td>\n",
       "      <td>0.439797</td>\n",
       "      <td>0.467363</td>\n",
       "      <td>0.370171</td>\n",
       "      <td>0.137026</td>\n",
       "    </tr>\n",
       "    <tr>\n",
       "      <th>4</th>\n",
       "      <td>GBM_grid_1_AutoML_20190426_094030_model_12</td>\n",
       "      <td>0.695042</td>\n",
       "      <td>0.443372</td>\n",
       "      <td>0.467618</td>\n",
       "      <td>0.371787</td>\n",
       "      <td>0.138226</td>\n",
       "    </tr>\n",
       "    <tr>\n",
       "      <th>5</th>\n",
       "      <td>GBM_grid_1_AutoML_20190426_094030_model_23</td>\n",
       "      <td>0.693969</td>\n",
       "      <td>0.444006</td>\n",
       "      <td>0.470349</td>\n",
       "      <td>0.372114</td>\n",
       "      <td>0.138469</td>\n",
       "    </tr>\n",
       "    <tr>\n",
       "      <th>6</th>\n",
       "      <td>GBM_grid_1_AutoML_20190426_094030_model_3</td>\n",
       "      <td>0.693460</td>\n",
       "      <td>0.440833</td>\n",
       "      <td>0.474461</td>\n",
       "      <td>0.370603</td>\n",
       "      <td>0.137347</td>\n",
       "    </tr>\n",
       "    <tr>\n",
       "      <th>7</th>\n",
       "      <td>GBM_grid_1_AutoML_20190426_094030_model_15</td>\n",
       "      <td>0.690962</td>\n",
       "      <td>0.439854</td>\n",
       "      <td>0.472897</td>\n",
       "      <td>0.370152</td>\n",
       "      <td>0.137013</td>\n",
       "    </tr>\n",
       "    <tr>\n",
       "      <th>8</th>\n",
       "      <td>GBM_grid_1_AutoML_20190426_094030_model_7</td>\n",
       "      <td>0.689906</td>\n",
       "      <td>0.435130</td>\n",
       "      <td>0.469288</td>\n",
       "      <td>0.368060</td>\n",
       "      <td>0.135468</td>\n",
       "    </tr>\n",
       "    <tr>\n",
       "      <th>9</th>\n",
       "      <td>GBM_grid_1_AutoML_20190426_094030_model_43</td>\n",
       "      <td>0.689141</td>\n",
       "      <td>0.431051</td>\n",
       "      <td>0.471447</td>\n",
       "      <td>0.365936</td>\n",
       "      <td>0.133909</td>\n",
       "    </tr>\n",
       "    <tr>\n",
       "      <th>10</th>\n",
       "      <td>GBM_grid_1_AutoML_20190426_094030_model_37</td>\n",
       "      <td>0.684902</td>\n",
       "      <td>0.465939</td>\n",
       "      <td>0.475064</td>\n",
       "      <td>0.381454</td>\n",
       "      <td>0.145507</td>\n",
       "    </tr>\n",
       "    <tr>\n",
       "      <th>11</th>\n",
       "      <td>GBM_grid_1_AutoML_20190426_094030_model_17</td>\n",
       "      <td>0.682951</td>\n",
       "      <td>0.434567</td>\n",
       "      <td>0.475387</td>\n",
       "      <td>0.367127</td>\n",
       "      <td>0.134782</td>\n",
       "    </tr>\n",
       "    <tr>\n",
       "      <th>12</th>\n",
       "      <td>GBM_grid_1_AutoML_20190426_094030_model_29</td>\n",
       "      <td>0.681419</td>\n",
       "      <td>0.434835</td>\n",
       "      <td>0.477810</td>\n",
       "      <td>0.367549</td>\n",
       "      <td>0.135092</td>\n",
       "    </tr>\n",
       "    <tr>\n",
       "      <th>13</th>\n",
       "      <td>XRT_1_AutoML_20190426_094030</td>\n",
       "      <td>0.680241</td>\n",
       "      <td>0.438073</td>\n",
       "      <td>0.469218</td>\n",
       "      <td>0.368185</td>\n",
       "      <td>0.135560</td>\n",
       "    </tr>\n",
       "    <tr>\n",
       "      <th>14</th>\n",
       "      <td>GBM_grid_1_AutoML_20190426_094030_model_13</td>\n",
       "      <td>0.679420</td>\n",
       "      <td>0.440798</td>\n",
       "      <td>0.476942</td>\n",
       "      <td>0.370864</td>\n",
       "      <td>0.137540</td>\n",
       "    </tr>\n",
       "    <tr>\n",
       "      <th>15</th>\n",
       "      <td>GBM_grid_1_AutoML_20190426_094030_model_18</td>\n",
       "      <td>0.679187</td>\n",
       "      <td>0.439262</td>\n",
       "      <td>0.481424</td>\n",
       "      <td>0.370061</td>\n",
       "      <td>0.136945</td>\n",
       "    </tr>\n",
       "    <tr>\n",
       "      <th>16</th>\n",
       "      <td>DRF_1_AutoML_20190426_094030</td>\n",
       "      <td>0.679130</td>\n",
       "      <td>0.464316</td>\n",
       "      <td>0.478442</td>\n",
       "      <td>0.368478</td>\n",
       "      <td>0.135776</td>\n",
       "    </tr>\n",
       "    <tr>\n",
       "      <th>17</th>\n",
       "      <td>GBM_grid_1_AutoML_20190426_094030_model_28</td>\n",
       "      <td>0.679014</td>\n",
       "      <td>0.444338</td>\n",
       "      <td>0.473706</td>\n",
       "      <td>0.372343</td>\n",
       "      <td>0.138640</td>\n",
       "    </tr>\n",
       "    <tr>\n",
       "      <th>18</th>\n",
       "      <td>GBM_grid_1_AutoML_20190426_094030_model_8</td>\n",
       "      <td>0.677832</td>\n",
       "      <td>0.440068</td>\n",
       "      <td>0.478487</td>\n",
       "      <td>0.370266</td>\n",
       "      <td>0.137097</td>\n",
       "    </tr>\n",
       "    <tr>\n",
       "      <th>19</th>\n",
       "      <td>GBM_grid_1_AutoML_20190426_094030_model_31</td>\n",
       "      <td>0.677145</td>\n",
       "      <td>0.443775</td>\n",
       "      <td>0.478792</td>\n",
       "      <td>0.371935</td>\n",
       "      <td>0.138335</td>\n",
       "    </tr>\n",
       "    <tr>\n",
       "      <th>20</th>\n",
       "      <td>GBM_grid_1_AutoML_20190426_094030_model_6</td>\n",
       "      <td>0.675654</td>\n",
       "      <td>0.465199</td>\n",
       "      <td>0.471907</td>\n",
       "      <td>0.381163</td>\n",
       "      <td>0.145285</td>\n",
       "    </tr>\n",
       "    <tr>\n",
       "      <th>21</th>\n",
       "      <td>GBM_grid_1_AutoML_20190426_094030_model_30</td>\n",
       "      <td>0.671420</td>\n",
       "      <td>0.465376</td>\n",
       "      <td>0.468803</td>\n",
       "      <td>0.381232</td>\n",
       "      <td>0.145338</td>\n",
       "    </tr>\n",
       "    <tr>\n",
       "      <th>22</th>\n",
       "      <td>GBM_grid_1_AutoML_20190426_094030_model_42</td>\n",
       "      <td>0.669985</td>\n",
       "      <td>0.465758</td>\n",
       "      <td>0.474808</td>\n",
       "      <td>0.381382</td>\n",
       "      <td>0.145453</td>\n",
       "    </tr>\n",
       "    <tr>\n",
       "      <th>23</th>\n",
       "      <td>GBM_grid_1_AutoML_20190426_094030_model_10</td>\n",
       "      <td>0.669931</td>\n",
       "      <td>0.466326</td>\n",
       "      <td>0.480531</td>\n",
       "      <td>0.381603</td>\n",
       "      <td>0.145621</td>\n",
       "    </tr>\n",
       "    <tr>\n",
       "      <th>24</th>\n",
       "      <td>GBM_grid_1_AutoML_20190426_094030_model_20</td>\n",
       "      <td>0.669912</td>\n",
       "      <td>0.466296</td>\n",
       "      <td>0.480659</td>\n",
       "      <td>0.381592</td>\n",
       "      <td>0.145612</td>\n",
       "    </tr>\n",
       "    <tr>\n",
       "      <th>25</th>\n",
       "      <td>GBM_grid_1_AutoML_20190426_094030_model_5</td>\n",
       "      <td>0.669592</td>\n",
       "      <td>0.442890</td>\n",
       "      <td>0.483120</td>\n",
       "      <td>0.369962</td>\n",
       "      <td>0.136872</td>\n",
       "    </tr>\n",
       "    <tr>\n",
       "      <th>26</th>\n",
       "      <td>GBM_grid_1_AutoML_20190426_094030_model_40</td>\n",
       "      <td>0.669262</td>\n",
       "      <td>0.440487</td>\n",
       "      <td>0.478238</td>\n",
       "      <td>0.370313</td>\n",
       "      <td>0.137132</td>\n",
       "    </tr>\n",
       "    <tr>\n",
       "      <th>27</th>\n",
       "      <td>GBM_grid_1_AutoML_20190426_094030_model_27</td>\n",
       "      <td>0.668641</td>\n",
       "      <td>0.442763</td>\n",
       "      <td>0.473240</td>\n",
       "      <td>0.369955</td>\n",
       "      <td>0.136866</td>\n",
       "    </tr>\n",
       "    <tr>\n",
       "      <th>28</th>\n",
       "      <td>GBM_5_AutoML_20190426_094030</td>\n",
       "      <td>0.667321</td>\n",
       "      <td>0.446633</td>\n",
       "      <td>0.481304</td>\n",
       "      <td>0.371134</td>\n",
       "      <td>0.137740</td>\n",
       "    </tr>\n",
       "    <tr>\n",
       "      <th>29</th>\n",
       "      <td>GBM_1_AutoML_20190426_094030</td>\n",
       "      <td>0.666365</td>\n",
       "      <td>0.444330</td>\n",
       "      <td>0.485872</td>\n",
       "      <td>0.371154</td>\n",
       "      <td>0.137755</td>\n",
       "    </tr>\n",
       "    <tr>\n",
       "      <th>30</th>\n",
       "      <td>GBM_2_AutoML_20190426_094030</td>\n",
       "      <td>0.663971</td>\n",
       "      <td>0.445600</td>\n",
       "      <td>0.489869</td>\n",
       "      <td>0.371382</td>\n",
       "      <td>0.137925</td>\n",
       "    </tr>\n",
       "    <tr>\n",
       "      <th>31</th>\n",
       "      <td>GBM_grid_1_AutoML_20190426_094030_model_4</td>\n",
       "      <td>0.663940</td>\n",
       "      <td>0.441917</td>\n",
       "      <td>0.480495</td>\n",
       "      <td>0.369958</td>\n",
       "      <td>0.136869</td>\n",
       "    </tr>\n",
       "    <tr>\n",
       "      <th>32</th>\n",
       "      <td>GBM_grid_1_AutoML_20190426_094030_model_34</td>\n",
       "      <td>0.663361</td>\n",
       "      <td>0.445213</td>\n",
       "      <td>0.483107</td>\n",
       "      <td>0.372487</td>\n",
       "      <td>0.138747</td>\n",
       "    </tr>\n",
       "    <tr>\n",
       "      <th>33</th>\n",
       "      <td>GBM_grid_1_AutoML_20190426_094030_model_33</td>\n",
       "      <td>0.661874</td>\n",
       "      <td>0.460067</td>\n",
       "      <td>0.484247</td>\n",
       "      <td>0.375932</td>\n",
       "      <td>0.141325</td>\n",
       "    </tr>\n",
       "    <tr>\n",
       "      <th>34</th>\n",
       "      <td>GBM_grid_1_AutoML_20190426_094030_model_38</td>\n",
       "      <td>0.661204</td>\n",
       "      <td>0.448106</td>\n",
       "      <td>0.478188</td>\n",
       "      <td>0.371814</td>\n",
       "      <td>0.138245</td>\n",
       "    </tr>\n",
       "    <tr>\n",
       "      <th>35</th>\n",
       "      <td>GBM_grid_1_AutoML_20190426_094030_model_9</td>\n",
       "      <td>0.659387</td>\n",
       "      <td>0.441968</td>\n",
       "      <td>0.484881</td>\n",
       "      <td>0.370809</td>\n",
       "      <td>0.137499</td>\n",
       "    </tr>\n",
       "    <tr>\n",
       "      <th>36</th>\n",
       "      <td>GBM_3_AutoML_20190426_094030</td>\n",
       "      <td>0.657757</td>\n",
       "      <td>0.452432</td>\n",
       "      <td>0.486574</td>\n",
       "      <td>0.373681</td>\n",
       "      <td>0.139638</td>\n",
       "    </tr>\n",
       "    <tr>\n",
       "      <th>37</th>\n",
       "      <td>GBM_grid_1_AutoML_20190426_094030_model_26</td>\n",
       "      <td>0.656817</td>\n",
       "      <td>0.443413</td>\n",
       "      <td>0.487774</td>\n",
       "      <td>0.371570</td>\n",
       "      <td>0.138064</td>\n",
       "    </tr>\n",
       "    <tr>\n",
       "      <th>38</th>\n",
       "      <td>GBM_grid_1_AutoML_20190426_094030_model_21</td>\n",
       "      <td>0.655654</td>\n",
       "      <td>0.452334</td>\n",
       "      <td>0.489898</td>\n",
       "      <td>0.373575</td>\n",
       "      <td>0.139558</td>\n",
       "    </tr>\n",
       "    <tr>\n",
       "      <th>39</th>\n",
       "      <td>GBM_4_AutoML_20190426_094030</td>\n",
       "      <td>0.648263</td>\n",
       "      <td>0.462656</td>\n",
       "      <td>0.490925</td>\n",
       "      <td>0.376062</td>\n",
       "      <td>0.141423</td>\n",
       "    </tr>\n",
       "    <tr>\n",
       "      <th>40</th>\n",
       "      <td>GBM_grid_1_AutoML_20190426_094030_model_41</td>\n",
       "      <td>0.646965</td>\n",
       "      <td>0.461652</td>\n",
       "      <td>0.490719</td>\n",
       "      <td>0.376567</td>\n",
       "      <td>0.141802</td>\n",
       "    </tr>\n",
       "    <tr>\n",
       "      <th>41</th>\n",
       "      <td>GBM_grid_1_AutoML_20190426_094030_model_22</td>\n",
       "      <td>0.644742</td>\n",
       "      <td>0.467708</td>\n",
       "      <td>0.487980</td>\n",
       "      <td>0.377291</td>\n",
       "      <td>0.142349</td>\n",
       "    </tr>\n",
       "    <tr>\n",
       "      <th>42</th>\n",
       "      <td>GBM_grid_1_AutoML_20190426_094030_model_25</td>\n",
       "      <td>0.638375</td>\n",
       "      <td>0.458045</td>\n",
       "      <td>0.491167</td>\n",
       "      <td>0.376131</td>\n",
       "      <td>0.141475</td>\n",
       "    </tr>\n",
       "    <tr>\n",
       "      <th>43</th>\n",
       "      <td>GBM_grid_1_AutoML_20190426_094030_model_24</td>\n",
       "      <td>0.630601</td>\n",
       "      <td>0.533662</td>\n",
       "      <td>0.498605</td>\n",
       "      <td>0.392802</td>\n",
       "      <td>0.154293</td>\n",
       "    </tr>\n",
       "    <tr>\n",
       "      <th>44</th>\n",
       "      <td>GBM_grid_1_AutoML_20190426_094030_model_14</td>\n",
       "      <td>0.625352</td>\n",
       "      <td>0.555038</td>\n",
       "      <td>0.496152</td>\n",
       "      <td>0.397216</td>\n",
       "      <td>0.157780</td>\n",
       "    </tr>\n",
       "    <tr>\n",
       "      <th>45</th>\n",
       "      <td>GBM_grid_1_AutoML_20190426_094030_model_1</td>\n",
       "      <td>0.624356</td>\n",
       "      <td>0.561625</td>\n",
       "      <td>0.494930</td>\n",
       "      <td>0.396968</td>\n",
       "      <td>0.157583</td>\n",
       "    </tr>\n",
       "    <tr>\n",
       "      <th>46</th>\n",
       "      <td>GBM_grid_1_AutoML_20190426_094030_model_39</td>\n",
       "      <td>0.603108</td>\n",
       "      <td>0.670781</td>\n",
       "      <td>0.499015</td>\n",
       "      <td>0.416901</td>\n",
       "      <td>0.173807</td>\n",
       "    </tr>\n",
       "    <tr>\n",
       "      <th>47</th>\n",
       "      <td>GBM_grid_1_AutoML_20190426_094030_model_16</td>\n",
       "      <td>0.600456</td>\n",
       "      <td>0.799035</td>\n",
       "      <td>0.500000</td>\n",
       "      <td>0.430049</td>\n",
       "      <td>0.184942</td>\n",
       "    </tr>\n",
       "    <tr>\n",
       "      <th>48</th>\n",
       "      <td>GBM_grid_1_AutoML_20190426_094030_model_11</td>\n",
       "      <td>0.598721</td>\n",
       "      <td>0.708536</td>\n",
       "      <td>0.495756</td>\n",
       "      <td>0.420055</td>\n",
       "      <td>0.176446</td>\n",
       "    </tr>\n",
       "    <tr>\n",
       "      <th>49</th>\n",
       "      <td>GBM_grid_1_AutoML_20190426_094030_model_19</td>\n",
       "      <td>0.589516</td>\n",
       "      <td>1.356241</td>\n",
       "      <td>0.500000</td>\n",
       "      <td>0.455749</td>\n",
       "      <td>0.207707</td>\n",
       "    </tr>\n",
       "    <tr>\n",
       "      <th>50</th>\n",
       "      <td>GBM_grid_1_AutoML_20190426_094030_model_32</td>\n",
       "      <td>0.588469</td>\n",
       "      <td>0.789748</td>\n",
       "      <td>0.500000</td>\n",
       "      <td>0.429941</td>\n",
       "      <td>0.184849</td>\n",
       "    </tr>\n",
       "  </tbody>\n",
       "</table>\n",
       "</div>"
      ],
      "text/plain": [
       "                                      model_id       auc   logloss  \\\n",
       "0    GLM_grid_1_AutoML_20190426_094030_model_1  0.703705  0.425909   \n",
       "1    GBM_grid_1_AutoML_20190426_094030_model_2  0.702385  0.435839   \n",
       "2   GBM_grid_1_AutoML_20190426_094030_model_35  0.697550  0.447750   \n",
       "3   GBM_grid_1_AutoML_20190426_094030_model_36  0.695079  0.439797   \n",
       "4   GBM_grid_1_AutoML_20190426_094030_model_12  0.695042  0.443372   \n",
       "5   GBM_grid_1_AutoML_20190426_094030_model_23  0.693969  0.444006   \n",
       "6    GBM_grid_1_AutoML_20190426_094030_model_3  0.693460  0.440833   \n",
       "7   GBM_grid_1_AutoML_20190426_094030_model_15  0.690962  0.439854   \n",
       "8    GBM_grid_1_AutoML_20190426_094030_model_7  0.689906  0.435130   \n",
       "9   GBM_grid_1_AutoML_20190426_094030_model_43  0.689141  0.431051   \n",
       "10  GBM_grid_1_AutoML_20190426_094030_model_37  0.684902  0.465939   \n",
       "11  GBM_grid_1_AutoML_20190426_094030_model_17  0.682951  0.434567   \n",
       "12  GBM_grid_1_AutoML_20190426_094030_model_29  0.681419  0.434835   \n",
       "13                XRT_1_AutoML_20190426_094030  0.680241  0.438073   \n",
       "14  GBM_grid_1_AutoML_20190426_094030_model_13  0.679420  0.440798   \n",
       "15  GBM_grid_1_AutoML_20190426_094030_model_18  0.679187  0.439262   \n",
       "16                DRF_1_AutoML_20190426_094030  0.679130  0.464316   \n",
       "17  GBM_grid_1_AutoML_20190426_094030_model_28  0.679014  0.444338   \n",
       "18   GBM_grid_1_AutoML_20190426_094030_model_8  0.677832  0.440068   \n",
       "19  GBM_grid_1_AutoML_20190426_094030_model_31  0.677145  0.443775   \n",
       "20   GBM_grid_1_AutoML_20190426_094030_model_6  0.675654  0.465199   \n",
       "21  GBM_grid_1_AutoML_20190426_094030_model_30  0.671420  0.465376   \n",
       "22  GBM_grid_1_AutoML_20190426_094030_model_42  0.669985  0.465758   \n",
       "23  GBM_grid_1_AutoML_20190426_094030_model_10  0.669931  0.466326   \n",
       "24  GBM_grid_1_AutoML_20190426_094030_model_20  0.669912  0.466296   \n",
       "25   GBM_grid_1_AutoML_20190426_094030_model_5  0.669592  0.442890   \n",
       "26  GBM_grid_1_AutoML_20190426_094030_model_40  0.669262  0.440487   \n",
       "27  GBM_grid_1_AutoML_20190426_094030_model_27  0.668641  0.442763   \n",
       "28                GBM_5_AutoML_20190426_094030  0.667321  0.446633   \n",
       "29                GBM_1_AutoML_20190426_094030  0.666365  0.444330   \n",
       "30                GBM_2_AutoML_20190426_094030  0.663971  0.445600   \n",
       "31   GBM_grid_1_AutoML_20190426_094030_model_4  0.663940  0.441917   \n",
       "32  GBM_grid_1_AutoML_20190426_094030_model_34  0.663361  0.445213   \n",
       "33  GBM_grid_1_AutoML_20190426_094030_model_33  0.661874  0.460067   \n",
       "34  GBM_grid_1_AutoML_20190426_094030_model_38  0.661204  0.448106   \n",
       "35   GBM_grid_1_AutoML_20190426_094030_model_9  0.659387  0.441968   \n",
       "36                GBM_3_AutoML_20190426_094030  0.657757  0.452432   \n",
       "37  GBM_grid_1_AutoML_20190426_094030_model_26  0.656817  0.443413   \n",
       "38  GBM_grid_1_AutoML_20190426_094030_model_21  0.655654  0.452334   \n",
       "39                GBM_4_AutoML_20190426_094030  0.648263  0.462656   \n",
       "40  GBM_grid_1_AutoML_20190426_094030_model_41  0.646965  0.461652   \n",
       "41  GBM_grid_1_AutoML_20190426_094030_model_22  0.644742  0.467708   \n",
       "42  GBM_grid_1_AutoML_20190426_094030_model_25  0.638375  0.458045   \n",
       "43  GBM_grid_1_AutoML_20190426_094030_model_24  0.630601  0.533662   \n",
       "44  GBM_grid_1_AutoML_20190426_094030_model_14  0.625352  0.555038   \n",
       "45   GBM_grid_1_AutoML_20190426_094030_model_1  0.624356  0.561625   \n",
       "46  GBM_grid_1_AutoML_20190426_094030_model_39  0.603108  0.670781   \n",
       "47  GBM_grid_1_AutoML_20190426_094030_model_16  0.600456  0.799035   \n",
       "48  GBM_grid_1_AutoML_20190426_094030_model_11  0.598721  0.708536   \n",
       "49  GBM_grid_1_AutoML_20190426_094030_model_19  0.589516  1.356241   \n",
       "50  GBM_grid_1_AutoML_20190426_094030_model_32  0.588469  0.789748   \n",
       "\n",
       "    mean_per_class_error      rmse       mse  \n",
       "0               0.466813  0.363647  0.132239  \n",
       "1               0.470784  0.368415  0.135729  \n",
       "2               0.466529  0.373999  0.139875  \n",
       "3               0.467363  0.370171  0.137026  \n",
       "4               0.467618  0.371787  0.138226  \n",
       "5               0.470349  0.372114  0.138469  \n",
       "6               0.474461  0.370603  0.137347  \n",
       "7               0.472897  0.370152  0.137013  \n",
       "8               0.469288  0.368060  0.135468  \n",
       "9               0.471447  0.365936  0.133909  \n",
       "10              0.475064  0.381454  0.145507  \n",
       "11              0.475387  0.367127  0.134782  \n",
       "12              0.477810  0.367549  0.135092  \n",
       "13              0.469218  0.368185  0.135560  \n",
       "14              0.476942  0.370864  0.137540  \n",
       "15              0.481424  0.370061  0.136945  \n",
       "16              0.478442  0.368478  0.135776  \n",
       "17              0.473706  0.372343  0.138640  \n",
       "18              0.478487  0.370266  0.137097  \n",
       "19              0.478792  0.371935  0.138335  \n",
       "20              0.471907  0.381163  0.145285  \n",
       "21              0.468803  0.381232  0.145338  \n",
       "22              0.474808  0.381382  0.145453  \n",
       "23              0.480531  0.381603  0.145621  \n",
       "24              0.480659  0.381592  0.145612  \n",
       "25              0.483120  0.369962  0.136872  \n",
       "26              0.478238  0.370313  0.137132  \n",
       "27              0.473240  0.369955  0.136866  \n",
       "28              0.481304  0.371134  0.137740  \n",
       "29              0.485872  0.371154  0.137755  \n",
       "30              0.489869  0.371382  0.137925  \n",
       "31              0.480495  0.369958  0.136869  \n",
       "32              0.483107  0.372487  0.138747  \n",
       "33              0.484247  0.375932  0.141325  \n",
       "34              0.478188  0.371814  0.138245  \n",
       "35              0.484881  0.370809  0.137499  \n",
       "36              0.486574  0.373681  0.139638  \n",
       "37              0.487774  0.371570  0.138064  \n",
       "38              0.489898  0.373575  0.139558  \n",
       "39              0.490925  0.376062  0.141423  \n",
       "40              0.490719  0.376567  0.141802  \n",
       "41              0.487980  0.377291  0.142349  \n",
       "42              0.491167  0.376131  0.141475  \n",
       "43              0.498605  0.392802  0.154293  \n",
       "44              0.496152  0.397216  0.157780  \n",
       "45              0.494930  0.396968  0.157583  \n",
       "46              0.499015  0.416901  0.173807  \n",
       "47              0.500000  0.430049  0.184942  \n",
       "48              0.495756  0.420055  0.176446  \n",
       "49              0.500000  0.455749  0.207707  \n",
       "50              0.500000  0.429941  0.184849  "
      ]
     },
     "execution_count": 55,
     "metadata": {},
     "output_type": "execute_result"
    }
   ],
   "source": [
    "aml_leaderboard_df"
   ]
  },
  {
   "cell_type": "code",
   "execution_count": 56,
   "metadata": {},
   "outputs": [],
   "source": [
    "# save all models names of the leaderboard in a csv\n",
    "leaderboard_stats=run_id+'_leaderboard.csv'\n",
    "aml_leaderboard_df.to_csv(leaderboard_stats, index=False)"
   ]
  },
  {
   "cell_type": "code",
   "execution_count": 57,
   "metadata": {},
   "outputs": [],
   "source": [
    "# All models. We are no longer using the best model\n",
    "meta_data['models']=aml_leaderboard_df['model_id']"
   ]
  },
  {
   "cell_type": "code",
   "execution_count": 58,
   "metadata": {},
   "outputs": [],
   "source": [
    "meta_data['end_time'] = time.time()"
   ]
  },
  {
   "cell_type": "code",
   "execution_count": 59,
   "metadata": {},
   "outputs": [],
   "source": [
    "meta_data['execution_time'] = meta_data['end_time'] - meta_data['start_time']"
   ]
  },
  {
   "cell_type": "markdown",
   "metadata": {},
   "source": [
    "### Variable importance based on models"
   ]
  },
  {
   "cell_type": "code",
   "execution_count": 60,
   "metadata": {},
   "outputs": [
    {
     "data": {
      "image/png": "[encoded data removed]",
      "text/plain": [
       "<Figure size 1008x720 with 1 Axes>"
      ]
     },
     "metadata": {
      "needs_background": "light"
     },
     "output_type": "display_data"
    }
   ],
   "source": [
    "### Variable importance based on models\n",
    "\n",
    "import matplotlib.pyplot as plt\n",
    "%matplotlib inline\n",
    "\n",
    "import warnings\n",
    "import matplotlib.cbook\n",
    "warnings.filterwarnings(\"ignore\", category = matplotlib.cbook.mplDeprecation)\n",
    "\n",
    "sample_model1=h2o.get_model(aml_leaderboard_df['model_id'][4]) \n",
    "sample_model1.varimp_plot()"
   ]
  },
  {
   "cell_type": "markdown",
   "metadata": {},
   "source": [
    "#### Observations: For a GBM model with model_id \"GBM_1_AutoML_20190426_083250\" \n",
    "* number_inpatient is an important variable for readmitted status.  Followed by diag_1, diag_2, diag_3, number_emergency, number_diagnoses, medical_specialty, num_medications,   number_outpatient, and age."
   ]
  },
  {
   "cell_type": "markdown",
   "metadata": {},
   "source": [
    "### Convert Meta-data into JSON/ Csv Files"
   ]
  },
  {
   "cell_type": "code",
   "execution_count": 61,
   "metadata": {},
   "outputs": [
    {
     "data": {
      "text/plain": [
       "{'start_time': 1556286029.1753824,\n",
       " 'target': 'readmitted',\n",
       " 'server_path': 'C:\\\\Users\\\\joiss\\\\Desktop\\\\NEU-MSIS\\\\2_Sem2\\\\INFO6105_Data_Science_Engineering_Methods\\\\0_HyperParameter\\\\1500_DS01_HyperParameter',\n",
       " 'data_path': None,\n",
       " 'test_path': None,\n",
       " 'max_models': 9,\n",
       " 'run_time': 1500,\n",
       " 'run_id': 'TSBec6AlF',\n",
       " 'scale': False,\n",
       " 'classification': True,\n",
       " 'model_path': None,\n",
       " 'balance': False,\n",
       " 'balance_threshold': 0.2,\n",
       " 'project': None,\n",
       " 'end_time': 1556287532.3471222,\n",
       " 'execution_time': 1503.1717398166656,\n",
       " 'run_path': 'C:\\\\Users\\\\joiss\\\\Desktop\\\\NEU-MSIS\\\\2_Sem2\\\\INFO6105_Data_Science_Engineering_Methods\\\\0_HyperParameter\\\\1500_DS01_HyperParameter\\\\TSBec6AlF',\n",
       " 'nthreads': 1,\n",
       " 'min_mem_size': 6,\n",
       " 'analysis': 0,\n",
       " 'X': ['race',\n",
       "  'gender',\n",
       "  'age',\n",
       "  'weight',\n",
       "  'admission_type_id',\n",
       "  'time_in_hospital',\n",
       "  'medical_specialty',\n",
       "  'num_lab_procedures',\n",
       "  'num_procedures',\n",
       "  'num_medications',\n",
       "  'number_outpatient',\n",
       "  'number_emergency',\n",
       "  'number_inpatient',\n",
       "  'diag_1',\n",
       "  'diag_2',\n",
       "  'diag_3',\n",
       "  'number_diagnoses',\n",
       "  'insulin'],\n",
       " 'variables': ['id',\n",
       "  'patient_nbr',\n",
       "  'race',\n",
       "  'gender',\n",
       "  'age',\n",
       "  'weight',\n",
       "  'admission_type_id',\n",
       "  'discharge_disposition_id',\n",
       "  'admission_source_id',\n",
       "  'time_in_hospital',\n",
       "  'payer_code',\n",
       "  'medical_specialty',\n",
       "  'num_lab_procedures',\n",
       "  'num_procedures',\n",
       "  'num_medications',\n",
       "  'number_outpatient',\n",
       "  'number_emergency',\n",
       "  'number_inpatient',\n",
       "  'diag_1',\n",
       "  'diag_2',\n",
       "  'diag_3',\n",
       "  'number_diagnoses',\n",
       "  'max_glu_serum',\n",
       "  'A1Cresult',\n",
       "  'metformin',\n",
       "  'repaglinide',\n",
       "  'nateglinide',\n",
       "  'chlorpropamide',\n",
       "  'glimepiride',\n",
       "  'acetohexamide',\n",
       "  'glipizide',\n",
       "  'glyburide',\n",
       "  'tolbutamide',\n",
       "  'pioglitazone',\n",
       "  'rosiglitazone',\n",
       "  'acarbose',\n",
       "  'miglitol',\n",
       "  'troglitazone',\n",
       "  'tolazamide',\n",
       "  'examide',\n",
       "  'citoglipton',\n",
       "  'insulin',\n",
       "  'glyburide-metformin',\n",
       "  'glipizide-metformin',\n",
       "  'glimepiride-pioglitazone',\n",
       "  'metformin-rosiglitazone',\n",
       "  'metformin-pioglitazone',\n",
       "  'change',\n",
       "  'diabetesMed',\n",
       "  'readmitted'],\n",
       " 'model_execution_time': 1501.5590925216675,\n",
       " 'models': 0      GLM_grid_1_AutoML_20190426_094030_model_1\n",
       " 1      GBM_grid_1_AutoML_20190426_094030_model_2\n",
       " 2     GBM_grid_1_AutoML_20190426_094030_model_35\n",
       " 3     GBM_grid_1_AutoML_20190426_094030_model_36\n",
       " 4     GBM_grid_1_AutoML_20190426_094030_model_12\n",
       " 5     GBM_grid_1_AutoML_20190426_094030_model_23\n",
       " 6      GBM_grid_1_AutoML_20190426_094030_model_3\n",
       " 7     GBM_grid_1_AutoML_20190426_094030_model_15\n",
       " 8      GBM_grid_1_AutoML_20190426_094030_model_7\n",
       " 9     GBM_grid_1_AutoML_20190426_094030_model_43\n",
       " 10    GBM_grid_1_AutoML_20190426_094030_model_37\n",
       " 11    GBM_grid_1_AutoML_20190426_094030_model_17\n",
       " 12    GBM_grid_1_AutoML_20190426_094030_model_29\n",
       " 13                  XRT_1_AutoML_20190426_094030\n",
       " 14    GBM_grid_1_AutoML_20190426_094030_model_13\n",
       " 15    GBM_grid_1_AutoML_20190426_094030_model_18\n",
       " 16                  DRF_1_AutoML_20190426_094030\n",
       " 17    GBM_grid_1_AutoML_20190426_094030_model_28\n",
       " 18     GBM_grid_1_AutoML_20190426_094030_model_8\n",
       " 19    GBM_grid_1_AutoML_20190426_094030_model_31\n",
       " 20     GBM_grid_1_AutoML_20190426_094030_model_6\n",
       " 21    GBM_grid_1_AutoML_20190426_094030_model_30\n",
       " 22    GBM_grid_1_AutoML_20190426_094030_model_42\n",
       " 23    GBM_grid_1_AutoML_20190426_094030_model_10\n",
       " 24    GBM_grid_1_AutoML_20190426_094030_model_20\n",
       " 25     GBM_grid_1_AutoML_20190426_094030_model_5\n",
       " 26    GBM_grid_1_AutoML_20190426_094030_model_40\n",
       " 27    GBM_grid_1_AutoML_20190426_094030_model_27\n",
       " 28                  GBM_5_AutoML_20190426_094030\n",
       " 29                  GBM_1_AutoML_20190426_094030\n",
       " 30                  GBM_2_AutoML_20190426_094030\n",
       " 31     GBM_grid_1_AutoML_20190426_094030_model_4\n",
       " 32    GBM_grid_1_AutoML_20190426_094030_model_34\n",
       " 33    GBM_grid_1_AutoML_20190426_094030_model_33\n",
       " 34    GBM_grid_1_AutoML_20190426_094030_model_38\n",
       " 35     GBM_grid_1_AutoML_20190426_094030_model_9\n",
       " 36                  GBM_3_AutoML_20190426_094030\n",
       " 37    GBM_grid_1_AutoML_20190426_094030_model_26\n",
       " 38    GBM_grid_1_AutoML_20190426_094030_model_21\n",
       " 39                  GBM_4_AutoML_20190426_094030\n",
       " 40    GBM_grid_1_AutoML_20190426_094030_model_41\n",
       " 41    GBM_grid_1_AutoML_20190426_094030_model_22\n",
       " 42    GBM_grid_1_AutoML_20190426_094030_model_25\n",
       " 43    GBM_grid_1_AutoML_20190426_094030_model_24\n",
       " 44    GBM_grid_1_AutoML_20190426_094030_model_14\n",
       " 45     GBM_grid_1_AutoML_20190426_094030_model_1\n",
       " 46    GBM_grid_1_AutoML_20190426_094030_model_39\n",
       " 47    GBM_grid_1_AutoML_20190426_094030_model_16\n",
       " 48    GBM_grid_1_AutoML_20190426_094030_model_11\n",
       " 49    GBM_grid_1_AutoML_20190426_094030_model_19\n",
       " 50    GBM_grid_1_AutoML_20190426_094030_model_32\n",
       " Name: model_id, dtype: object}"
      ]
     },
     "execution_count": 61,
     "metadata": {},
     "output_type": "execute_result"
    }
   ],
   "source": [
    "meta_data"
   ]
  },
  {
   "cell_type": "code",
   "execution_count": 62,
   "metadata": {
    "scrolled": true
   },
   "outputs": [
    {
     "data": {
      "text/plain": [
       "dict"
      ]
     },
     "execution_count": 62,
     "metadata": {},
     "output_type": "execute_result"
    }
   ],
   "source": [
    "type(meta_data)"
   ]
  },
  {
   "cell_type": "code",
   "execution_count": 63,
   "metadata": {},
   "outputs": [],
   "source": [
    "##converting meta data into csv files\n",
    "\n",
    "## A list of the keys of dictionary. Convert dictionary to list and then into panda Dataframe. Save the dataframe in a csv file.\n",
    "\n",
    "list_keys = [ k for k in meta_data ]\n",
    " \n",
    "## or a list of the values\n",
    "list_values = [ v for v in meta_data.values() ]\n",
    " \n",
    "## or just a list of the list of key value pairs\n",
    "list_key_value = [ [k,v] for k, v in meta_data.items() ]\n",
    "\n",
    "metaData_stats=run_id+'_metadata.csv'\n",
    "df1 = pd.DataFrame(list_key_value)\n",
    "df1.to_csv(metaData_stats)"
   ]
  },
  {
   "cell_type": "markdown",
   "metadata": {},
   "source": [
    "## Find all parameters for all the models in the aml leaderboard"
   ]
  },
  {
   "cell_type": "code",
   "execution_count": 64,
   "metadata": {},
   "outputs": [
    {
     "data": {
      "text/html": [
       "<div>\n",
       "<style scoped>\n",
       "    .dataframe tbody tr th:only-of-type {\n",
       "        vertical-align: middle;\n",
       "    }\n",
       "\n",
       "    .dataframe tbody tr th {\n",
       "        vertical-align: top;\n",
       "    }\n",
       "\n",
       "    .dataframe thead th {\n",
       "        text-align: right;\n",
       "    }\n",
       "</style>\n",
       "<table border=\"1\" class=\"dataframe\">\n",
       "  <thead>\n",
       "    <tr style=\"text-align: right;\">\n",
       "      <th></th>\n",
       "      <th>model_id</th>\n",
       "      <th>auc</th>\n",
       "      <th>logloss</th>\n",
       "      <th>mean_per_class_error</th>\n",
       "      <th>rmse</th>\n",
       "      <th>mse</th>\n",
       "    </tr>\n",
       "  </thead>\n",
       "  <tbody>\n",
       "    <tr>\n",
       "      <th>0</th>\n",
       "      <td>GLM_grid_1_AutoML_20190426_094030_model_1</td>\n",
       "      <td>0.703705</td>\n",
       "      <td>0.425909</td>\n",
       "      <td>0.466813</td>\n",
       "      <td>0.363647</td>\n",
       "      <td>0.132239</td>\n",
       "    </tr>\n",
       "    <tr>\n",
       "      <th>1</th>\n",
       "      <td>GBM_grid_1_AutoML_20190426_094030_model_2</td>\n",
       "      <td>0.702385</td>\n",
       "      <td>0.435839</td>\n",
       "      <td>0.470784</td>\n",
       "      <td>0.368415</td>\n",
       "      <td>0.135729</td>\n",
       "    </tr>\n",
       "    <tr>\n",
       "      <th>2</th>\n",
       "      <td>GBM_grid_1_AutoML_20190426_094030_model_35</td>\n",
       "      <td>0.697550</td>\n",
       "      <td>0.447750</td>\n",
       "      <td>0.466529</td>\n",
       "      <td>0.373999</td>\n",
       "      <td>0.139875</td>\n",
       "    </tr>\n",
       "    <tr>\n",
       "      <th>3</th>\n",
       "      <td>GBM_grid_1_AutoML_20190426_094030_model_36</td>\n",
       "      <td>0.695079</td>\n",
       "      <td>0.439797</td>\n",
       "      <td>0.467363</td>\n",
       "      <td>0.370171</td>\n",
       "      <td>0.137026</td>\n",
       "    </tr>\n",
       "    <tr>\n",
       "      <th>4</th>\n",
       "      <td>GBM_grid_1_AutoML_20190426_094030_model_12</td>\n",
       "      <td>0.695042</td>\n",
       "      <td>0.443372</td>\n",
       "      <td>0.467618</td>\n",
       "      <td>0.371787</td>\n",
       "      <td>0.138226</td>\n",
       "    </tr>\n",
       "    <tr>\n",
       "      <th>5</th>\n",
       "      <td>GBM_grid_1_AutoML_20190426_094030_model_23</td>\n",
       "      <td>0.693969</td>\n",
       "      <td>0.444006</td>\n",
       "      <td>0.470349</td>\n",
       "      <td>0.372114</td>\n",
       "      <td>0.138469</td>\n",
       "    </tr>\n",
       "    <tr>\n",
       "      <th>6</th>\n",
       "      <td>GBM_grid_1_AutoML_20190426_094030_model_3</td>\n",
       "      <td>0.693460</td>\n",
       "      <td>0.440833</td>\n",
       "      <td>0.474461</td>\n",
       "      <td>0.370603</td>\n",
       "      <td>0.137347</td>\n",
       "    </tr>\n",
       "    <tr>\n",
       "      <th>7</th>\n",
       "      <td>GBM_grid_1_AutoML_20190426_094030_model_15</td>\n",
       "      <td>0.690962</td>\n",
       "      <td>0.439854</td>\n",
       "      <td>0.472897</td>\n",
       "      <td>0.370152</td>\n",
       "      <td>0.137013</td>\n",
       "    </tr>\n",
       "    <tr>\n",
       "      <th>8</th>\n",
       "      <td>GBM_grid_1_AutoML_20190426_094030_model_7</td>\n",
       "      <td>0.689906</td>\n",
       "      <td>0.435130</td>\n",
       "      <td>0.469288</td>\n",
       "      <td>0.368060</td>\n",
       "      <td>0.135468</td>\n",
       "    </tr>\n",
       "    <tr>\n",
       "      <th>9</th>\n",
       "      <td>GBM_grid_1_AutoML_20190426_094030_model_43</td>\n",
       "      <td>0.689141</td>\n",
       "      <td>0.431051</td>\n",
       "      <td>0.471447</td>\n",
       "      <td>0.365936</td>\n",
       "      <td>0.133909</td>\n",
       "    </tr>\n",
       "    <tr>\n",
       "      <th>10</th>\n",
       "      <td>GBM_grid_1_AutoML_20190426_094030_model_37</td>\n",
       "      <td>0.684902</td>\n",
       "      <td>0.465939</td>\n",
       "      <td>0.475064</td>\n",
       "      <td>0.381454</td>\n",
       "      <td>0.145507</td>\n",
       "    </tr>\n",
       "    <tr>\n",
       "      <th>11</th>\n",
       "      <td>GBM_grid_1_AutoML_20190426_094030_model_17</td>\n",
       "      <td>0.682951</td>\n",
       "      <td>0.434567</td>\n",
       "      <td>0.475387</td>\n",
       "      <td>0.367127</td>\n",
       "      <td>0.134782</td>\n",
       "    </tr>\n",
       "    <tr>\n",
       "      <th>12</th>\n",
       "      <td>GBM_grid_1_AutoML_20190426_094030_model_29</td>\n",
       "      <td>0.681419</td>\n",
       "      <td>0.434835</td>\n",
       "      <td>0.477810</td>\n",
       "      <td>0.367549</td>\n",
       "      <td>0.135092</td>\n",
       "    </tr>\n",
       "    <tr>\n",
       "      <th>13</th>\n",
       "      <td>XRT_1_AutoML_20190426_094030</td>\n",
       "      <td>0.680241</td>\n",
       "      <td>0.438073</td>\n",
       "      <td>0.469218</td>\n",
       "      <td>0.368185</td>\n",
       "      <td>0.135560</td>\n",
       "    </tr>\n",
       "    <tr>\n",
       "      <th>14</th>\n",
       "      <td>GBM_grid_1_AutoML_20190426_094030_model_13</td>\n",
       "      <td>0.679420</td>\n",
       "      <td>0.440798</td>\n",
       "      <td>0.476942</td>\n",
       "      <td>0.370864</td>\n",
       "      <td>0.137540</td>\n",
       "    </tr>\n",
       "    <tr>\n",
       "      <th>15</th>\n",
       "      <td>GBM_grid_1_AutoML_20190426_094030_model_18</td>\n",
       "      <td>0.679187</td>\n",
       "      <td>0.439262</td>\n",
       "      <td>0.481424</td>\n",
       "      <td>0.370061</td>\n",
       "      <td>0.136945</td>\n",
       "    </tr>\n",
       "    <tr>\n",
       "      <th>16</th>\n",
       "      <td>DRF_1_AutoML_20190426_094030</td>\n",
       "      <td>0.679130</td>\n",
       "      <td>0.464316</td>\n",
       "      <td>0.478442</td>\n",
       "      <td>0.368478</td>\n",
       "      <td>0.135776</td>\n",
       "    </tr>\n",
       "    <tr>\n",
       "      <th>17</th>\n",
       "      <td>GBM_grid_1_AutoML_20190426_094030_model_28</td>\n",
       "      <td>0.679014</td>\n",
       "      <td>0.444338</td>\n",
       "      <td>0.473706</td>\n",
       "      <td>0.372343</td>\n",
       "      <td>0.138640</td>\n",
       "    </tr>\n",
       "    <tr>\n",
       "      <th>18</th>\n",
       "      <td>GBM_grid_1_AutoML_20190426_094030_model_8</td>\n",
       "      <td>0.677832</td>\n",
       "      <td>0.440068</td>\n",
       "      <td>0.478487</td>\n",
       "      <td>0.370266</td>\n",
       "      <td>0.137097</td>\n",
       "    </tr>\n",
       "    <tr>\n",
       "      <th>19</th>\n",
       "      <td>GBM_grid_1_AutoML_20190426_094030_model_31</td>\n",
       "      <td>0.677145</td>\n",
       "      <td>0.443775</td>\n",
       "      <td>0.478792</td>\n",
       "      <td>0.371935</td>\n",
       "      <td>0.138335</td>\n",
       "    </tr>\n",
       "    <tr>\n",
       "      <th>20</th>\n",
       "      <td>GBM_grid_1_AutoML_20190426_094030_model_6</td>\n",
       "      <td>0.675654</td>\n",
       "      <td>0.465199</td>\n",
       "      <td>0.471907</td>\n",
       "      <td>0.381163</td>\n",
       "      <td>0.145285</td>\n",
       "    </tr>\n",
       "    <tr>\n",
       "      <th>21</th>\n",
       "      <td>GBM_grid_1_AutoML_20190426_094030_model_30</td>\n",
       "      <td>0.671420</td>\n",
       "      <td>0.465376</td>\n",
       "      <td>0.468803</td>\n",
       "      <td>0.381232</td>\n",
       "      <td>0.145338</td>\n",
       "    </tr>\n",
       "    <tr>\n",
       "      <th>22</th>\n",
       "      <td>GBM_grid_1_AutoML_20190426_094030_model_42</td>\n",
       "      <td>0.669985</td>\n",
       "      <td>0.465758</td>\n",
       "      <td>0.474808</td>\n",
       "      <td>0.381382</td>\n",
       "      <td>0.145453</td>\n",
       "    </tr>\n",
       "    <tr>\n",
       "      <th>23</th>\n",
       "      <td>GBM_grid_1_AutoML_20190426_094030_model_10</td>\n",
       "      <td>0.669931</td>\n",
       "      <td>0.466326</td>\n",
       "      <td>0.480531</td>\n",
       "      <td>0.381603</td>\n",
       "      <td>0.145621</td>\n",
       "    </tr>\n",
       "    <tr>\n",
       "      <th>24</th>\n",
       "      <td>GBM_grid_1_AutoML_20190426_094030_model_20</td>\n",
       "      <td>0.669912</td>\n",
       "      <td>0.466296</td>\n",
       "      <td>0.480659</td>\n",
       "      <td>0.381592</td>\n",
       "      <td>0.145612</td>\n",
       "    </tr>\n",
       "    <tr>\n",
       "      <th>25</th>\n",
       "      <td>GBM_grid_1_AutoML_20190426_094030_model_5</td>\n",
       "      <td>0.669592</td>\n",
       "      <td>0.442890</td>\n",
       "      <td>0.483120</td>\n",
       "      <td>0.369962</td>\n",
       "      <td>0.136872</td>\n",
       "    </tr>\n",
       "    <tr>\n",
       "      <th>26</th>\n",
       "      <td>GBM_grid_1_AutoML_20190426_094030_model_40</td>\n",
       "      <td>0.669262</td>\n",
       "      <td>0.440487</td>\n",
       "      <td>0.478238</td>\n",
       "      <td>0.370313</td>\n",
       "      <td>0.137132</td>\n",
       "    </tr>\n",
       "    <tr>\n",
       "      <th>27</th>\n",
       "      <td>GBM_grid_1_AutoML_20190426_094030_model_27</td>\n",
       "      <td>0.668641</td>\n",
       "      <td>0.442763</td>\n",
       "      <td>0.473240</td>\n",
       "      <td>0.369955</td>\n",
       "      <td>0.136866</td>\n",
       "    </tr>\n",
       "    <tr>\n",
       "      <th>28</th>\n",
       "      <td>GBM_5_AutoML_20190426_094030</td>\n",
       "      <td>0.667321</td>\n",
       "      <td>0.446633</td>\n",
       "      <td>0.481304</td>\n",
       "      <td>0.371134</td>\n",
       "      <td>0.137740</td>\n",
       "    </tr>\n",
       "    <tr>\n",
       "      <th>29</th>\n",
       "      <td>GBM_1_AutoML_20190426_094030</td>\n",
       "      <td>0.666365</td>\n",
       "      <td>0.444330</td>\n",
       "      <td>0.485872</td>\n",
       "      <td>0.371154</td>\n",
       "      <td>0.137755</td>\n",
       "    </tr>\n",
       "    <tr>\n",
       "      <th>30</th>\n",
       "      <td>GBM_2_AutoML_20190426_094030</td>\n",
       "      <td>0.663971</td>\n",
       "      <td>0.445600</td>\n",
       "      <td>0.489869</td>\n",
       "      <td>0.371382</td>\n",
       "      <td>0.137925</td>\n",
       "    </tr>\n",
       "    <tr>\n",
       "      <th>31</th>\n",
       "      <td>GBM_grid_1_AutoML_20190426_094030_model_4</td>\n",
       "      <td>0.663940</td>\n",
       "      <td>0.441917</td>\n",
       "      <td>0.480495</td>\n",
       "      <td>0.369958</td>\n",
       "      <td>0.136869</td>\n",
       "    </tr>\n",
       "    <tr>\n",
       "      <th>32</th>\n",
       "      <td>GBM_grid_1_AutoML_20190426_094030_model_34</td>\n",
       "      <td>0.663361</td>\n",
       "      <td>0.445213</td>\n",
       "      <td>0.483107</td>\n",
       "      <td>0.372487</td>\n",
       "      <td>0.138747</td>\n",
       "    </tr>\n",
       "    <tr>\n",
       "      <th>33</th>\n",
       "      <td>GBM_grid_1_AutoML_20190426_094030_model_33</td>\n",
       "      <td>0.661874</td>\n",
       "      <td>0.460067</td>\n",
       "      <td>0.484247</td>\n",
       "      <td>0.375932</td>\n",
       "      <td>0.141325</td>\n",
       "    </tr>\n",
       "    <tr>\n",
       "      <th>34</th>\n",
       "      <td>GBM_grid_1_AutoML_20190426_094030_model_38</td>\n",
       "      <td>0.661204</td>\n",
       "      <td>0.448106</td>\n",
       "      <td>0.478188</td>\n",
       "      <td>0.371814</td>\n",
       "      <td>0.138245</td>\n",
       "    </tr>\n",
       "    <tr>\n",
       "      <th>35</th>\n",
       "      <td>GBM_grid_1_AutoML_20190426_094030_model_9</td>\n",
       "      <td>0.659387</td>\n",
       "      <td>0.441968</td>\n",
       "      <td>0.484881</td>\n",
       "      <td>0.370809</td>\n",
       "      <td>0.137499</td>\n",
       "    </tr>\n",
       "    <tr>\n",
       "      <th>36</th>\n",
       "      <td>GBM_3_AutoML_20190426_094030</td>\n",
       "      <td>0.657757</td>\n",
       "      <td>0.452432</td>\n",
       "      <td>0.486574</td>\n",
       "      <td>0.373681</td>\n",
       "      <td>0.139638</td>\n",
       "    </tr>\n",
       "    <tr>\n",
       "      <th>37</th>\n",
       "      <td>GBM_grid_1_AutoML_20190426_094030_model_26</td>\n",
       "      <td>0.656817</td>\n",
       "      <td>0.443413</td>\n",
       "      <td>0.487774</td>\n",
       "      <td>0.371570</td>\n",
       "      <td>0.138064</td>\n",
       "    </tr>\n",
       "    <tr>\n",
       "      <th>38</th>\n",
       "      <td>GBM_grid_1_AutoML_20190426_094030_model_21</td>\n",
       "      <td>0.655654</td>\n",
       "      <td>0.452334</td>\n",
       "      <td>0.489898</td>\n",
       "      <td>0.373575</td>\n",
       "      <td>0.139558</td>\n",
       "    </tr>\n",
       "    <tr>\n",
       "      <th>39</th>\n",
       "      <td>GBM_4_AutoML_20190426_094030</td>\n",
       "      <td>0.648263</td>\n",
       "      <td>0.462656</td>\n",
       "      <td>0.490925</td>\n",
       "      <td>0.376062</td>\n",
       "      <td>0.141423</td>\n",
       "    </tr>\n",
       "    <tr>\n",
       "      <th>40</th>\n",
       "      <td>GBM_grid_1_AutoML_20190426_094030_model_41</td>\n",
       "      <td>0.646965</td>\n",
       "      <td>0.461652</td>\n",
       "      <td>0.490719</td>\n",
       "      <td>0.376567</td>\n",
       "      <td>0.141802</td>\n",
       "    </tr>\n",
       "    <tr>\n",
       "      <th>41</th>\n",
       "      <td>GBM_grid_1_AutoML_20190426_094030_model_22</td>\n",
       "      <td>0.644742</td>\n",
       "      <td>0.467708</td>\n",
       "      <td>0.487980</td>\n",
       "      <td>0.377291</td>\n",
       "      <td>0.142349</td>\n",
       "    </tr>\n",
       "    <tr>\n",
       "      <th>42</th>\n",
       "      <td>GBM_grid_1_AutoML_20190426_094030_model_25</td>\n",
       "      <td>0.638375</td>\n",
       "      <td>0.458045</td>\n",
       "      <td>0.491167</td>\n",
       "      <td>0.376131</td>\n",
       "      <td>0.141475</td>\n",
       "    </tr>\n",
       "    <tr>\n",
       "      <th>43</th>\n",
       "      <td>GBM_grid_1_AutoML_20190426_094030_model_24</td>\n",
       "      <td>0.630601</td>\n",
       "      <td>0.533662</td>\n",
       "      <td>0.498605</td>\n",
       "      <td>0.392802</td>\n",
       "      <td>0.154293</td>\n",
       "    </tr>\n",
       "    <tr>\n",
       "      <th>44</th>\n",
       "      <td>GBM_grid_1_AutoML_20190426_094030_model_14</td>\n",
       "      <td>0.625352</td>\n",
       "      <td>0.555038</td>\n",
       "      <td>0.496152</td>\n",
       "      <td>0.397216</td>\n",
       "      <td>0.157780</td>\n",
       "    </tr>\n",
       "    <tr>\n",
       "      <th>45</th>\n",
       "      <td>GBM_grid_1_AutoML_20190426_094030_model_1</td>\n",
       "      <td>0.624356</td>\n",
       "      <td>0.561625</td>\n",
       "      <td>0.494930</td>\n",
       "      <td>0.396968</td>\n",
       "      <td>0.157583</td>\n",
       "    </tr>\n",
       "    <tr>\n",
       "      <th>46</th>\n",
       "      <td>GBM_grid_1_AutoML_20190426_094030_model_39</td>\n",
       "      <td>0.603108</td>\n",
       "      <td>0.670781</td>\n",
       "      <td>0.499015</td>\n",
       "      <td>0.416901</td>\n",
       "      <td>0.173807</td>\n",
       "    </tr>\n",
       "    <tr>\n",
       "      <th>47</th>\n",
       "      <td>GBM_grid_1_AutoML_20190426_094030_model_16</td>\n",
       "      <td>0.600456</td>\n",
       "      <td>0.799035</td>\n",
       "      <td>0.500000</td>\n",
       "      <td>0.430049</td>\n",
       "      <td>0.184942</td>\n",
       "    </tr>\n",
       "    <tr>\n",
       "      <th>48</th>\n",
       "      <td>GBM_grid_1_AutoML_20190426_094030_model_11</td>\n",
       "      <td>0.598721</td>\n",
       "      <td>0.708536</td>\n",
       "      <td>0.495756</td>\n",
       "      <td>0.420055</td>\n",
       "      <td>0.176446</td>\n",
       "    </tr>\n",
       "    <tr>\n",
       "      <th>49</th>\n",
       "      <td>GBM_grid_1_AutoML_20190426_094030_model_19</td>\n",
       "      <td>0.589516</td>\n",
       "      <td>1.356241</td>\n",
       "      <td>0.500000</td>\n",
       "      <td>0.455749</td>\n",
       "      <td>0.207707</td>\n",
       "    </tr>\n",
       "    <tr>\n",
       "      <th>50</th>\n",
       "      <td>GBM_grid_1_AutoML_20190426_094030_model_32</td>\n",
       "      <td>0.588469</td>\n",
       "      <td>0.789748</td>\n",
       "      <td>0.500000</td>\n",
       "      <td>0.429941</td>\n",
       "      <td>0.184849</td>\n",
       "    </tr>\n",
       "  </tbody>\n",
       "</table>\n",
       "</div>"
      ],
      "text/plain": [
       "                                      model_id       auc   logloss  \\\n",
       "0    GLM_grid_1_AutoML_20190426_094030_model_1  0.703705  0.425909   \n",
       "1    GBM_grid_1_AutoML_20190426_094030_model_2  0.702385  0.435839   \n",
       "2   GBM_grid_1_AutoML_20190426_094030_model_35  0.697550  0.447750   \n",
       "3   GBM_grid_1_AutoML_20190426_094030_model_36  0.695079  0.439797   \n",
       "4   GBM_grid_1_AutoML_20190426_094030_model_12  0.695042  0.443372   \n",
       "5   GBM_grid_1_AutoML_20190426_094030_model_23  0.693969  0.444006   \n",
       "6    GBM_grid_1_AutoML_20190426_094030_model_3  0.693460  0.440833   \n",
       "7   GBM_grid_1_AutoML_20190426_094030_model_15  0.690962  0.439854   \n",
       "8    GBM_grid_1_AutoML_20190426_094030_model_7  0.689906  0.435130   \n",
       "9   GBM_grid_1_AutoML_20190426_094030_model_43  0.689141  0.431051   \n",
       "10  GBM_grid_1_AutoML_20190426_094030_model_37  0.684902  0.465939   \n",
       "11  GBM_grid_1_AutoML_20190426_094030_model_17  0.682951  0.434567   \n",
       "12  GBM_grid_1_AutoML_20190426_094030_model_29  0.681419  0.434835   \n",
       "13                XRT_1_AutoML_20190426_094030  0.680241  0.438073   \n",
       "14  GBM_grid_1_AutoML_20190426_094030_model_13  0.679420  0.440798   \n",
       "15  GBM_grid_1_AutoML_20190426_094030_model_18  0.679187  0.439262   \n",
       "16                DRF_1_AutoML_20190426_094030  0.679130  0.464316   \n",
       "17  GBM_grid_1_AutoML_20190426_094030_model_28  0.679014  0.444338   \n",
       "18   GBM_grid_1_AutoML_20190426_094030_model_8  0.677832  0.440068   \n",
       "19  GBM_grid_1_AutoML_20190426_094030_model_31  0.677145  0.443775   \n",
       "20   GBM_grid_1_AutoML_20190426_094030_model_6  0.675654  0.465199   \n",
       "21  GBM_grid_1_AutoML_20190426_094030_model_30  0.671420  0.465376   \n",
       "22  GBM_grid_1_AutoML_20190426_094030_model_42  0.669985  0.465758   \n",
       "23  GBM_grid_1_AutoML_20190426_094030_model_10  0.669931  0.466326   \n",
       "24  GBM_grid_1_AutoML_20190426_094030_model_20  0.669912  0.466296   \n",
       "25   GBM_grid_1_AutoML_20190426_094030_model_5  0.669592  0.442890   \n",
       "26  GBM_grid_1_AutoML_20190426_094030_model_40  0.669262  0.440487   \n",
       "27  GBM_grid_1_AutoML_20190426_094030_model_27  0.668641  0.442763   \n",
       "28                GBM_5_AutoML_20190426_094030  0.667321  0.446633   \n",
       "29                GBM_1_AutoML_20190426_094030  0.666365  0.444330   \n",
       "30                GBM_2_AutoML_20190426_094030  0.663971  0.445600   \n",
       "31   GBM_grid_1_AutoML_20190426_094030_model_4  0.663940  0.441917   \n",
       "32  GBM_grid_1_AutoML_20190426_094030_model_34  0.663361  0.445213   \n",
       "33  GBM_grid_1_AutoML_20190426_094030_model_33  0.661874  0.460067   \n",
       "34  GBM_grid_1_AutoML_20190426_094030_model_38  0.661204  0.448106   \n",
       "35   GBM_grid_1_AutoML_20190426_094030_model_9  0.659387  0.441968   \n",
       "36                GBM_3_AutoML_20190426_094030  0.657757  0.452432   \n",
       "37  GBM_grid_1_AutoML_20190426_094030_model_26  0.656817  0.443413   \n",
       "38  GBM_grid_1_AutoML_20190426_094030_model_21  0.655654  0.452334   \n",
       "39                GBM_4_AutoML_20190426_094030  0.648263  0.462656   \n",
       "40  GBM_grid_1_AutoML_20190426_094030_model_41  0.646965  0.461652   \n",
       "41  GBM_grid_1_AutoML_20190426_094030_model_22  0.644742  0.467708   \n",
       "42  GBM_grid_1_AutoML_20190426_094030_model_25  0.638375  0.458045   \n",
       "43  GBM_grid_1_AutoML_20190426_094030_model_24  0.630601  0.533662   \n",
       "44  GBM_grid_1_AutoML_20190426_094030_model_14  0.625352  0.555038   \n",
       "45   GBM_grid_1_AutoML_20190426_094030_model_1  0.624356  0.561625   \n",
       "46  GBM_grid_1_AutoML_20190426_094030_model_39  0.603108  0.670781   \n",
       "47  GBM_grid_1_AutoML_20190426_094030_model_16  0.600456  0.799035   \n",
       "48  GBM_grid_1_AutoML_20190426_094030_model_11  0.598721  0.708536   \n",
       "49  GBM_grid_1_AutoML_20190426_094030_model_19  0.589516  1.356241   \n",
       "50  GBM_grid_1_AutoML_20190426_094030_model_32  0.588469  0.789748   \n",
       "\n",
       "    mean_per_class_error      rmse       mse  \n",
       "0               0.466813  0.363647  0.132239  \n",
       "1               0.470784  0.368415  0.135729  \n",
       "2               0.466529  0.373999  0.139875  \n",
       "3               0.467363  0.370171  0.137026  \n",
       "4               0.467618  0.371787  0.138226  \n",
       "5               0.470349  0.372114  0.138469  \n",
       "6               0.474461  0.370603  0.137347  \n",
       "7               0.472897  0.370152  0.137013  \n",
       "8               0.469288  0.368060  0.135468  \n",
       "9               0.471447  0.365936  0.133909  \n",
       "10              0.475064  0.381454  0.145507  \n",
       "11              0.475387  0.367127  0.134782  \n",
       "12              0.477810  0.367549  0.135092  \n",
       "13              0.469218  0.368185  0.135560  \n",
       "14              0.476942  0.370864  0.137540  \n",
       "15              0.481424  0.370061  0.136945  \n",
       "16              0.478442  0.368478  0.135776  \n",
       "17              0.473706  0.372343  0.138640  \n",
       "18              0.478487  0.370266  0.137097  \n",
       "19              0.478792  0.371935  0.138335  \n",
       "20              0.471907  0.381163  0.145285  \n",
       "21              0.468803  0.381232  0.145338  \n",
       "22              0.474808  0.381382  0.145453  \n",
       "23              0.480531  0.381603  0.145621  \n",
       "24              0.480659  0.381592  0.145612  \n",
       "25              0.483120  0.369962  0.136872  \n",
       "26              0.478238  0.370313  0.137132  \n",
       "27              0.473240  0.369955  0.136866  \n",
       "28              0.481304  0.371134  0.137740  \n",
       "29              0.485872  0.371154  0.137755  \n",
       "30              0.489869  0.371382  0.137925  \n",
       "31              0.480495  0.369958  0.136869  \n",
       "32              0.483107  0.372487  0.138747  \n",
       "33              0.484247  0.375932  0.141325  \n",
       "34              0.478188  0.371814  0.138245  \n",
       "35              0.484881  0.370809  0.137499  \n",
       "36              0.486574  0.373681  0.139638  \n",
       "37              0.487774  0.371570  0.138064  \n",
       "38              0.489898  0.373575  0.139558  \n",
       "39              0.490925  0.376062  0.141423  \n",
       "40              0.490719  0.376567  0.141802  \n",
       "41              0.487980  0.377291  0.142349  \n",
       "42              0.491167  0.376131  0.141475  \n",
       "43              0.498605  0.392802  0.154293  \n",
       "44              0.496152  0.397216  0.157780  \n",
       "45              0.494930  0.396968  0.157583  \n",
       "46              0.499015  0.416901  0.173807  \n",
       "47              0.500000  0.430049  0.184942  \n",
       "48              0.495756  0.420055  0.176446  \n",
       "49              0.500000  0.455749  0.207707  \n",
       "50              0.500000  0.429941  0.184849  "
      ]
     },
     "execution_count": 64,
     "metadata": {},
     "output_type": "execute_result"
    }
   ],
   "source": [
    "aml_leaderboard_df"
   ]
  },
  {
   "cell_type": "code",
   "execution_count": 65,
   "metadata": {},
   "outputs": [
    {
     "name": "stdout",
     "output_type": "stream",
     "text": [
      "First Model:  GLM_grid_1_AutoML_20190426_094030_model_1\n"
     ]
    }
   ],
   "source": [
    "# How to access the first model name in the data frame w/o index\n",
    "\n",
    "print(\"First Model: \", aml_leaderboard_df['model_id'][0])  "
   ]
  },
  {
   "cell_type": "code",
   "execution_count": 66,
   "metadata": {},
   "outputs": [
    {
     "data": {
      "text/plain": [
       "dict"
      ]
     },
     "execution_count": 66,
     "metadata": {},
     "output_type": "execute_result"
    }
   ],
   "source": [
    "#declaring a dictionary to hold all the parameters for all the models predicted by the aml leaderboard\n",
    "leaderboard_params={}\n",
    "type(leaderboard_params)"
   ]
  },
  {
   "cell_type": "markdown",
   "metadata": {},
   "source": [
    "### Saving all parameters from all models in a JSON file/ CSV file."
   ]
  },
  {
   "cell_type": "code",
   "execution_count": 68,
   "metadata": {},
   "outputs": [],
   "source": [
    "## for loop is used to store the model_id and it's corresponding parameters in a dictionary.\n",
    "   ## Stores on the parameters. Not the hyper parameters. For all models in the leaderboard.\n",
    "    ## Generating JSON files and CSV files.\n",
    "\n",
    "\n",
    "for i in range(0, len(aml_leaderboard_df)):\n",
    "    modelName= aml_leaderboard_df['model_id'][i]\n",
    "    testModel=h2o.get_model(modelName)\n",
    "    v_file=testModel.params\n",
    "    n=run_id+'_'+testModel.model_id+'_nonhy_parameter.json'\n",
    "    dict_to_json(v_file,n)\n",
    "    #testModelCSV=v_file\n",
    "    ##converting meta data into csv files\n",
    "    #list_keys = [ k for k in testModelCSV ]\n",
    "    ## or a list of the values\n",
    "    #list_values = [ v for v in testModelCSV.values() ]\n",
    "    ## or just a list of the list of key value pairs\n",
    "    #list_key_value = [ [k,v] for k, v in testModelCSV.items() ]\n",
    "    #metaData_stats=run_id+'_'+testModel.model_id+'_nonhy_parameter.csv'\n",
    "    #df1 = pd.DataFrame(list_key_value)\n",
    "    #df1.to_csv(metaData_stats)"
   ]
  },
  {
   "cell_type": "code",
   "execution_count": 69,
   "metadata": {},
   "outputs": [],
   "source": [
    "## Plot Learning curve for parameters\n",
    "gbm1= h2o.get_model(aml_leaderboard_df['model_id'][4])"
   ]
  },
  {
   "cell_type": "code",
   "execution_count": 70,
   "metadata": {},
   "outputs": [
    {
     "data": {
      "text/plain": [
       "h2o.estimators.gbm.H2OGradientBoostingEstimator"
      ]
     },
     "execution_count": 70,
     "metadata": {},
     "output_type": "execute_result"
    }
   ],
   "source": [
    "type(gbm1)"
   ]
  },
  {
   "cell_type": "code",
   "execution_count": 71,
   "metadata": {},
   "outputs": [
    {
     "data": {
      "text/plain": [
       "0.4364027481047325"
      ]
     },
     "execution_count": 71,
     "metadata": {},
     "output_type": "execute_result"
    }
   ],
   "source": [
    "gbmLogloss=gbm1.logloss()\n",
    "gbmLogloss"
   ]
  },
  {
   "cell_type": "code",
   "execution_count": 72,
   "metadata": {},
   "outputs": [
    {
     "data": {
      "image/png": "[encoded data removed]",
      "text/plain": [
       "<Figure size 432x288 with 1 Axes>"
      ]
     },
     "metadata": {
      "needs_background": "light"
     },
     "output_type": "display_data"
    }
   ],
   "source": [
    "gbm1.plot()"
   ]
  },
  {
   "cell_type": "markdown",
   "metadata": {},
   "source": [
    "#### Observation:\n",
    "With an increase in number of trees, log loss is decreasing. Hence, the accuracy is better when number of trees is less. "
   ]
  },
  {
   "cell_type": "code",
   "execution_count": 73,
   "metadata": {
    "scrolled": true
   },
   "outputs": [
    {
     "data": {
      "image/png": "[encoded data removed]",
      "text/plain": [
       "<Figure size 432x288 with 1 Axes>"
      ]
     },
     "metadata": {
      "needs_background": "light"
     },
     "output_type": "display_data"
    }
   ],
   "source": [
    "gbm1.plot(metric='auc')"
   ]
  },
  {
   "cell_type": "markdown",
   "metadata": {},
   "source": [
    "#### Observation:\n",
    "With an increase in number of trees, log loss is decreasing. Hence, the accuracy is better when number of trees is less. "
   ]
  },
  {
   "cell_type": "markdown",
   "metadata": {},
   "source": [
    "## Find the best Hyperparameters"
   ]
  },
  {
   "cell_type": "markdown",
   "metadata": {},
   "source": [
    "Hyperparameters for GBM are as follows:\n",
    "\n",
    "* n-trees : Build more trees so as to increase the validation set error\n",
    "* learn_rate: Ideally, should be less. Make learn_rate= 0.02. \n",
    "* learn_rate_annealing: Reduce learning rate with addition of each tree. Make learn_rate_annealing=0.995.\n",
    "    * To make it faster, make learn rate=0.05 and learn_rate_annealing=0.99\n",
    "* max_depth: Deeper  trees takes longer to train. Keep this less than 10.\n",
    "* sample_rate: Row sampling. Ideally, sample (70-80 percent of the data), ie, 0.7-0.8\n",
    "* col_sample_rate: Column sampling."
   ]
  },
  {
   "cell_type": "markdown",
   "metadata": {},
   "source": [
    "Hyperparameters for Random Forest is as follows:\n",
    "* n_estimators = number of trees in the foreset\n",
    "* max_features = max number of features considered for splitting a node\n",
    "* max_depth = max number of levels in each decision tree\n",
    "* min_samples_split = min number of data points placed in a node before the node is split\n",
    "* min_samples_leaf = min number of data points allowed in a leaf node\n",
    "* bootstrap = method for sampling data points (with or without replacement)"
   ]
  },
  {
   "attachments": {
    "image.png": {
     "image/png": "[encoded data removed]"
    }
   },
   "cell_type": "markdown",
   "metadata": {},
   "source": [
    "Hyperparameters for GLM is as follows:\n",
    "* tweedie_variance_power = When family=tweedie, this option can be used to specify the power for the tweedie variance. This option defaults to 0.\n",
    "The Tweedie distribution is parametrized by variance power p. It is defined for all p values except in the (0,1) interval and has the following distributions as special cases:\n",
    "<br/>\n",
    "p=0: Normal<br/>\n",
    "p=1: Poisson<br/>\n",
    "p∈(1,2): Compound Poisson, non-negative with mass at zero<br/>\n",
    "p=2: Gamma<br/>\n",
    "p=3: Gaussian<br/>\n",
    "p>2: Stable, with support on the positive reals\n",
    "<br/>\n",
    "* tweedie_link_power = Tweedie distributions are a family of distributions that include gamma, normal, Poisson and their combinations. This distribution is especially useful for modeling positive continuous variables with exact zeros. When family=tweedie, the tweedie_link_power option can be used to specify the power for the tweedie link function.\n",
    "![image.png](attachment:image.png)\n",
    "* alpha and lambda = To get the best possible model, GLM needs to find the optimal values of the regularization parameters α and λ. When performing regularization, penalties are introduced to the model buidling process to avoid overfitting, to reduce variance of the prediction error, and to handle correlated predictors. \n",
    "![image.png](attachment:image.png)\n",
    "* standarize: This option specifies whether to standardizes numeric columns to have zero mean and unit variance. Enabling this option produces standardized coefficient magnitudes in the model output.\n",
    "* missing_values_handling: This option is used to specify the way that the algorithm will treat missing values. <br/>\n",
    "If you have few columns with many NAs, you might accidentally be losing all your rows, so its better to exclude (skip) them.\n",
    "<br/>\n",
    "If you have many columns with a small fraction of uniformly distributed missing values, every row will likely have at least one missing value. In this case, impute the NAs (e.g., substitute the NAs with mean values) before modeling.\n",
    "* max_iterations= This option specifies the maximum allowed number of iterations (passes over data) during model training. the default is 50 if no lambda search; 10* number of lambdas otherwise\n",
    "* balance_classes= The balance_classes option can be used to balance the class distribution. When enabled, H2O will either undersample the majority classes or oversample the minority classes. Note that the resulting model will also correct the final probabilities (“undo the sampling”) using a monotonic transform, so the predicted probabilities of the first model will differ from a second model. However, because AUC only cares about ordering, it won’t be affected.\n",
    "* class_sampling_factors= By default, sampling factors will be automatically computed to obtain class balance during training. You can change this behavior using the class_sampling_factors option. This option sets an over/under-sampling ratio for each class (in lexicographic order). Note that this requires balance_classes=true.\n",
    "* max_after_balance_size= To reduce the data frame size, you can use the max_after_balance_size option. \n",
    "* max_runtime_secs= When building a model, this option specifes the maximum runtime in seconds that you want to allot in order to complete the model. If this maximum runtime is exceeded before the model build is completed, then the model will fail.\n",
    "<br/>\n",
    "Specifying max_runtime_secs=0 disables this option, thus allowing for an unlimited amount of runtime."
   ]
  },
  {
   "cell_type": "markdown",
   "metadata": {},
   "source": [
    "#### We try to check the plot between hyperparameter against its values to know the best value range. This was done with the help of database team."
   ]
  },
  {
   "cell_type": "markdown",
   "metadata": {},
   "source": [
    "## Finding Important hyperparameters using GridSearch in h2o"
   ]
  },
  {
   "cell_type": "code",
   "execution_count": 75,
   "metadata": {},
   "outputs": [],
   "source": [
    "train,valid,test = df.split_frame(ratios=[0.8,0.09],seed=123)"
   ]
  },
  {
   "cell_type": "code",
   "execution_count": 81,
   "metadata": {},
   "outputs": [
    {
     "name": "stdout",
     "output_type": "stream",
     "text": [
      "gbm Grid Build progress: |████████████████████████████████████████████████| 100%\n"
     ]
    },
    {
     "data": {
      "text/plain": [
       "0.6405943782211182"
      ]
     },
     "execution_count": 81,
     "metadata": {},
     "output_type": "execute_result"
    }
   ],
   "source": [
    "# Use same data as above\n",
    "from h2o.estimators.gbm import H2OGradientBoostingEstimator\n",
    "from h2o.grid.grid_search import H2OGridSearch\n",
    "\n",
    "# GBM hyperparameters\n",
    "gbm_params2 = {'learn_rate': [i * 0.01 for i in range(1, 11)],\n",
    "               'max_depth': list(range(3, 17)),\n",
    "               'sample_rate': [i * 0.1 for i in range(5, 11)],\n",
    "               'col_sample_rate': [i * 0.1 for i in range(4, 11)]\n",
    "             }\n",
    "\n",
    "# Search criteria\n",
    "search_criteria = {'strategy': 'RandomDiscrete', 'max_models': 36, 'seed': 1}\n",
    "\n",
    "# Train and validate a random grid of GBMs\n",
    "gbm_grid2 = H2OGridSearch(model=H2OGradientBoostingEstimator,\n",
    "                         grid_id='gbm_grid2',\n",
    "                         hyper_params=gbm_params2,\n",
    "                         search_criteria=search_criteria)\n",
    "gbm_grid2.train(x=predictors.columns, y=y,\n",
    "               training_frame=train,\n",
    "               validation_frame=valid,\n",
    "               ntrees=100,\n",
    "               seed=1)\n",
    "\n",
    "# Get the grid results, sorted by validation AUC\n",
    "gbm_gridperf2 = gbm_grid2.get_grid(sort_by='a_uc')\n",
    "gbm_gridperf2\n",
    "\n",
    "# Grab the top GBM model, chosen by validation AUC\n",
    "best_gbm2 = gbm_gridperf2.models[0]\n",
    "\n",
    "# Now let's evaluate the model performance on a test set\n",
    "# so we get an honest estimate of top model performance\n",
    "best_gbm_perf2 = best_gbm2.model_performance(test)\n",
    "\n",
    "best_gbm_perf2.auc()"
   ]
  },
  {
   "cell_type": "code",
   "execution_count": 82,
   "metadata": {},
   "outputs": [
    {
     "name": "stdout",
     "output_type": "stream",
     "text": [
      "         col_sample_rate learn_rate max_depth         sample_rate  \\\n",
      "0                    0.9        0.1        16                 0.5   \n",
      "1                    1.0        0.1         8  0.7000000000000001   \n",
      "2                    1.0       0.07        12  0.6000000000000001   \n",
      "3                    0.9        0.1        12  0.7000000000000001   \n",
      "4                    1.0       0.08         8                 0.8   \n",
      "5                    0.8       0.06         8                 0.9   \n",
      "6     0.6000000000000001       0.08         8  0.6000000000000001   \n",
      "7     0.7000000000000001       0.09         7  0.7000000000000001   \n",
      "8     0.6000000000000001        0.1        16  0.7000000000000001   \n",
      "9                    0.8       0.06        11                 0.8   \n",
      "10                   0.9       0.06         8                 0.9   \n",
      "11                   0.8       0.09        13                 1.0   \n",
      "12                   0.9       0.04        12                 1.0   \n",
      "13    0.6000000000000001       0.08        11                 0.8   \n",
      "14    0.7000000000000001       0.04        13                 0.9   \n",
      "15                   0.8       0.04        15                 0.8   \n",
      "16                   0.5       0.08         6                 0.5   \n",
      "17    0.7000000000000001       0.05        13                 0.9   \n",
      "18                   1.0       0.04        15                 0.5   \n",
      "19                   0.4       0.09         7                 0.9   \n",
      "20                   0.4       0.05        12  0.6000000000000001   \n",
      "21    0.6000000000000001       0.07         6                 0.5   \n",
      "22                   0.4       0.03        14                 1.0   \n",
      "23    0.7000000000000001       0.06         7                 0.8   \n",
      "24                   0.5       0.02        16                 0.5   \n",
      "25    0.6000000000000001        0.1         5                 0.8   \n",
      "26    0.7000000000000001       0.01        12  0.6000000000000001   \n",
      "27                   0.8       0.04         6                 0.5   \n",
      "28                   0.5        0.1         5  0.7000000000000001   \n",
      "29                   0.9       0.04         5                 1.0   \n",
      "30    0.6000000000000001       0.01         6                 0.5   \n",
      "31    0.7000000000000001       0.08         3                 0.8   \n",
      "32                   0.8       0.09         3                 0.9   \n",
      "33                   1.0       0.09         3                 0.5   \n",
      "34                   0.5       0.06         3  0.7000000000000001   \n",
      "35                   0.4       0.01         3  0.6000000000000001   \n",
      "\n",
      "             model_ids                 auc  \n",
      "0    gbm_grid2_model_9  0.6160326227278986  \n",
      "1   gbm_grid2_model_12  0.6172500760235932  \n",
      "2    gbm_grid2_model_5  0.6193215396355457  \n",
      "3   gbm_grid2_model_20  0.6200136412145415  \n",
      "4    gbm_grid2_model_3  0.6231329394450564  \n",
      "5    gbm_grid2_model_7  0.6243577440787662  \n",
      "6   gbm_grid2_model_27  0.6260415590861104  \n",
      "7   gbm_grid2_model_26  0.6263083588657854  \n",
      "8   gbm_grid2_model_32  0.6264096638896539  \n",
      "9   gbm_grid2_model_17  0.6265082793996144  \n",
      "10  gbm_grid2_model_14  0.6266777187758193  \n",
      "11  gbm_grid2_model_22  0.6287086603782245  \n",
      "12  gbm_grid2_model_36   0.628984783806114  \n",
      "13  gbm_grid2_model_11  0.6313318329431745  \n",
      "14   gbm_grid2_model_2   0.631798911858533  \n",
      "15  gbm_grid2_model_34  0.6329824772789865  \n",
      "16  gbm_grid2_model_15   0.633109601636372  \n",
      "17  gbm_grid2_model_30   0.634043759467089  \n",
      "18  gbm_grid2_model_19  0.6342567689686037  \n",
      "19  gbm_grid2_model_28  0.6394939697512164  \n",
      "20   gbm_grid2_model_4  0.6401541557651703  \n",
      "21   gbm_grid2_model_6  0.6415907147939043  \n",
      "22  gbm_grid2_model_29  0.6419163252777013  \n",
      "23  gbm_grid2_model_31  0.6439831270655466  \n",
      "24  gbm_grid2_model_33  0.6495540068736804  \n",
      "25  gbm_grid2_model_25  0.6502600939249977  \n",
      "26   gbm_grid2_model_1   0.650275513804737  \n",
      "27  gbm_grid2_model_13  0.6524620886119527  \n",
      "28  gbm_grid2_model_18  0.6539757470393831  \n",
      "29  gbm_grid2_model_35  0.6649722729046176  \n",
      "30  gbm_grid2_model_10  0.6712126623749196  \n",
      "31  gbm_grid2_model_16  0.6776248221334802  \n",
      "32  gbm_grid2_model_21  0.6779640594877444  \n",
      "33  gbm_grid2_model_24  0.6785464288992932  \n",
      "34   gbm_grid2_model_8  0.6817309926673093  \n",
      "35  gbm_grid2_model_23  0.6894350156063527  \n"
     ]
    },
    {
     "data": {
      "text/plain": []
     },
     "execution_count": 82,
     "metadata": {},
     "output_type": "execute_result"
    }
   ],
   "source": [
    "gbm_gridperf1 = gbm_grid2.get_grid(sort_by='auc')\n",
    "gbm_gridperf1"
   ]
  },
  {
   "cell_type": "markdown",
   "metadata": {},
   "source": [
    "## Last step"
   ]
  },
  {
   "cell_type": "code",
   "execution_count": 83,
   "metadata": {},
   "outputs": [
    {
     "name": "stdout",
     "output_type": "stream",
     "text": [
      "H2O session _sid_9c83 closed.\n"
     ]
    }
   ],
   "source": [
    "# in case of server error, run this.\n",
    "h2o.cluster().shutdown()"
   ]
  },
  {
   "cell_type": "markdown",
   "metadata": {},
   "source": [
    "# Citations\n",
    "* https://www.hindawi.com/journals/bmri/2014/781670/\n",
    "* https://www.kaggle.com/sudalairajkumar/getting-started-with-h2o\n",
    "* https://www.pythonforbeginners.com/dictionary/how-to-use-dictionaries-in-python/\n",
    "* https://github.com/h2oai/h2o-3/blob/master/h2o-docs/src/product/tutorials/gbm/gbmTuning.ipynb\n",
    "* http://h2o-release.s3.amazonaws.com/h2o/master/3233/docs-website/h2o-py/docs/h2o.model.html\n",
    "* https://github.com/nikbearbrown/CSYE_7245/tree/master/H2O\n",
    "* https://github.com/prabhuSub/Hyperparamter-Samples"
   ]
  },
  {
   "cell_type": "markdown",
   "metadata": {},
   "source": [
    "# Contributions\n",
    "By own: 45%\n",
    "External resource: 55%"
   ]
  },
  {
   "cell_type": "markdown",
   "metadata": {},
   "source": [
    "# Team Members:\n",
    "Team Name: DS01\n",
    " * Michelle Pradeep\n",
    "     * NUID: 001422140\n",
    "     * E-mail ID: pradeep.m@husky.neu.edu\n",
    " * Seemanthini Jois\n",
    "      * NUID: 001439942\n",
    "      * E-mail ID: jois.s@husky.neu.edu\n",
    " * Suraksha Jadhav\n",
    "      * NUID: 001430368\n",
    "      * E-mail ID: jadhav.su@husky.neu.edu"
   ]
  },
  {
   "cell_type": "markdown",
   "metadata": {},
   "source": [
    "# The MIT License\n",
    "\n",
    "\n",
    "Copyright (c)  2019 Michelle Pradeep, Seemanthini Jois, Suraksha Jadhav.\n",
    "\n",
    "Permission is hereby granted, free of charge, to any person obtaining a copy of this software and associated documentation files (the \"Software\"), to deal in the Software without restriction, including without limitation the rights to use, copy, modify, merge, publish, distribute, sublicense, and/or sell copies of the Software, and to permit persons to whom the Software is furnished to do so, subject to the following conditions:\n",
    "\n",
    "The above copyright notice and this permission notice shall be included in all copies or substantial portions of the Software.\n",
    "\n",
    "THE SOFTWARE IS PROVIDED \"AS IS\", WITHOUT WARRANTY OF ANY KIND, EXPRESS OR IMPLIED, INCLUDING BUT NOT LIMITED TO THE WARRANTIES OF MERCHANTABILITY, FITNESS FOR A PARTICULAR PURPOSE AND NONINFRINGEMENT. IN NO EVENT SHALL THE AUTHORS OR COPYRIGHT HOLDERS BE LIABLE FOR ANY CLAIM, DAMAGES OR OTHER LIABILITY, WHETHER IN AN ACTION OF CONTRACT, TORT OR OTHERWISE, ARISING FROM, OUT OF OR IN CONNECTION WITH THE SOFTWARE OR THE USE OR OTHER DEALINGS IN THE SOFTWARE."
   ]
  }
 ],
 "metadata": {
  "kernelspec": {
   "display_name": "Python 3",
   "language": "python",
   "name": "python3"
  },
  "language_info": {
   "codemirror_mode": {
    "name": "ipython",
    "version": 3
   },
   "file_extension": ".py",
   "mimetype": "text/x-python",
   "name": "python",
   "nbconvert_exporter": "python",
   "pygments_lexer": "ipython3",
   "version": "3.7.1"
  }
 },
 "nbformat": 4,
 "nbformat_minor": 2
}
